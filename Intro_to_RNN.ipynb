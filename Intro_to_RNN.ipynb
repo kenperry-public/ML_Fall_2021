{
 "cells": [
  {
   "cell_type": "code",
   "execution_count": 1,
   "metadata": {
    "slideshow": {
     "slide_type": "notes"
    }
   },
   "outputs": [
    {
     "data": {
      "text/latex": [
       "$$\n",
       "\\newcommand{\\x}{\\mathbf{x}}\n",
       "\\newcommand{\\tx}{\\tilde{\\x}}\n",
       "\\newcommand{\\y}{\\mathbf{y}}\n",
       "\\newcommand{\\b}{\\mathbf{b}}\n",
       "\\newcommand{\\c}{\\mathbf{c}}\n",
       "\\newcommand{\\e}{\\mathbf{e}}\n",
       "\\newcommand{\\z}{\\mathbf{z}}\n",
       "\\newcommand{\\h}{\\mathbf{h}}\n",
       "\\newcommand{\\u}{\\mathbf{u}}\n",
       "\\newcommand{\\v}{\\mathbf{v}}\n",
       "\\newcommand{\\w}{\\mathbf{w}}\n",
       "\\newcommand{\\W}{\\mathbf{W}}\n",
       "\\newcommand{\\X}{\\mathbf{X}}\n",
       "\\newcommand{\\KL}{\\mathbf{KL}}\n",
       "\\newcommand{\\E}{{\\mathbb{E}}}\n",
       "\\newcommand{\\ip}{\\mathbf{{(i)}}}\n",
       "%\n",
       "% Test set\n",
       "\\newcommand{\\xt}{\\underline{\\x}}\n",
       "\\newcommand{\\yt}{\\underline{\\y}}\n",
       "\\newcommand{\\Xt}{\\underline{\\X}}\n",
       "\\newcommand{\\perfm}{\\mathcal{P}}\n",
       "%\n",
       "% \\ll indexes a layer; we can change the actual letter\n",
       "\\newcommand{\\ll}{l}\n",
       "\\newcommand{\\llp}{{(\\ll)}}\n",
       "%\n",
       "\\newcommand{Thetam}{\\Theta_{-0}}\n",
       "\n",
       "% CNN\n",
       "\\newcommand{\\kernel}{\\mathbf{k}} \n",
       "\\newcommand{\\dim}{d}\n",
       "\\newcommand{\\idxspatial}{{\\text{idx}}}\n",
       "\\newcommand{\\summaxact}{\\text{max}}\n",
       "%\n",
       "%\n",
       "\n",
       "% RNN\n",
       "% \\tt indexes a time step\n",
       "\\newcommand{\\tt}{t}\n",
       "\\newcommand{\\tp}{{(\\tt)}}\n",
       "%\n",
       "%\n",
       "\n",
       "% LSTM\n",
       "\\newcommand{\\g}{\\mathbf{g}}\n",
       "\\newcommand{\\remember}{\\mathbf{remember}}\n",
       "\\newcommand{\\save}{\\mathbf{save}}\n",
       "\\newcommand{\\focus}{\\mathbf{focus}}\n",
       "%\n",
       "%\n",
       "% NLP\n",
       "\\newcommand{\\Vocab}{\\mathbf{V}}\n",
       "\\newcommand{\\v}{\\mathbf{v}}\n",
       "\\newcommand{\\offset}{o}\n",
       "\\newcommand{\\o}{o}\n",
       "\\newcommand{\\E}{\\mathbf{E}}\n",
       "%\n",
       "%\n",
       "\\newcommand{\\loss}{\\mathcal{L}}\n",
       "\\newcommand{\\cost}{\\mathcal{L}}\n",
       "%\n",
       "%                     \n",
       "\\newcommand{\\pdata}{p_\\text{data}}\n",
       "\\newcommand{\\pmodel}{p_\\text{model}}\n",
       "%\n",
       "% SVM\n",
       "\\newcommand{\\margin}{{\\mathbb{m}}}\n",
       "\\newcommand{\\lmk}{\\boldsymbol{\\ell}}\n",
       "%\n",
       "% Functions with arguments\n",
       "\\def\\xsy#1#2{#1^#2}\n",
       "\\def\\rand#1{\\tilde{#1}}\n",
       "\\def\\randx{\\rand{\\x}}\n",
       "\\def\\randy{\\rand{\\y}}\n",
       "\\def\\trans#1{\\dot{#1}}\n",
       "\\def\\transx{\\trans{\\x}}\n",
       "\\def\\transy{\\trans{\\y}}\n",
       "%\n",
       "\\def\\argmax#1{\\underset{#1} {\\operatorname{argmax}} }\n",
       "\\def\\argmin#1{\\underset{#1} {\\operatorname{argmin}} }\n",
       "\\def\\max#1{\\underset{#1} {\\operatorname{max}} }\n",
       "\\def\\min#1{\\underset{#1} {\\operatorname{min}} }\n",
       "%\n",
       "\\def\\pr#1{\\mathcal{p}(#1)}\n",
       "\\def\\prc#1#2{\\mathcal{p}(#1 \\; | \\; #2)}\n",
       "\\def\\cnt#1{\\mathcal{count}_{#1}}\n",
       "\\def\\node#1{\\mathbb{#1}}\n",
       "%\n",
       "\\newcommand{\\floor}[1]{\\left\\lfloor #1 \\right\\rfloor}\n",
       "\\newcommand{\\ceil}[1]{\\left\\lceil #1 \\right\\rceil}\n",
       "%\n",
       "\\def\\loc#1{{\\text{##} {#1}}}\n",
       "%\n",
       "$$\n"
      ],
      "text/plain": [
       "<IPython.core.display.Latex object>"
      ]
     },
     "metadata": {},
     "output_type": "display_data"
    }
   ],
   "source": [
    "%run Latex_macros.ipynb"
   ]
  },
  {
   "cell_type": "markdown",
   "metadata": {
    "slideshow": {
     "slide_type": "slide"
    }
   },
   "source": [
    "# Warning: Higher dimensions ahead !"
   ]
  },
  {
   "cell_type": "markdown",
   "metadata": {
    "slideshow": {
     "slide_type": "subslide"
    }
   },
   "source": [
    "A Fully Connected/Dense layer is insensitive to the order of features.\n",
    "\n",
    "This is just a property of the dot product\n",
    "$$\n",
    "\\Theta^T \\cdot \\x =  \\Theta[ \\text{perm} ]^T \\cdot \\x[ \\text{perm} ] \n",
    "$$\n",
    "\n",
    "where  $\\Theta[ \\text{perm} ]^T$ and $\\x[ \\text{perm} ]$ are permuations of $\\Theta, \\x$.\n",
    "\n"
   ]
  },
  {
   "cell_type": "markdown",
   "metadata": {
    "slideshow": {
     "slide_type": "subslide"
    }
   },
   "source": [
    "But there are many problems in which order is important.\n",
    "\n",
    "Consider the following examples"
   ]
  },
  {
   "cell_type": "markdown",
   "metadata": {
    "slideshow": {
     "slide_type": "subslide"
    }
   },
   "source": [
    "\n",
    "<table>\n",
    "    <tr>\n",
    "        <th><center>Same prices</center></th>\n",
    "    </tr>\n",
    "    <tr>\n",
    "        <td><img src=\"images/RNN_sequence_1.jpg\" width=800></td>\n",
    "    </tr>\n",
    "</table>"
   ]
  },
  {
   "cell_type": "markdown",
   "metadata": {
    "slideshow": {
     "slide_type": "subslide"
    }
   },
   "source": [
    "<center>Same words</center>\n",
    "$$\n",
    "\\begin{matrix}\n",
    "\\text{Machine} & \\text{Learning} & \\text{is} & \\text{easy} & \\text{not} & \\text{difficult} \\\\\n",
    "\\text{Machine} & \\text{Learning} & \\text{is} & \\text{difficult} & \\text{not} & \\text{easy} \\\\\n",
    "\\end{matrix}\n",
    "$$"
   ]
  },
  {
   "cell_type": "markdown",
   "metadata": {
    "slideshow": {
     "slide_type": "subslide"
    }
   },
   "source": [
    "\n",
    "<table>\n",
    "    <tr>\n",
    "        <th><center>Same pixels</center></th>\n",
    "    </tr>\n",
    "    <tr>\n",
    "        <td><img src=\"images/RNN_sequence_2.jpg\" width=800></td>\n",
    "    </tr>\n",
    "</table>"
   ]
  },
  {
   "cell_type": "markdown",
   "metadata": {
    "slideshow": {
     "slide_type": "subslide"
    }
   },
   "source": [
    "In this lecture, we will be dealing with examples that are *sequences*.\n",
    "\n",
    "That is, we will add a new dimension to each example which we will call the *temporal dimension*.\n",
    "\n",
    "\n",
    "\n",
    "To make this concrete, consider the difference between a snapshot and a movie\n",
    "- A movie is a sequence of snapshots\n"
   ]
  },
  {
   "cell_type": "markdown",
   "metadata": {
    "slideshow": {
     "slide_type": "subslide"
    }
   },
   "source": [
    "We have already encountered (when introducing CNN's) data with a *spatial dimension*\n",
    "- location of a feature within a 1D or 2D space."
   ]
  },
  {
   "cell_type": "markdown",
   "metadata": {
    "slideshow": {
     "slide_type": "subslide"
    }
   },
   "source": [
    "The main difference between the spatial and temporal dimensions:\n",
    "- We have some degree of freedom to alter the spatial dimension without affecting the problem\n",
    "    - e.g., rotating an image\n",
    "- There is *no* ability to rearrange data in the temporal dimension\n",
    "    - Time flows forward and we can't peek ahead."
   ]
  },
  {
   "cell_type": "markdown",
   "metadata": {
    "slideshow": {
     "slide_type": "subslide"
    }
   },
   "source": [
    "\n",
    "A single example $\\x^\\ip$ will now be written as\n",
    "$$\n",
    "[ \\x^\\ip_\\tp \\; | \\; 1 \\le \\tt \\le T]\n",
    "$$\n",
    "\n",
    "Using the movie analogy\n",
    "- $\\x^\\ip$ is a movie: a sequence of frames\n",
    "- $\\x^\\ip_\\tp$ is the $t^{th}$ frame in the movies\n",
    "- $\\x^\\ip_{\\tp, j, j'}$ is a particular pixel within the frame $\\x^\\ip_\\tp$\n",
    "    - The temporal dimension is indexed by $\\tp$ and the spatial dimensions by $j,j'$"
   ]
  },
  {
   "cell_type": "markdown",
   "metadata": {
    "slideshow": {
     "slide_type": "slide"
    }
   },
   "source": [
    "# Functions on sequence\n",
    "\n",
    "In the absence of a temporal dimension, our multi-layer networks\n",
    "- Computed functions from vectors to vectors\n",
    "\n",
    "With a temporal dimension, there are several variants of the function\n",
    "- Many to one\n",
    "    - Sequence as input, vector as output\n",
    "    - Examples:\n",
    "        - Predict next value in a time series (sequence of values)\n",
    "        - Summarize the sentiment of a sentence (sequence of words)"
   ]
  },
  {
   "cell_type": "markdown",
   "metadata": {
    "slideshow": {
     "slide_type": "subslide"
    }
   },
   "source": [
    "- Many to many\n",
    "    - Sequence as input, sequence of vectors as output\n",
    "    - Examples\n",
    "        - Translation of sentence in one language to sentence in second language\n",
    "        - Caption a movie: sequence of frames to sequence of words"
   ]
  },
  {
   "cell_type": "markdown",
   "metadata": {
    "slideshow": {
     "slide_type": "subslide"
    }
   },
   "source": [
    "- One to many\n",
    "    - Single input vector, sequence of vectors as output\n",
    "    - Examples\n",
    "        - Generating sentences from seed"
   ]
  },
  {
   "cell_type": "markdown",
   "metadata": {
    "slideshow": {
     "slide_type": "slide"
    }
   },
   "source": [
    "# Recurrent Neural Network (RNN) layer\n",
    "\n",
    "With a sequence $\\x^\\ip$ as input, and a sequence $\\y$ as a potential output,  the questions arises:\n",
    "- How does an RNN produce $\\y_\\tp$, the $t^{th}$ output ?\n",
    "\n",
    "Some choices\n",
    "- Predict $\\y_\\tp$ as a direct function of the prefix of $\\x$ of length $\\tt$: \n",
    "$$\\pr{\\y_\\tp | \\x_{(1)} \\dots \\x_\\tp} $$\n",
    "\n",
    "- Uses a \"latent state\" that is updated with each element of the sequence, then predict the output\n",
    "\n",
    "$$\n",
    "\\begin{array}[lll] \\\\\n",
    "\\pr{\\h_\\tp | \\x_\\tp, \\h_{(\\tt-1)} } & \\text{latent variable } \\h_\\tp \\text{encodes } [ \\x_{(1)} \\dots \\x_\\tp ]\\\\\n",
    "\\pr{\\y_\\tp | \\h_\\tp }              & \\text{prediction contingent on latent variable} \\\\\n",
    "\\end{array}\n",
    "$$\n"
   ]
  },
  {
   "cell_type": "markdown",
   "metadata": {
    "slideshow": {
     "slide_type": "subslide"
    }
   },
   "source": [
    "\n",
    "The Recurrent Neural Network (RNN) adopts the latter approach.\n",
    "\n",
    "Here is some pseudo-code:"
   ]
  },
  {
   "cell_type": "code",
   "execution_count": 2,
   "metadata": {
    "slideshow": {
     "slide_type": "subslide"
    }
   },
   "outputs": [],
   "source": [
    "def RNN( input_sequence, state_size ):\n",
    "    state = np.random.uniform(size=state_size)\n",
    "    \n",
    "    for input in input_sequence:\n",
    "        # Consume one input, update the state\n",
    "        out, state = f(input, state)\n",
    "        \n",
    "    return out\n",
    "        "
   ]
  },
  {
   "cell_type": "markdown",
   "metadata": {
    "slideshow": {
     "slide_type": "subslide"
    }
   },
   "source": [
    "and a picture/movie"
   ]
  },
  {
   "cell_type": "markdown",
   "metadata": {
    "slideshow": {
     "slide_type": "subslide"
    }
   },
   "source": [
    "<table>\n",
    "    <tr>\n",
    "        <th><center>RNN many to many API</center></th>\n",
    "    </tr>\n",
    "    <tr>\n",
    "        <td><img src=\"images/RNN_layer_API_many_to_many.jpg\"></td>\n",
    "    </tr>\n",
    "</table>"
   ]
  },
  {
   "cell_type": "markdown",
   "metadata": {
    "slideshow": {
     "slide_type": "subslide"
    }
   },
   "source": [
    "At each time step $\\tt$\n",
    "- Input $\\x_\\tp$ is processed\n",
    "- Causes latent state $\\h$ to update from $\\h_{(\\tt-1)}$ to $\\h_\\tp$\n",
    "    - We use the same sequence notation to record the sequence of latent states $[ \\h_{(1)}, \\ldots, ]$\n",
    "- Optionally outputs $\\y_\\tp$ (for outputs that are of type sequence)"
   ]
  },
  {
   "cell_type": "markdown",
   "metadata": {
    "slideshow": {
     "slide_type": "subslide"
    }
   },
   "source": [
    "When processing $\\x_\\tp$\n",
    "- The function computed takes $\\h_{(t-1)}$ as input\n",
    "- Latent state $\\h_{(t-1)}$ has been derived by having processed $[\\x_{(1)} \\dots \\x_{(\\tt-1)}]$\n",
    "- And is thus a *summary* of the prefix of the input encountered thus far\n",
    "\n",
    "\n",
    "One can look at this unrolled graph as being a dynamically-created computation graph.\n"
   ]
  },
  {
   "cell_type": "markdown",
   "metadata": {
    "slideshow": {
     "slide_type": "subslide"
    }
   },
   "source": [
    "A short-hand picture for the movie that you will often see is"
   ]
  },
  {
   "cell_type": "markdown",
   "metadata": {
    "slideshow": {
     "slide_type": "subslide"
    }
   },
   "source": [
    "<table>\n",
    "    <tr>\n",
    "        <th><center>RNN</center></th>\n",
    "    </tr>\n",
    "    <tr>\n",
    "        <td><img src=\"images/RNN_loop.jpg\" width=1000></td>\n",
    "    </tr>\n",
    "</table>"
   ]
  },
  {
   "cell_type": "markdown",
   "metadata": {
    "slideshow": {
     "slide_type": "subslide"
    }
   },
   "source": [
    "The movie version is a little more direct and is often referred to as \"unrolling the loop\"\n",
    "in the short-hand version.\n",
    "\n",
    "The unrolled version will be crucial in understanding how Gradient Descent works when RNN layers are present.\n",
    "- The unrolled graph looks just like an ordinary graph\n",
    "- Because it resembles a non-loop computation, our logic and intuition for computing gradients transfers directly\n"
   ]
  },
  {
   "cell_type": "markdown",
   "metadata": {
    "slideshow": {
     "slide_type": "subslide"
    }
   },
   "source": [
    "Note that $\\x, \\y, \\h$ are all vectors. \n",
    "\n",
    "In particular, the state $\\h$ *may have many* elements\n",
    "-  to record information about the entire prefix of the input."
   ]
  },
  {
   "cell_type": "markdown",
   "metadata": {
    "slideshow": {
     "slide_type": "subslide"
    }
   },
   "source": [
    "One extremely important aspect that might not be apparent from the movie version:\n",
    "- Each unrolled \"frame\" in the movie shares the *same weights* and computes the *same* function $F$\n",
    "- In contrast to a true multi-layer network where each layer has its *own* weights"
   ]
  },
  {
   "cell_type": "markdown",
   "metadata": {
    "slideshow": {
     "slide_type": "subslide"
    }
   },
   "source": [
    "That is the unrolled RNN computes\n",
    "$$\n",
    "\\begin{array}[lll]\\\\\n",
    "\\y_\\tp & = & F( \\y_{(\\tt-1)}; \\W ) \\\\\n",
    "& = &  F( \\; F( \\y_{(\\tt-2)}; \\,\\W ); \\,\\W \\;) \\\\\n",
    "& = &  F( \\; F( \\; F( \\y_{(\\tt-3)}; \\,\\W ); \\,\\W \\;  ); \\W \\;) \\\\\n",
    "& = & \\vdots \\\\\n",
    "\\end{array}\n",
    "$$\n",
    "rather than\n",
    "$$\n",
    "\\begin{array}[lll]\\\\\n",
    "\\y_\\llp & = & F_\\llp( \\y_{(\\ll-1)}; \\W_\\llp ) \\\\\n",
    "& = &  F_\\llp( \\; F_{(\\ll-1)}( \\y_{(\\ll-2)}; \\,\\W_{(\\ll-1)} ); \\,\\W_\\llp \\;) \\\\\n",
    "& = &  F_\\llp( \\; F_{(\\ll-1)}( \\; F_{(\\ll-2)}( \\y_{(\\ll-3)}; \\,\\W_{(\\ll-2)} ); \\,\\W_{(\\ll-1)} \\;  ); \\W_\\llp \\;) \\\\\n",
    "& = & \\vdots \\\\\n",
    "\\end{array}\n",
    "$$"
   ]
  },
  {
   "cell_type": "markdown",
   "metadata": {
    "slideshow": {
     "slide_type": "subslide"
    }
   },
   "source": [
    "Note, in particular\n",
    "- The repeated occurrence of the term $\\W$ will complicate computing the derivative\n",
    "- As we will see in a subsequent lecture"
   ]
  },
  {
   "cell_type": "markdown",
   "metadata": {
    "slideshow": {
     "slide_type": "subslide"
    }
   },
   "source": [
    "RNN's are sometimes drawn without separate outputs $\\y_\\tp$\n",
    "- in that case, $\\h_\\tp$ may be considered the output. \n",
    "\n",
    "The computation of $\\y_\\tp$ will just be a transformation of $\\h_\\tp$ so there is no loss in omitting\n",
    "it from the RNN and creating a separate node in the computation graph.\n",
    "\n",
    "Geron does not distinguish between $\\y_\\tp$ and $\\h_\\tp$ and he uses the single $\\y_\\tp$ to denote the state.\n",
    "\n",
    "I will use $\\h$ rather than $\\y$ to denote the \"hidden state\".\n"
   ]
  },
  {
   "cell_type": "markdown",
   "metadata": {
    "slideshow": {
     "slide_type": "subslide"
    }
   },
   "source": [
    "## $\\h_\\tp$ latent state\n",
    "\n",
    "$\\h_\\tp$ is the latent state (sometimes called the *hidden state* as it is not visible outside the layer).\n",
    "\n",
    "It is essentially a *fixed length* encoding of the variable length sequence $[\\x_{(1)} \\dots \\x_\\tp]$\n",
    "- All essential information about the prefix of $\\x$ ending at step $\\tt$ is recorded in $\\h_\\tp$\n",
    "- Hence, the size of $\\h_\\tp$ may need to be large"
   ]
  },
  {
   "cell_type": "markdown",
   "metadata": {
    "slideshow": {
     "slide_type": "subslide"
    }
   },
   "source": [
    "Having a fixed length encoding for a variable length input is crucial\n",
    "- We can feed the (fixed length representation of a) sequence to a Classical ML Classifier/Regressor\n",
    "- Which have fixed length inputs"
   ]
  },
  {
   "cell_type": "markdown",
   "metadata": {
    "slideshow": {
     "slide_type": "subslide"
    }
   },
   "source": [
    "<table>\n",
    "    <tr>\n",
    "        <th><center><strong>RNN Many to one; followed by classifier</strong></center></th>\n",
    "    </tr>\n",
    "    <tr>\n",
    "        <td><img src=\"images/RNN_many_to_one_to_classifier.jpg\" width=800></td>\n",
    "    </tr>\n",
    "</table>"
   ]
  },
  {
   "cell_type": "markdown",
   "metadata": {
    "slideshow": {
     "slide_type": "slide"
    }
   },
   "source": [
    "# Conclusion\n",
    "\n",
    "We have introduced the key concepts of Recurrent Neural Networks.\n",
    "- An unrolled RNN is just a multi-layer network\n",
    "- In which *all the layers are identical*\n",
    "- The latent state is a fixed length encoding of the prefix of the input\n",
    "\n",
    "A more detailed view of sequences and RNN's will be our next topic."
   ]
  },
  {
   "cell_type": "code",
   "execution_count": 3,
   "metadata": {
    "slideshow": {
     "slide_type": "slide"
    }
   },
   "outputs": [
    {
     "name": "stdout",
     "output_type": "stream",
     "text": [
      "Done\n"
     ]
    }
   ],
   "source": [
    "print(\"Done\")"
   ]
  }
 ],
 "metadata": {
  "celltoolbar": "Slideshow",
  "kernelspec": {
   "display_name": "Python 3",
   "language": "python",
   "name": "python3"
  },
  "language_info": {
   "codemirror_mode": {
    "name": "ipython",
    "version": 3
   },
   "file_extension": ".py",
   "mimetype": "text/x-python",
   "name": "python",
   "nbconvert_exporter": "python",
   "pygments_lexer": "ipython3",
   "version": "3.7.4"
  },
  "toc": {
   "base_numbering": 1,
   "nav_menu": {},
   "number_sections": true,
   "sideBar": true,
   "skip_h1_title": false,
   "title_cell": "Table of Contents",
   "title_sidebar": "Contents",
   "toc_cell": false,
   "toc_position": {
    "height": "calc(100% - 180px)",
    "left": "10px",
    "top": "150px",
    "width": "370.594px"
   },
   "toc_section_display": true,
   "toc_window_display": false
  }
 },
 "nbformat": 4,
 "nbformat_minor": 2
}
