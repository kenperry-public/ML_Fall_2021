{
 "cells": [
  {
   "cell_type": "code",
   "execution_count": 1,
   "metadata": {
    "slideshow": {
     "slide_type": "notes"
    }
   },
   "outputs": [
    {
     "data": {
      "text/latex": [
       "$$\n",
       "\\newcommand{\\x}{\\mathbf{x}}\n",
       "\\newcommand{\\tx}{\\tilde{\\x}}\n",
       "\\newcommand{\\y}{\\mathbf{y}}\n",
       "\\newcommand{\\b}{\\mathbf{b}}\n",
       "\\newcommand{\\c}{\\mathbf{c}}\n",
       "\\newcommand{\\e}{\\mathbf{e}}\n",
       "\\newcommand{\\z}{\\mathbf{z}}\n",
       "\\newcommand{\\h}{\\mathbf{h}}\n",
       "\\newcommand{\\u}{\\mathbf{u}}\n",
       "\\newcommand{\\v}{\\mathbf{v}}\n",
       "\\newcommand{\\w}{\\mathbf{w}}\n",
       "\\newcommand{\\W}{\\mathbf{W}}\n",
       "\\newcommand{\\X}{\\mathbf{X}}\n",
       "\\newcommand{\\KL}{\\mathbf{KL}}\n",
       "\\newcommand{\\E}{{\\mathbb{E}}}\n",
       "\\newcommand{\\ip}{\\mathbf{{(i)}}}\n",
       "%\n",
       "% Test set\n",
       "\\newcommand{\\xt}{\\underline{\\x}}\n",
       "\\newcommand{\\yt}{\\underline{\\y}}\n",
       "\\newcommand{\\Xt}{\\underline{\\X}}\n",
       "\\newcommand{\\perfm}{\\mathcal{P}}\n",
       "%\n",
       "% \\ll indexes a layer; we can change the actual letter\n",
       "\\newcommand{\\ll}{l}\n",
       "\\newcommand{\\llp}{{(\\ll)}}\n",
       "%\n",
       "\\newcommand{Thetam}{\\Theta_{-0}}\n",
       "\n",
       "% CNN\n",
       "\\newcommand{\\kernel}{\\mathbf{k}} \n",
       "\\newcommand{\\dim}{d}\n",
       "\\newcommand{\\idxspatial}{{\\text{idx}}}\n",
       "\\newcommand{\\summaxact}{\\text{max}}\n",
       "%\n",
       "%\n",
       "\n",
       "% RNN\n",
       "% \\tt indexes a time step\n",
       "\\newcommand{\\tt}{t}\n",
       "\\newcommand{\\tp}{{(\\tt)}}\n",
       "%\n",
       "%\n",
       "\n",
       "% LSTM\n",
       "\\newcommand{\\g}{\\mathbf{g}}\n",
       "\\newcommand{\\remember}{\\mathbf{remember}}\n",
       "\\newcommand{\\save}{\\mathbf{save}}\n",
       "\\newcommand{\\focus}{\\mathbf{focus}}\n",
       "%\n",
       "%\n",
       "% NLP\n",
       "\\newcommand{\\Vocab}{\\mathbf{V}}\n",
       "\\newcommand{\\v}{\\mathbf{v}}\n",
       "\\newcommand{\\offset}{o}\n",
       "\\newcommand{\\o}{o}\n",
       "\\newcommand{\\E}{\\mathbf{E}}\n",
       "%\n",
       "%\n",
       "\\newcommand{\\loss}{\\mathcal{L}}\n",
       "\\newcommand{\\cost}{\\mathcal{L}}\n",
       "%\n",
       "%                     \n",
       "\\newcommand{\\pdata}{p_\\text{data}}\n",
       "\\newcommand{\\pmodel}{p_\\text{model}}\n",
       "%\n",
       "% SVM\n",
       "\\newcommand{\\margin}{{\\mathbb{m}}}\n",
       "\\newcommand{\\lmk}{\\boldsymbol{\\ell}}\n",
       "%\n",
       "% Functions with arguments\n",
       "\\def\\xsy#1#2{#1^#2}\n",
       "\\def\\rand#1{\\tilde{#1}}\n",
       "\\def\\randx{\\rand{\\x}}\n",
       "\\def\\randy{\\rand{\\y}}\n",
       "\\def\\trans#1{\\dot{#1}}\n",
       "\\def\\transx{\\trans{\\x}}\n",
       "\\def\\transy{\\trans{\\y}}\n",
       "%\n",
       "\\def\\argmax#1{\\underset{#1} {\\operatorname{argmax}} }\n",
       "\\def\\argmin#1{\\underset{#1} {\\operatorname{argmin}} }\n",
       "\\def\\max#1{\\underset{#1} {\\operatorname{max}} }\n",
       "\\def\\min#1{\\underset{#1} {\\operatorname{min}} }\n",
       "%\n",
       "\\def\\pr#1{\\mathcal{p}(#1)}\n",
       "\\def\\prc#1#2{\\mathcal{p}(#1 \\; | \\; #2)}\n",
       "\\def\\cnt#1{\\mathcal{count}_{#1}}\n",
       "\\def\\node#1{\\mathbb{#1}}\n",
       "%\n",
       "\\newcommand{\\floor}[1]{\\left\\lfloor #1 \\right\\rfloor}\n",
       "\\newcommand{\\ceil}[1]{\\left\\lceil #1 \\right\\rceil}\n",
       "%\n",
       "\\def\\loc#1{{\\text{##} {#1}}}\n",
       "%\n",
       "$$\n"
      ],
      "text/plain": [
       "<IPython.core.display.Latex object>"
      ]
     },
     "metadata": {},
     "output_type": "display_data"
    }
   ],
   "source": [
    "%run Latex_macros.ipynb\n",
    "%run beautify_plots.py"
   ]
  },
  {
   "cell_type": "code",
   "execution_count": 2,
   "metadata": {
    "slideshow": {
     "slide_type": "notes"
    }
   },
   "outputs": [],
   "source": [
    "# My standard magic !  You will see this in almost all my notebooks.\n",
    "\n",
    "from IPython.core.interactiveshell import InteractiveShell\n",
    "InteractiveShell.ast_node_interactivity = \"all\"\n",
    "\n",
    "# Reload all modules imported with %aimport\n",
    "%load_ext autoreload\n",
    "%autoreload 1\n",
    "\n",
    "%matplotlib inline"
   ]
  },
  {
   "cell_type": "code",
   "execution_count": 3,
   "metadata": {
    "slideshow": {
     "slide_type": "notes"
    }
   },
   "outputs": [],
   "source": [
    "import numpy as np\n",
    "import pandas as pd\n",
    "import matplotlib.pyplot as plt\n",
    " \n",
    "import recipe_helper\n",
    "%aimport recipe_helper\n"
   ]
  },
  {
   "cell_type": "markdown",
   "metadata": {
    "slideshow": {
     "slide_type": "slide"
    }
   },
   "source": [
    "# Prepare data: transformations\n",
    "\n",
    "Transforming data (Recipe C.3) may be **the most important** step of the multi-step Recipe !\n",
    "\n",
    "<table>\n",
    "    <tr>\n",
    "        <th><center>Recipe for Machine Learning</center></th>\n",
    "    </tr>\n",
    "    <tr>\n",
    "        <td><img src=\"images/W1_L3_S4_ML_Process.png\" width=\"100%\"></td>\n",
    "    </tr>\n",
    "</table>"
   ]
  },
  {
   "cell_type": "markdown",
   "metadata": {
    "slideshow": {
     "slide_type": "subslide"
    }
   },
   "source": [
    "It is often the case that the \"raw\" features given to us don't suffice \n",
    "- we may need to create \"synthetic\" features.  \n",
    "- This is called **feature engineering**."
   ]
  },
  {
   "cell_type": "markdown",
   "metadata": {
    "slideshow": {
     "slide_type": "subslide"
    }
   },
   "source": [
    "Recall: our \"curvy\" data set from the previous lecture:"
   ]
  },
  {
   "cell_type": "code",
   "execution_count": 4,
   "metadata": {
    "slideshow": {
     "slide_type": "subslide"
    }
   },
   "outputs": [
    {
     "data": {
      "image/png": "[encoded data removed]",
      "text/plain": [
       "<Figure size 432x288 with 1 Axes>"
      ]
     },
     "metadata": {
      "needs_background": "light"
     },
     "output_type": "display_data"
    }
   ],
   "source": [
    "(xlabel, ylabel) = (\"Size\", \"Price Premium\")\n",
    "v1, a1 = 1, .005\n",
    "v2, a2 = v1, a1*2\n",
    "curv = recipe_helper.Recipe_Helper(v = v2, a = a2)\n",
    "X_curve, y_curve = curv.gen_data(num=50)\n",
    "_= curv.gen_plot(X_curve,y_curve, xlabel, ylabel)"
   ]
  },
  {
   "cell_type": "markdown",
   "metadata": {
    "slideshow": {
     "slide_type": "subslide"
    }
   },
   "source": [
    "And compare the out of sample performance on this data set\n",
    "- On a linear model (single, raw feature)\n",
    "- On a model with a second feature (squared version of raw feature)\n"
   ]
  },
  {
   "cell_type": "code",
   "execution_count": 5,
   "metadata": {
    "slideshow": {
     "slide_type": "slide"
    }
   },
   "outputs": [
    {
     "data": {
      "image/png": "[encoded data removed]",
      "text/plain": [
       "<Figure size 864x288 with 1 Axes>"
      ]
     },
     "metadata": {
      "needs_background": "light"
     },
     "output_type": "display_data"
    },
    {
     "data": {
      "image/png": "[encoded data removed]",
      "text/plain": [
       "<Figure size 864x288 with 1 Axes>"
      ]
     },
     "metadata": {
      "needs_background": "light"
     },
     "output_type": "display_data"
    }
   ],
   "source": [
    "model_results = curv.compare_regress(X_curve, y_curve, xlabel=xlabel, ylabel=ylabel, visible=True, plot_train=False)\n"
   ]
  },
  {
   "cell_type": "markdown",
   "metadata": {
    "slideshow": {
     "slide_type": "subslide"
    }
   },
   "source": [
    "Adding the synthetic feature was key to better performance (lower RMSE).\n"
   ]
  },
  {
   "cell_type": "markdown",
   "metadata": {
    "slideshow": {
     "slide_type": "subslide"
    }
   },
   "source": [
    "Feature engineering, or transformations\n",
    "- takes an example: vector $\\x^\\ip$ with $n$ features\n",
    "- produces a new vector $\\tilde\\x^\\ip$, with $n'$ features\n",
    "\n",
    "We ultimately fit the model with the transformed *training* examples."
   ]
  },
  {
   "cell_type": "markdown",
   "metadata": {
    "slideshow": {
     "slide_type": "subslide"
    }
   },
   "source": [
    "We can apply multiple transformations, each\n",
    "- Adding new synthetic features\n",
    "- Further transforming synthetic features\n"
   ]
  },
  {
   "cell_type": "markdown",
   "metadata": {
    "slideshow": {
     "slide_type": "subslide"
    }
   },
   "source": [
    "<table>\n",
    "    <tr>\n",
    "        <th><center>Feature Engineering</center></th>\n",
    "    </tr>\n",
    "    <tr>\n",
    "        <td><img src=\"images/Feature_engineering.png\"</td>\n",
    "    </tr>\n",
    "</table>\n",
    "​"
   ]
  },
  {
   "cell_type": "markdown",
   "metadata": {
    "slideshow": {
     "slide_type": "subslide"
    }
   },
   "source": [
    "The above diagram shows multiple transformations\n",
    "- organized as a sequence (sometimes called a *pipeline*) of independent transformations $T_1, T_2, \\ldots, T_t$\n",
    "\n",
    "$$\n",
    "\\begin{array}[lll] \\\\\n",
    "\\tilde{\\x}_{(1)} = T_1( \\x ) \\\\\n",
    "\\tilde{\\x}_{(2)} = T_2( \\tilde{\\x}_{(1)} ) \\\\\n",
    "\\vdots \\\\\n",
    "\\tilde{\\x}_{(\\ll+1)} = T_{(\\ll+1)}( \\tilde{\\x}_{(\\ll)} ) \\\\\n",
    "\\end{array}\n",
    "$$\n",
    "\n",
    "We write the final transformed $\\tilde{\\x}$ as a function $T$ that is the composition\n",
    "of each transformation function\n",
    "$$\n",
    "\\tilde{\\x} = T(\\x) = T_t( \\; T_{t-1}( \\ldots T_1(\\x) \\ldots ) \\; )\n",
    "$$"
   ]
  },
  {
   "cell_type": "markdown",
   "metadata": {
    "slideshow": {
     "slide_type": "subslide"
    }
   },
   "source": [
    "The length of the final transformed vector $\\tilde{\\x}$\n",
    "may differ from the $n$, the length of the input $\\x$\n",
    "- may add features\n",
    "- may drop features"
   ]
  },
  {
   "cell_type": "markdown",
   "metadata": {
    "slideshow": {
     "slide_type": "subslide"
    }
   },
   "source": [
    "The predictions are now a function of $\\tilde{\\x}$ rather than $\\x$\n",
    "\n",
    "$$\n",
    "\\begin{array}\\\\\n",
    "\\hat{\\y} & = & h_\\Theta (\\tilde{\\x} ) \\\\\n",
    "\\end{array}\n",
    "$$\n"
   ]
  },
  {
   "cell_type": "markdown",
   "metadata": {
    "slideshow": {
     "slide_type": "subslide"
    }
   },
   "source": [
    "## Example transformation: Missing data imputation\n",
    "\n",
    "The first transformation we encountered added a feature ($\\x^2$ term) that improved prediction.\n",
    "\n",
    "Some transformations alter existing features rather than adding new ones.\n",
    "\n",
    "Transformations in detail will be the subject of a separate lecture but let's cover the basics.\n",
    "\n",
    "Let's consider a second reason for transformation: filling in (imputing) missing data for a feature."
   ]
  },
  {
   "cell_type": "markdown",
   "metadata": {
    "slideshow": {
     "slide_type": "subslide"
    }
   },
   "source": [
    "$#$ | $\\mathbf{x}_1$ | $\\mathbf{x}_2$\n",
    " -- | ----- | ----\n",
    "1   | 1.0   | 10\n",
    "2   | 2.0   | 20\n",
    "$\\vdots$ | $\\vdots$ | $\\vdots$ \n",
    "i   | 2.0   |  NaN\n",
    "$\\vdots$ | $\\vdots$ | $\\vdots$ \n",
    "m   | $\\ldots$"
   ]
  },
  {
   "cell_type": "markdown",
   "metadata": {
    "slideshow": {
     "slide_type": "subslide"
    }
   },
   "source": [
    "In the above: feature $\\x_2$ is missing a value in example $i$: $\\x^\\ip_2 = \\text{NaN} $\n",
    "\n",
    "We will spend more time later discussing the various ways to deal with missing data imputation.\n",
    "\n",
    "For now: let's adopt the common strategy of replacing it with the median of the defined values:\n",
    "\n",
    "$$\\text{median}(\\x_2) = \\text{median}( \\{ \\x^\\ip_2 | 1 \\le i \\le m, \\x^\\ip_2 \\ne \\text{NaN} \\} )$$"
   ]
  },
  {
   "cell_type": "markdown",
   "metadata": {
    "slideshow": {
     "slide_type": "subslide"
    }
   },
   "source": [
    "This imputation is a kind of data transformation: replacing an undefined value.\n",
    "\n",
    "Without this transformation: the algorithm that implements our model\n",
    "- May fail\n",
    "- May impute a less desirable value, since it lacks specific knowledge of our problem"
   ]
  },
  {
   "cell_type": "markdown",
   "metadata": {
    "slideshow": {
     "slide_type": "subslide"
    }
   },
   "source": [
    "#  \"Fitting\" transformations\n",
    "\n",
    "The behavior of our models for prediction have parameters $\\Theta$.\n",
    "\n",
    "It might not be obvious that transformations have parameters $\\Theta_\\text{transform}$ as well\n",
    "\n",
    "$$\n",
    "\\begin{array}\\\\\n",
    "\\tilde{\\x} = T_{\\Theta_\\text{transform}}(\\x) \\\\\n",
    "\\end{array}\n",
    "$$\n",
    "\n",
    "For example: when missing data imputation for a feature substitutes the mean/median feature value\n",
    "- $\\Theta_\\text{transform}$ stores this value"
   ]
  },
  {
   "cell_type": "markdown",
   "metadata": {
    "slideshow": {
     "slide_type": "subslide"
    }
   },
   "source": [
    "We use the term \"fitting\" to describe the process of solving for $\\Theta_\\text{transform}$\n",
    "- Unlike $\\Theta$, one doesn't usually find a \"optimal\" value for $\\Theta_\\text{transform}$\n",
    "\n",
    "Our prediction is thus\n",
    "$$\n",
    "\\begin{array}\\\\\n",
    "\\hat{\\y} & = & h_\\Theta (\\tilde{\\x}) \\\\\n",
    "& = &h_\\Theta( \\, T_{\\Theta_\\text{transform}}(\\x) \\,)\n",
    "\\end{array}\n",
    "$$\n"
   ]
  },
  {
   "cell_type": "markdown",
   "metadata": {
    "slideshow": {
     "slide_type": "subslide"
    }
   },
   "source": [
    "The process of Transformations is similar to fitting a model and predicting.\n",
    "\n",
    "The parameters in $\\Theta_\\text{transform}$ \n",
    "- are \"fit\" by examining all training data $\\X$\n",
    "- once fit, we can transform (\"predict\") *any* example (whether it be training/validation or test)"
   ]
  },
  {
   "cell_type": "markdown",
   "metadata": {
    "slideshow": {
     "slide_type": "subslide"
    }
   },
   "source": [
    "## Applying transformations consistently\n",
    "\n",
    "Since the prediction is now\n",
    "$$\n",
    "\\begin{array}[lll]\\\\\n",
    "\\hat{\\y} & = & h_\\Theta( \\, \\tilde{\\x} \\,) &  \\text{ where } \\tilde{\\x} = T_{\\Theta_\\text{transform}} (\\x) \\\\\n",
    "\\end{array}\n",
    "$$\n",
    "**each and every** input $\\x$ must be transformed\n",
    "- Training examples\n",
    "- Test examples"
   ]
  },
  {
   "cell_type": "markdown",
   "metadata": {
    "slideshow": {
     "slide_type": "subslide"
    }
   },
   "source": [
    "That is: the transformation is applied consistently across all examples, regardless of their source\n",
    "\n",
    "If we didn't apply the same transformation to both training and test examples\n",
    "- We would violate the Fundamental Assumption of Machine Learning\n"
   ]
  },
  {
   "cell_type": "markdown",
   "metadata": {
    "slideshow": {
     "slide_type": "subslide"
    }
   },
   "source": [
    "However\n",
    "- $\\Theta_\\text{transform}$ is fit **only** to training examples\n",
    "- It is **not** recalculated on a set of test examples\n",
    "   \n",
    "Here's the picture"
   ]
  },
  {
   "cell_type": "markdown",
   "metadata": {
    "slideshow": {
     "slide_type": "subslide"
    }
   },
   "source": [
    "<table>\n",
    "    <tr>\n",
    "        <th><center>Feature engineering: fit, then transform</center></th>\n",
    "    </tr>\n",
    "    <tr>\n",
    "        <td><img src=\"images/Feature_engineering_fit.png\"></td>\n",
    "    </tr>\n",
    "</table>\n",
    "​"
   ]
  },
  {
   "cell_type": "markdown",
   "metadata": {
    "slideshow": {
     "slide_type": "subslide"
    }
   },
   "source": [
    "\n",
    "There are several reasons not to re-fit on test examples\n",
    "- It would be a kind of \"cheating\" to see all test examples (required to fit)\n",
    "- You should assume that you only encounter one test example at a time, not as a group"
   ]
  },
  {
   "cell_type": "markdown",
   "metadata": {
    "slideshow": {
     "slide_type": "subslide"
    }
   },
   "source": [
    "# Using pipelines to avoid cheating in cross validation\n",
    "\n",
    "Although we start off with the best intentions, it is easy to accidentally \"cheat\" \n",
    "- When we combine transformations and cross-validation (to measure out of sample performance)\n",
    "- Is surprisingly common !"
   ]
  },
  {
   "cell_type": "markdown",
   "metadata": {
    "slideshow": {
     "slide_type": "subslide"
    }
   },
   "source": [
    "$k$-fold cross-validation:\n",
    "- Divides the training examples into $k$ \"folds\"\n",
    "- A model is fit $k$ times\n",
    "- Each fit\n",
    "    - Uses $(k-1)$ folds for training\n",
    "    - The remaining fold is considered \"out of sample\" for that fit\n",
    "\n",
    "- This gives us $k$ Performance Metrics: a distribution of out of sample performance"
   ]
  },
  {
   "cell_type": "markdown",
   "metadata": {
    "slideshow": {
     "slide_type": "subslide"
    }
   },
   "source": [
    "<table>\n",
    " <tr>\n",
    "        <th><center>Cross Validation/Test split</center></th>\n",
    "    </tr>\n",
    "    <tr>\n",
    "        <td><img src=\"images/Cross_validation.png\"</td>\n",
    "    </tr>\n",
    "</table>"
   ]
  },
  {
   "cell_type": "markdown",
   "metadata": {
    "slideshow": {
     "slide_type": "subslide"
    }
   },
   "source": [
    "Consider the difference between fitting $\\Theta_\\text{transform}$\n",
    "- Once, on *all* the training examples, *before* applying cross-validation\n",
    "- Separately for each of the $k$ fits of Cross-Validation\n",
    "    - Using the $(k-1)$ folds used for training in this fit"
   ]
  },
  {
   "cell_type": "markdown",
   "metadata": {
    "slideshow": {
     "slide_type": "subslide"
    }
   },
   "source": [
    "For example, when $\\text{Fold}_k$ is out of sample\n",
    "$$\n",
    "\\begin{array} \\\\\n",
    "\\Theta_\\text{transform} = f(  [ \\text{Fold}_1, \\text{Fold}_2, \\ldots \\text{Fold}_{k -1}, \\text{Fold}_k ] ) \\\\\n",
    "\\text{versus} \\\\\n",
    "\\Theta_\\text{transform} = f(  [ \\text{Fold}_1, \\text{Fold}_2, \\ldots \\text{Fold}_{k -1} ) \\\\\n",
    "\\end{array}\n",
    "$$"
   ]
  },
  {
   "cell_type": "markdown",
   "metadata": {
    "slideshow": {
     "slide_type": "subslide"
    }
   },
   "source": [
    "In the first case, we are cheating !\n",
    "- Fold $k$ is out of sample for this fit\n",
    "- And should **not** influence $\\Theta_\\text{transform}$\n",
    "\n",
    "The second case avoids this problem\n",
    "- With seemingly a lot more work\n",
    "- Fitting $\\Theta_\\text{transform}$ multiple times\n"
   ]
  },
  {
   "cell_type": "markdown",
   "metadata": {},
   "source": [
    "Perhaps the increase in effort is one reason this subtle cheating is overlooked.\n",
    "\n",
    "Fortunately, a good toolkit for ML (e.g.,`sklearn`) can facilitate proper transformation fitting without extra effort.\n",
    "\n",
    "Let's explore [Transformation pipelines in `sklearn`](Transformations_Pipelines.ipynb)\n",
    "\n",
    "We will see this in action within the notebook for Classification.\n",
    "\n"
   ]
  },
  {
   "cell_type": "code",
   "execution_count": 6,
   "metadata": {
    "slideshow": {
     "slide_type": "slide"
    }
   },
   "outputs": [
    {
     "name": "stdout",
     "output_type": "stream",
     "text": [
      "Done\n"
     ]
    }
   ],
   "source": [
    "print(\"Done\")"
   ]
  }
 ],
 "metadata": {
  "celltoolbar": "Slideshow",
  "kernelspec": {
   "display_name": "Python 3",
   "language": "python",
   "name": "python3"
  },
  "language_info": {
   "codemirror_mode": {
    "name": "ipython",
    "version": 3
   },
   "file_extension": ".py",
   "mimetype": "text/x-python",
   "name": "python",
   "nbconvert_exporter": "python",
   "pygments_lexer": "ipython3",
   "version": "3.7.4"
  },
  "toc": {
   "base_numbering": 1,
   "nav_menu": {},
   "number_sections": true,
   "sideBar": true,
   "skip_h1_title": false,
   "title_cell": "Table of Contents",
   "title_sidebar": "Contents",
   "toc_cell": false,
   "toc_position": {
    "height": "calc(100% - 180px)",
    "left": "10px",
    "top": "150px",
    "width": "370.594px"
   },
   "toc_section_display": true,
   "toc_window_display": false
  }
 },
 "nbformat": 4,
 "nbformat_minor": 2
}
