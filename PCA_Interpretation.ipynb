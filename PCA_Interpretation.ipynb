{
 "cells": [
  {
   "cell_type": "code",
   "execution_count": 1,
   "metadata": {
    "slideshow": {
     "slide_type": "notes"
    }
   },
   "outputs": [
    {
     "data": {
      "text/latex": [
       "$$\n",
       "\\newcommand{\\x}{\\mathbf{x}}\n",
       "\\newcommand{\\tx}{\\tilde{\\x}}\n",
       "\\newcommand{\\y}{\\mathbf{y}}\n",
       "\\newcommand{\\b}{\\mathbf{b}}\n",
       "\\newcommand{\\c}{\\mathbf{c}}\n",
       "\\newcommand{\\e}{\\mathbf{e}}\n",
       "\\newcommand{\\z}{\\mathbf{z}}\n",
       "\\newcommand{\\h}{\\mathbf{h}}\n",
       "\\newcommand{\\u}{\\mathbf{u}}\n",
       "\\newcommand{\\v}{\\mathbf{v}}\n",
       "\\newcommand{\\w}{\\mathbf{w}}\n",
       "\\newcommand{\\W}{\\mathbf{W}}\n",
       "\\newcommand{\\X}{\\mathbf{X}}\n",
       "\\newcommand{\\KL}{\\mathbf{KL}}\n",
       "\\newcommand{\\E}{{\\mathbb{E}}}\n",
       "\\newcommand{\\ip}{\\mathbf{{(i)}}}\n",
       "%\n",
       "% Test set\n",
       "\\newcommand{\\xt}{\\underline{\\x}}\n",
       "\\newcommand{\\yt}{\\underline{\\y}}\n",
       "\\newcommand{\\Xt}{\\underline{\\X}}\n",
       "\\newcommand{\\perfm}{\\mathcal{P}}\n",
       "%\n",
       "% \\ll indexes a layer; we can change the actual letter\n",
       "\\newcommand{\\ll}{l}\n",
       "\\newcommand{\\llp}{{(\\ll)}}\n",
       "%\n",
       "\\newcommand{Thetam}{\\Theta_{-0}}\n",
       "\n",
       "% CNN\n",
       "\\newcommand{\\kernel}{\\mathbf{k}} \n",
       "\\newcommand{\\dim}{d}\n",
       "\\newcommand{\\idxspatial}{{\\text{idx}}}\n",
       "\\newcommand{\\summaxact}{\\text{max}}\n",
       "%\n",
       "%\n",
       "\n",
       "% RNN\n",
       "% \\tt indexes a time step\n",
       "\\newcommand{\\tt}{t}\n",
       "\\newcommand{\\tp}{{(\\tt)}}\n",
       "%\n",
       "%\n",
       "\n",
       "% LSTM\n",
       "\\newcommand{\\g}{\\mathbf{g}}\n",
       "\\newcommand{\\remember}{\\mathbf{remember}}\n",
       "\\newcommand{\\save}{\\mathbf{save}}\n",
       "\\newcommand{\\focus}{\\mathbf{focus}}\n",
       "%\n",
       "%\n",
       "% NLP\n",
       "\\newcommand{\\Vocab}{\\mathbf{V}}\n",
       "\\newcommand{\\v}{\\mathbf{v}}\n",
       "\\newcommand{\\offset}{o}\n",
       "\\newcommand{\\o}{o}\n",
       "\\newcommand{\\E}{\\mathbf{E}}\n",
       "%\n",
       "%\n",
       "\\newcommand{\\loss}{\\mathcal{L}}\n",
       "\\newcommand{\\cost}{\\mathcal{L}}\n",
       "%\n",
       "%                     \n",
       "\\newcommand{\\pdata}{p_\\text{data}}\n",
       "\\newcommand{\\pmodel}{p_\\text{model}}\n",
       "%\n",
       "% SVM\n",
       "\\newcommand{\\margin}{{\\mathbb{m}}}\n",
       "\\newcommand{\\lmk}{\\boldsymbol{\\ell}}\n",
       "%\n",
       "% Functions with arguments\n",
       "\\def\\xsy#1#2{#1^#2}\n",
       "\\def\\rand#1{\\tilde{#1}}\n",
       "\\def\\randx{\\rand{\\x}}\n",
       "\\def\\randy{\\rand{\\y}}\n",
       "\\def\\trans#1{\\dot{#1}}\n",
       "\\def\\transx{\\trans{\\x}}\n",
       "\\def\\transy{\\trans{\\y}}\n",
       "%\n",
       "\\def\\argmax#1{\\underset{#1} {\\operatorname{argmax}} }\n",
       "\\def\\argmin#1{\\underset{#1} {\\operatorname{argmin}} }\n",
       "\\def\\max#1{\\underset{#1} {\\operatorname{max}} }\n",
       "\\def\\min#1{\\underset{#1} {\\operatorname{min}} }\n",
       "%\n",
       "\\def\\pr#1{\\mathcal{p}(#1)}\n",
       "\\def\\prc#1#2{\\mathcal{p}(#1 \\; | \\; #2)}\n",
       "\\def\\cnt#1{\\mathcal{count}_{#1}}\n",
       "\\def\\node#1{\\mathbb{#1}}\n",
       "%\n",
       "\\newcommand{\\floor}[1]{\\left\\lfloor #1 \\right\\rfloor}\n",
       "\\newcommand{\\ceil}[1]{\\left\\lceil #1 \\right\\rceil}\n",
       "%\n",
       "\\def\\loc#1{{\\text{##} {#1}}}\n",
       "%\n",
       "$$\n"
      ],
      "text/plain": [
       "<IPython.core.display.Latex object>"
      ]
     },
     "metadata": {},
     "output_type": "display_data"
    }
   ],
   "source": [
    "%run Latex_macros.ipynb\n",
    "%run beautify_plots.py"
   ]
  },
  {
   "cell_type": "code",
   "execution_count": 2,
   "metadata": {
    "slideshow": {
     "slide_type": "notes"
    }
   },
   "outputs": [],
   "source": [
    "# My standard magic !  You will see this in almost all my notebooks.\n",
    "\n",
    "from IPython.core.interactiveshell import InteractiveShell\n",
    "InteractiveShell.ast_node_interactivity = \"all\"\n",
    "\n",
    "# Reload all modules imported with %aimport\n",
    "%load_ext autoreload\n",
    "%autoreload 1\n",
    "\n",
    "%matplotlib inline"
   ]
  },
  {
   "cell_type": "markdown",
   "metadata": {
    "slideshow": {
     "slide_type": "slide"
    }
   },
   "source": [
    "# Interpreting the Components/Synthetic Features\n",
    "\n",
    "We have shown that\n",
    "$$\\tilde\\X  = \\X V  $$\n",
    "\n",
    "This means that the $j^{th}$ Component (Synthetic feature) $\\tilde{\\X}_j$\n",
    "- is a linear combination of the $n$ original features $\\X_1, \\ldots, \\X_n$\n",
    "- combined with weights $V_j$\n",
    "\n",
    "$$\n",
    "\\begin{array} \\\\\n",
    "\\tilde{\\X}  & = & \\X V & \\text{from the inverse transformation} \\\\\n",
    "\\tilde{\\X}_j  & = & (\\X V)_j & \\text{focus on synthetic feature } j \\\\\n",
    "              & = & \n",
    "              \\begin{pmatrix}\n",
    "              \\X^{(1)} \\cdot V_j \\\\\n",
    "              \\X^{(2)} \\cdot V_j \\\\\n",
    "              \\vdots \\\\\n",
    "              \\X^{(m)} \\cdot V_j \\\\\n",
    "              \\end{pmatrix} & \\text{definition of matrix multiplication}\n",
    "\\end{array}\n",
    "$$\n"
   ]
  },
  {
   "cell_type": "markdown",
   "metadata": {
    "slideshow": {
     "slide_type": "subslide"
    }
   },
   "source": [
    "We can try to interpret the meaning of $\\tilde{\\X}_j$ by looking at the weights $V_j$\n",
    "- It is often the case that, for the first component $\\tilde{\\X}_1$:\n",
    "    - all $n$ elements of $V_1$ are approximately equal\n",
    "    - leading to an interpretation of $\\tilde{\\X}_1$ as being an *average* across features\n",
    "        - equally weighted market index when the features are the returns of different equities"
   ]
  },
  {
   "cell_type": "markdown",
   "metadata": {
    "slideshow": {
     "slide_type": "subslide"
    }
   },
   "source": [
    "It is also often the case that $V_j$ \n",
    "- contains a subset of indices $P = \\{ i_1, i_2, \\dots \\}$ with high positive values\n",
    "- contains a subset of indices $N = \\{ i'_1, i'_2, \\dots \\}$ with high negative values\n",
    "- leading to an interpretation of $\\tilde{\\X}_j$ as expressing a *dichotomy* between the features in $P$ and those in $N$\n",
    "    - For example: the returns of large-cap equities versus small-cap equities"
   ]
  },
  {
   "cell_type": "markdown",
   "metadata": {
    "slideshow": {
     "slide_type": "subslide"
    }
   },
   "source": [
    "Similarly, we can examine the relationship\n",
    "$$\n",
    "\\X = \\tilde{\\X} V^T\n",
    "$$\n",
    "\n",
    "$$\n",
    "\\begin{array} \\\\\n",
    "\\X & = & \\tilde{\\X} V & \\\\\n",
    "\\X_j  & = & (\\tilde{\\X} V^T)_j & \\text{focus on raw feature } j \\\\\n",
    "              & = & \n",
    "              \\begin{pmatrix}\n",
    "              \\tilde{\\X}^{(1)} \\cdot V^T_j \\\\\n",
    "              \\tilde{\\X}^{(2)} \\cdot V^T_j \\\\\n",
    "              \\vdots \\\\\n",
    "              \\tilde{\\X}^{(m)} \\cdot V^T_j \\\\\n",
    "              \\end{pmatrix} & \\text{definition of matrix multiplication} \\\\\n",
    "               & = & \n",
    "              \\begin{pmatrix}\n",
    "              \\tilde{\\X}^{(1)} \\cdot V^{(j)} \\\\\n",
    "              \\tilde{\\X}^{(2)} \\cdot V^{(j)} \\\\\n",
    "              \\vdots \\\\\n",
    "              \\tilde{\\X}^{(m)} \\cdot V^{(j)} \n",
    "              \\end{pmatrix} & \\text{definition of transpose}\\\\\n",
    "\\end{array}\n",
    "$$\n"
   ]
  },
  {
   "cell_type": "markdown",
   "metadata": {
    "slideshow": {
     "slide_type": "subslide"
    }
   },
   "source": [
    "Let's examine the sensitivity of raw feature $\\X_j$ to a change in synthetic feature $\\tilde{\\X}_{j'}$\n",
    "$$\\frac{\\partial{\\X_j}}{\\partial \\tilde{\\X}_{j'}}$$\n",
    "\n",
    "Let $\\Delta({j'})$ be the length $n$ vector of all $0$'s except at index $j'$\n",
    "$$\n",
    "\\Delta(j')_k =\n",
    "\\begin{cases}\n",
    "0 & \\text{if} & k \\ne j' \\\\\n",
    "1 & \\text{if} & k = j'\n",
    "\\end{cases}\n",
    "$$\n",
    "\n",
    "That is, $\\Delta({j'})$ represents a unit change to synthetic feature $j'$ while having $0$ change to all other features\n",
    "$$\n",
    "\\begin{array} \\\\\n",
    "\\frac{\\partial{\\X_j}}{\\partial \\tilde{\\X}_{j'}}  = \n",
    "\\begin{pmatrix}\n",
    " \\Delta({j'}) \\cdot V^{(j)}  \\\\\n",
    " \\Delta({j'}) \\cdot V^{(j)} \\\\\n",
    " \\vdots \\\\\n",
    " \\Delta({j'}) \\cdot V^{(j)} \\\\\n",
    "\\end{pmatrix} \\\\\n",
    "& = &\n",
    "\\begin{pmatrix}\n",
    " V^{(j)}_{j'}  \\\\\n",
    " V^{(j)}_{j'}  \\\\\n",
    " \\vdots \\\\\n",
    "  V^{(j)}_{j'}  \\\\\n",
    "\\end{pmatrix}\n",
    "\\end{array}\n",
    "$$"
   ]
  },
  {
   "cell_type": "markdown",
   "metadata": {
    "slideshow": {
     "slide_type": "subslide"
    }
   },
   "source": [
    "So a *unit change* in synthetic feature $j'$ results in a change of $V^{(j)}_{j'}$ in feature $\\X_j$.\n",
    "\n",
    "Recall\n",
    "$$\n",
    "\\tilde\\X = U \\Sigma \n",
    "$$\n",
    "\n",
    "By examining \n",
    "the sensitivity of raw feature $\\X_j$ to a change in *standardized* synthetic feature $U_{j'}$\n",
    "$$\\frac{\\partial{\\X_j}}{\\partial U_{j'}}$$\n",
    "\n",
    "we instead find the change in raw feature $\\X_j$ for a *one standard deviation change* in $\\tilde\\X_{j'}$."
   ]
  },
  {
   "cell_type": "markdown",
   "metadata": {
    "slideshow": {
     "slide_type": "subslide"
    }
   },
   "source": [
    "Given the index $j'$ of one component/synthetic feature\n",
    "- We can vary the index $j$ of raw features\n",
    "- To see how much a unit change in component $j'$ changes each raw feature $j$\n",
    "\n",
    "We can try to interpret component/synthetic feature $j'$ in terms of how it affects raw features."
   ]
  },
  {
   "cell_type": "markdown",
   "metadata": {
    "slideshow": {
     "slide_type": "subslide"
    }
   },
   "source": [
    "For example, it is often the case that (indices of) raw feature  $\\{ 1, 2, \\ldots, n \\}$\n",
    "- contains a subset of indices $P = \\{ i_1, i_2, \\dots \\}$ with positive response to a change in component/synthetic feature $j'$\n",
    "- contains a subset of indices $N = \\{ i'_1, i'_2, \\dots \\}$ with negative response to a change in component/synthetic feature $j'$\n",
    "\n",
    "We can then interpret component/synthetic feature $j'$ as a feature that creates a dichotomy of behavior\n",
    "among raw features $P$ and $N$\n",
    "\n",
    "We will see such dichotomies in our examples for PCA in Finance\n",
    "- component/synthetic feature $2$ affects the short end of the Yield Curve in an opposite manner from the long end of the Yield Curve\n",
    "- component/synthetic feature $2$ affects the returns of Large-Cap equities in an opposite manner from Small-Cap equities"
   ]
  },
  {
   "cell_type": "markdown",
   "metadata": {
    "slideshow": {
     "slide_type": "subslide"
    }
   },
   "source": [
    "To find a component/synthetic feature $j'$ that expresses a dichotomy, one needs to find sets $P$ and $N$\n",
    "that have some \"natural\" meaning\n",
    "- Each raw feature (e.g., equity) may posses a set of \"attributes\"\n",
    "    - Market Cap\n",
    "    - Cyclical/Non-Cyclical\n",
    "    - Industry\n",
    "- By partitioning/sorting raw feature indices according to one such attribute, we might observe a dichotomy   "
   ]
  },
  {
   "cell_type": "markdown",
   "metadata": {
    "slideshow": {
     "slide_type": "subslide"
    }
   },
   "source": [
    "**Bottom line**\n",
    "- There is not automatic method to find a good interpretation\n",
    "- Form a theory as to what attributes each raw feature possesses\n",
    "- See whether a recognizable pattern of responses to unit change in component/synthetic feature $j'$ emerges\n",
    "    - When grouping raw features according to common values of an attribute\n",
    "    - When sorting features according to the level of an attribute\n"
   ]
  }
 ],
 "metadata": {
  "celltoolbar": "Slideshow",
  "kernelspec": {
   "display_name": "Python 3",
   "language": "python",
   "name": "python3"
  },
  "language_info": {
   "codemirror_mode": {
    "name": "ipython",
    "version": 3
   },
   "file_extension": ".py",
   "mimetype": "text/x-python",
   "name": "python",
   "nbconvert_exporter": "python",
   "pygments_lexer": "ipython3",
   "version": "3.7.4"
  },
  "toc": {
   "base_numbering": 1,
   "nav_menu": {},
   "number_sections": true,
   "sideBar": true,
   "skip_h1_title": false,
   "title_cell": "Table of Contents",
   "title_sidebar": "Contents",
   "toc_cell": false,
   "toc_position": {},
   "toc_section_display": true,
   "toc_window_display": false
  }
 },
 "nbformat": 4,
 "nbformat_minor": 2
}
