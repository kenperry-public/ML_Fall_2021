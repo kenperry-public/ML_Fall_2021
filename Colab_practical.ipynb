{
 "cells": [
  {
   "cell_type": "markdown",
   "metadata": {
    "colab_type": "text",
    "id": "Mcqk5eFR1AMf"
   },
   "source": [
    "# Check to see if we're running in Colab (versus local server)"
   ]
  },
  {
   "cell_type": "code",
   "execution_count": 1,
   "metadata": {
    "colab": {
     "base_uri": "https://localhost:8080/",
     "height": 34
    },
    "colab_type": "code",
    "id": "NOZzAJuD1FqK",
    "outputId": "9b68713e-bb2e-4aab-9d67-1126fe68bce0"
   },
   "outputs": [],
   "source": [
    "try:\n",
    "  from google.colab import drive\n",
    "  IN_COLAB=True\n",
    "except:\n",
    "  IN_COLAB=False\n",
    "\n",
    "if IN_COLAB:\n",
    "  print(\"We're running Colab\")"
   ]
  },
  {
   "cell_type": "code",
   "execution_count": 2,
   "metadata": {},
   "outputs": [
    {
     "name": "stdout",
     "output_type": "stream",
     "text": [
      "Running TensorFlow version  2.0.0\n",
      "Version 2, minor 0\n"
     ]
    }
   ],
   "source": [
    "import tensorflow as tf\n",
    "\n",
    "print(\"Running TensorFlow version \",tf.__version__)\n",
    "\n",
    "# Parse tensorflow version\n",
    "import re\n",
    "\n",
    "version_match = re.match(\"([0-9]+)\\.([0-9]+)\", tf.__version__)\n",
    "tf_major, tf_minor = int(version_match.group(1)) , int(version_match.group(2))\n",
    "print(\"Version {v:d}, minor {m:d}\".format(v=tf_major, m=tf_minor) )"
   ]
  },
  {
   "cell_type": "markdown",
   "metadata": {
    "colab_type": "text",
    "id": "Ma_WihlT23zc"
   },
   "source": [
    "# Mount the Google Drive (if we're in Colab), switch current directory to a directory on the Google Drive\n",
    "- we will (optionally) create the specified directory on the Google Drive if it doesn't exist"
   ]
  },
  {
   "cell_type": "code",
   "execution_count": 3,
   "metadata": {
    "colab": {
     "base_uri": "https://localhost:8080/",
     "height": 224
    },
    "colab_type": "code",
    "id": "QtwAzGXgrBzy",
    "outputId": "1ca96c5d-cd95-47c0-edce-bfd18d3af2c7"
   },
   "outputs": [
    {
     "ename": "RuntimeError",
     "evalue": "This notebook should be run from Colab, not on the local machine",
     "output_type": "error",
     "traceback": [
      "\u001b[0;31m---------------------------------------------------------------------------\u001b[0m",
      "\u001b[0;31mRuntimeError\u001b[0m                              Traceback (most recent call last)",
      "\u001b[0;32m<ipython-input-3-0b3f688a44b6>\u001b[0m in \u001b[0;36m<module>\u001b[0;34m\u001b[0m\n\u001b[1;32m     20\u001b[0m   \u001b[0mget_ipython\u001b[0m\u001b[0;34m(\u001b[0m\u001b[0;34m)\u001b[0m\u001b[0;34m.\u001b[0m\u001b[0mrun_line_magic\u001b[0m\u001b[0;34m(\u001b[0m\u001b[0;34m'cd'\u001b[0m\u001b[0;34m,\u001b[0m \u001b[0;34m'$drive_root'\u001b[0m\u001b[0;34m)\u001b[0m\u001b[0;34m\u001b[0m\u001b[0;34m\u001b[0m\u001b[0m\n\u001b[1;32m     21\u001b[0m \u001b[0;32melse\u001b[0m\u001b[0;34m:\u001b[0m\u001b[0;34m\u001b[0m\u001b[0;34m\u001b[0m\u001b[0m\n\u001b[0;32m---> 22\u001b[0;31m     \u001b[0;32mraise\u001b[0m \u001b[0mRuntimeError\u001b[0m\u001b[0;34m(\u001b[0m\u001b[0;34m\"This notebook should be run from Colab, not on the local machine\"\u001b[0m\u001b[0;34m)\u001b[0m\u001b[0;34m\u001b[0m\u001b[0;34m\u001b[0m\u001b[0m\n\u001b[0m",
      "\u001b[0;31mRuntimeError\u001b[0m: This notebook should be run from Colab, not on the local machine"
     ]
    }
   ],
   "source": [
    "if IN_COLAB:\n",
    "  # Mount the Google Drive at mount\n",
    "  mount='/content/gdrive'\n",
    "  print(\"Colab: mounting Google drive on \", mount)\n",
    "\n",
    "  drive.mount(mount)\n",
    "\n",
    "  # Switch to the directory on the Google Drive that you want to use\n",
    "  import os\n",
    "  drive_root = mount + \"/My Drive/Colab Notebooks/NYU/demo\"\n",
    "  \n",
    "  # Create drive_root if it doesn't exist\n",
    "  create_drive_root = True\n",
    "  if create_drive_root:\n",
    "    print(\"\\nColab: making sure \", drive_root, \" exists.\")\n",
    "    os.makedirs(drive_root, exist_ok=True)\n",
    "  \n",
    "  # Change to the directory\n",
    "  print(\"\\nColab: Changing directory to \", drive_root)\n",
    "  %cd $drive_root\n",
    "else:\n",
    "    raise RuntimeError(\"This notebook should be run from Colab, not on the local machine\")"
   ]
  },
  {
   "cell_type": "markdown",
   "metadata": {
    "colab_type": "text",
    "id": "GAyT9aYfrdpP"
   },
   "source": [
    "# Work with files on the Google Drive\n",
    "- existing files\n",
    "- upload files to Google Drive (as per normal)\n",
    "- load files from external source"
   ]
  },
  {
   "cell_type": "code",
   "execution_count": null,
   "metadata": {
    "colab": {
     "base_uri": "https://localhost:8080/",
     "height": 34
    },
    "colab_type": "code",
    "id": "peo8mRnO3vYr",
    "outputId": "bbefddb2-bd74-4830-b86a-d6a719b401e9"
   },
   "outputs": [],
   "source": [
    "# Verify we're in the correct working directory\n",
    "%pwd"
   ]
  },
  {
   "cell_type": "markdown",
   "metadata": {
    "colab_type": "text",
    "id": "VQY5DBAl8S7_"
   },
   "source": [
    "## Fill the working directory from our Git repo !"
   ]
  },
  {
   "cell_type": "code",
   "execution_count": null,
   "metadata": {
    "colab": {
     "base_uri": "https://localhost:8080/",
     "height": 221
    },
    "colab_type": "code",
    "id": "8ISJwKZ2342C",
    "outputId": "6ce4aa38-fc17-4bb6-dca4-fd301bb58dc8"
   },
   "outputs": [],
   "source": [
    "# Let's load the working directory from our Git repo !\n",
    "repo = \"ML_Spring_2021\"\n",
    "repo_url = \"https://github.com/kenperry-public/{r}.git\".format(r=repo)\n",
    "\n",
    "import os\n",
    "# Clone the repo unless it is already there\n",
    "repo_root = os.path.join(drive_root, repo)\n",
    "\n",
    "# Clone or refresh from the repo depending on whether we've cloned before\n",
    "if not os.path.exists( repo_root ):\n",
    "  print(\"Cloning from Git url: \", repo_url)\n",
    "  ! git clone $repo_url\n",
    "else:\n",
    "  print(\"Refreshing from Git url: \", repo_url)\n",
    "  %cd $repo_root\n",
    "  ! git pull\n",
    "\n",
    "\n",
    "print(\"\\nChange working directory to repo root\")\n",
    "%cd $repo_root"
   ]
  },
  {
   "cell_type": "markdown",
   "metadata": {
    "colab_type": "text",
    "id": "-oDR3dpx8z5E"
   },
   "source": [
    "## Verify that imports (of modules on the Google Drive) work"
   ]
  },
  {
   "cell_type": "code",
   "execution_count": null,
   "metadata": {
    "colab": {},
    "colab_type": "code",
    "id": "mZyewzHQ8iDH"
   },
   "outputs": [],
   "source": [
    "# Reload all modules imported with %aimport\n",
    "%load_ext autoreload\n",
    "%autoreload 1"
   ]
  },
  {
   "cell_type": "code",
   "execution_count": null,
   "metadata": {
    "colab": {},
    "colab_type": "code",
    "id": "1aZm6xXr8usM"
   },
   "outputs": [],
   "source": [
    "import numpy as np\n",
    "import neural_net_helper\n",
    "%aimport neural_net_helper\n",
    "\n",
    "nnh = neural_net_helper.NN_Helper()"
   ]
  },
  {
   "cell_type": "code",
   "execution_count": null,
   "metadata": {
    "colab": {
     "base_uri": "https://localhost:8080/",
     "height": 585
    },
    "colab_type": "code",
    "id": "R3x-5GUe9Hy7",
    "outputId": "655c5d1d-6f42-42d1-ab55-655dbe1c9117"
   },
   "outputs": [],
   "source": [
    "\n",
    "fig, _ = nnh.plot_activations( np.arange(-3,3, 0.1) )"
   ]
  },
  {
   "cell_type": "code",
   "execution_count": null,
   "metadata": {
    "colab": {
     "base_uri": "https://localhost:8080/",
     "height": 34
    },
    "colab_type": "code",
    "id": "NAmHZV0zJJW3",
    "outputId": "9c834cf6-dcde-4282-d2a4-2919394e5d26"
   },
   "outputs": [],
   "source": [
    "print(\"Done\")"
   ]
  }
 ],
 "metadata": {
  "colab": {
   "collapsed_sections": [],
   "name": "Colab_practical.ipynb",
   "provenance": [],
   "toc_visible": true
  },
  "kernelspec": {
   "display_name": "Python 3",
   "language": "python",
   "name": "python3"
  },
  "language_info": {
   "codemirror_mode": {
    "name": "ipython",
    "version": 3
   },
   "file_extension": ".py",
   "mimetype": "text/x-python",
   "name": "python",
   "nbconvert_exporter": "python",
   "pygments_lexer": "ipython3",
   "version": "3.7.4"
  },
  "toc": {
   "base_numbering": 1,
   "nav_menu": {},
   "number_sections": true,
   "sideBar": true,
   "skip_h1_title": false,
   "title_cell": "Table of Contents",
   "title_sidebar": "Contents",
   "toc_cell": false,
   "toc_position": {},
   "toc_section_display": true,
   "toc_window_display": false
  }
 },
 "nbformat": 4,
 "nbformat_minor": 1
}
