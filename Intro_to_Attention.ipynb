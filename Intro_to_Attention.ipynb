{
 "cells": [
  {
   "cell_type": "code",
   "execution_count": 1,
   "metadata": {
    "slideshow": {
     "slide_type": "notes"
    }
   },
   "outputs": [
    {
     "data": {
      "text/latex": [
       "$$\n",
       "\\newcommand{\\x}{\\mathbf{x}}\n",
       "\\newcommand{\\tx}{\\tilde{\\x}}\n",
       "\\newcommand{\\y}{\\mathbf{y}}\n",
       "\\newcommand{\\b}{\\mathbf{b}}\n",
       "\\newcommand{\\c}{\\mathbf{c}}\n",
       "\\newcommand{\\e}{\\mathbf{e}}\n",
       "\\newcommand{\\z}{\\mathbf{z}}\n",
       "\\newcommand{\\h}{\\mathbf{h}}\n",
       "\\newcommand{\\u}{\\mathbf{u}}\n",
       "\\newcommand{\\v}{\\mathbf{v}}\n",
       "\\newcommand{\\w}{\\mathbf{w}}\n",
       "\\newcommand{\\W}{\\mathbf{W}}\n",
       "\\newcommand{\\X}{\\mathbf{X}}\n",
       "\\newcommand{\\KL}{\\mathbf{KL}}\n",
       "\\newcommand{\\E}{{\\mathbb{E}}}\n",
       "\\newcommand{\\ip}{\\mathbf{{(i)}}}\n",
       "%\n",
       "% Test set\n",
       "\\newcommand{\\xt}{\\underline{\\x}}\n",
       "\\newcommand{\\yt}{\\underline{\\y}}\n",
       "\\newcommand{\\Xt}{\\underline{\\X}}\n",
       "\\newcommand{\\perfm}{\\mathcal{P}}\n",
       "%\n",
       "% \\ll indexes a layer; we can change the actual letter\n",
       "\\newcommand{\\ll}{l}\n",
       "\\newcommand{\\llp}{{(\\ll)}}\n",
       "%\n",
       "\\newcommand{Thetam}{\\Theta_{-0}}\n",
       "\n",
       "% CNN\n",
       "\\newcommand{\\kernel}{\\mathbf{k}} \n",
       "\\newcommand{\\dim}{d}\n",
       "%\n",
       "%\n",
       "\n",
       "% RNN\n",
       "% \\tt indexes a time step\n",
       "\\newcommand{\\tt}{t}\n",
       "\\newcommand{\\tp}{{(\\tt)}}\n",
       "%\n",
       "%\n",
       "\n",
       "% LSTM\n",
       "\\newcommand{\\g}{\\mathbf{g}}\n",
       "\\newcommand{\\remember}{\\mathbf{remember}}\n",
       "\\newcommand{\\save}{\\mathbf{save}}\n",
       "\\newcommand{\\focus}{\\mathbf{focus}}\n",
       "%\n",
       "%\n",
       "\n",
       "\\newcommand{\\loss}{\\mathcal{L}}\n",
       "\\newcommand{\\cost}{\\mathcal{L}}\n",
       "%\n",
       "%                     \n",
       "\\newcommand{\\pdata}{p_\\text{data}}\n",
       "\\newcommand{\\pmodel}{p_\\text{model}}\n",
       "%\n",
       "% SVM\n",
       "\\newcommand{\\margin}{{\\mathbb{m}}}\n",
       "\\newcommand{\\lmk}{\\boldsymbol{\\ell}}\n",
       "%\n",
       "% Functions with arguments\n",
       "\\def\\xsy#1#2{#1^#2}\n",
       "\\def\\rand#1{\\tilde{#1}}\n",
       "\\def\\randx{\\rand{\\x}}\n",
       "\\def\\randy{\\rand{\\y}}\n",
       "\\def\\trans#1{\\dot{#1}}\n",
       "\\def\\transx{\\trans{\\x}}\n",
       "\\def\\transy{\\trans{\\y}}\n",
       "%\n",
       "\\def\\argmax#1{\\underset{#1} {\\operatorname{argmax}} }\n",
       "\\def\\argmin#1{\\underset{#1} {\\operatorname{argmin}} }\n",
       "\\def\\max#1{\\underset{#1} {\\operatorname{max}} }\n",
       "\\def\\min#1{\\underset{#1} {\\operatorname{min}} }\n",
       "%\n",
       "\\def\\pr#1{\\mathcal{p}(#1)}\n",
       "\\def\\prc#1#2{\\mathcal{p}(#1 \\; | \\; #2)}\n",
       "\\def\\cnt#1{\\mathcal{count}_{#1}}\n",
       "\\def\\node#1{\\mathbb{#1}}\n",
       "%\n",
       "\\newcommand{\\floor}[1]{\\left\\lfloor #1 \\right\\rfloor}\n",
       "\\newcommand{\\ceil}[1]{\\left\\lceil #1 \\right\\rceil}\n",
       "%\n",
       "\\def\\loc#1{{\\text{##} {#1}}}\n",
       "%\n",
       "$$\n"
      ],
      "text/plain": [
       "<IPython.core.display.Latex object>"
      ]
     },
     "metadata": {},
     "output_type": "display_data"
    }
   ],
   "source": [
    "%run Latex_macros.ipynb"
   ]
  },
  {
   "cell_type": "markdown",
   "metadata": {
    "slideshow": {
     "slide_type": "slide"
    }
   },
   "source": [
    "# Attention: Motivation\n",
    "\n",
    "Let's revisit the Encoder-Decoder architecture\n",
    "\n",
    "The Encoder\n",
    "- Acts on input sequence $[\\x_{(1)} \\dots \\x_{(\\bar{T})}]$\n",
    "- Producing a sequence of latent states $[ \\bar{\\h}_{(1)}, \\dots, \\bar{\\h}_{(\\bar{T})} ]$\n",
    "\n"
   ]
  },
  {
   "cell_type": "markdown",
   "metadata": {
    "slideshow": {
     "slide_type": "subslide"
    }
   },
   "source": [
    "The Decoder\n",
    "- Acts on the *final* Encoder latent state $\\bar{\\h}_{(\\bar{T})}$\n",
    "- Producing a sequence of outputs $[ \\hat{\\y}_{(1)}, \\dots, \\hat{\\y}_{(T)} ]$\n",
    "- Often feeding step $\\tt$ output $\\hat{\\y}_\\tp$ as Encoder input at step $(\\tt+1)$\n",
    "\n"
   ]
  },
  {
   "cell_type": "markdown",
   "metadata": {
    "slideshow": {
     "slide_type": "subslide"
    }
   },
   "source": [
    "<table>\n",
    "    <tr>\n",
    "        <th><center>RNN Encoder/Decoder</center></th>\n",
    "    </tr>\n",
    "    <tr>\n",
    "        <td><img src=\"images/RNN_layer_API_Encoder_Decoder.png\"</td>\n",
    "    </tr>\n",
    "</table>\n"
   ]
  },
  {
   "cell_type": "markdown",
   "metadata": {
    "slideshow": {
     "slide_type": "subslide"
    }
   },
   "source": [
    "\n",
    "The following diagram is a condensed depiction of the process"
   ]
  },
  {
   "cell_type": "markdown",
   "metadata": {
    "slideshow": {
     "slide_type": "subslide"
    }
   },
   "source": [
    "<table>\n",
    "    <tr>\n",
    "        <th><center>Sequence to Sequence: training (teacher forcing) + inference: No attention</center></th>\n",
    "    </tr>\n",
    "    <tr>\n",
    "        <td><img src=\"images/RNN_seq2seq.png\"></td>\n",
    "    </tr>\n",
    "</table>"
   ]
  },
  {
   "cell_type": "markdown",
   "metadata": {
    "slideshow": {
     "slide_type": "subslide"
    }
   },
   "source": [
    "Recall that $\\bar{\\h}_{(\\bar{\\tt})}$ is a fixed length encoding of the input prefix $\\x_{(1)}, \\ldots, \\x_{(\\bar{\\tt})} $.\n",
    "\n",
    "So $\\bar{\\h}_{(\\bar{T})}$, which initializes the Decoder, is a summary of entire input sequence $\\x$.\n",
    "\n",
    "This fact enables us to decouple the Encoder from the Decoder\n",
    "- The consumption of input $\\x$ and production of output $\\hat{\\y}$ do not have to be synchronized\n",
    "- Allowing for the possibility that $T \\ne \\bar{T}$\n",
    "- For example\n",
    "    - There is no one to one mapping between languages (nor does ordering of words get preserved)\n"
   ]
  },
  {
   "cell_type": "markdown",
   "metadata": {
    "slideshow": {
     "slide_type": "subslide"
    }
   },
   "source": [
    "Let's focus on the part of the Decoder\n",
    "- That transforms latent state (or short term memory) $\\h_\\tp$ to output $\\hat{\\y}_\\tp$\n"
   ]
  },
  {
   "cell_type": "markdown",
   "metadata": {
    "slideshow": {
     "slide_type": "subslide"
    }
   },
   "source": [
    "<table>\n",
    "    <tr>\n",
    "        <th><center>Decoder: No attention</center></th>\n",
    "    </tr>\n",
    "    <tr>\n",
    "        <td><img src=\"images/Decoder_no_attention.png\"></td>\n",
    "    </tr>\n",
    "</table>"
   ]
  },
  {
   "cell_type": "markdown",
   "metadata": {
    "slideshow": {
     "slide_type": "subslide"
    }
   },
   "source": [
    "We can generalize this transformation as\n",
    "$$\\hat{\\y}_\\tp = D( \\h_\\tp; \\mathbf{s})$$\n",
    "\n",
    "In the vanilla RNN, this was governed by the equation\n",
    "$$\\hat{\\y}_\\tp  =   D(\\h_\\tp; \\mathbf{s}) = \\W_{hy} \\h_\\tp  + \\b_y$$\n",
    "\n",
    "Additional parameter $\\mathbf{s}$\n",
    "- Was unused in this example (our illustration used $\\bar{\\h}_{(\\bar{T})}$ as a place-holder)\n",
    "- But may be used in other cases\n"
   ]
  },
  {
   "cell_type": "markdown",
   "metadata": {
    "slideshow": {
     "slide_type": "subslide"
    }
   },
   "source": [
    "This simple mapping of $\\h_\\tp$ to $\\hat{\\y}_\\tp$ can be extremely burdensome\n",
    "\n",
    "It is often the case that $\\hat{\\y}_\\tp$\n",
    "- Depends mostly on a **specific element** $\\x_{(\\bar{\\tt})}$ of the input\n",
    "- Or on a **specific prefix** of the input: $\\x_{(1)}, \\ldots, \\x_{(\\bar{\\tt})} $\n"
   ]
  },
  {
   "cell_type": "markdown",
   "metadata": {
    "slideshow": {
     "slide_type": "subslide"
    }
   },
   "source": [
    "Consider the example of language translation\n",
    "- When predicting word $\\hat{\\y}_\\tp$  in the Target language\n",
    "- Some \"context\" provided by the Source language may greatly influence the prediction\n",
    "    - For example: gender/plurality of the subject\n",
    "\n",
    "This context is usually much smaller\n",
    " than the entire sequence $\\x$ of length $\\bar{T}$.\n",
    "\n"
   ]
  },
  {
   "cell_type": "markdown",
   "metadata": {
    "slideshow": {
     "slide_type": "subslide"
    }
   },
   "source": [
    "By not allowing $D(\\h_\\tp; \\mathbf{s})$ *direct* access to the required context, we force the Decoder\n",
    "- To encode the context of the Source \n",
    "- Along with the specific information of the Target\n",
    "- Into $\\h_\\tp$\n",
    "\n",
    "This makes $\\h_\\tp$ unnecessarily complex and perhaps difficult to learn well.\n",
    "\n",
    "We will introduce a mechanism called *Attention* to alleviate this burden."
   ]
  },
  {
   "cell_type": "markdown",
   "metadata": {
    "slideshow": {
     "slide_type": "subslide"
    }
   },
   "source": [
    "To give you a better feel for context, here are some examples"
   ]
  },
  {
   "cell_type": "markdown",
   "metadata": {
    "slideshow": {
     "slide_type": "subslide"
    }
   },
   "source": [
    "**Image captioning example**\n",
    "- Source: Image\n",
    "- Target: Caption: \"A woman is throwing a **frisbee** in a park.\"\n",
    "- Attending over *pixels* **not** sequence\n",
    "\n",
    "<center><strong>Visual attention</strong></center>\n",
    "<table>\n",
    "    <tr>\n",
    "        <td><img src=\"images/shat_-002-027.jpg\"></td>\n",
    "        <td><img src=\"images/shat_-002-028.jpg\"></td>\n",
    "    </tr>\n",
    "    <tr>\n",
    "        <td colspan=2><center>A woman is throwing a <strong>frisbee</strong> in a park.</center></td>\n",
    "    </tr>\n",
    "</table>\n",
    "Attribution: https://arxiv.org/pdf/1502.03044.pdf\n"
   ]
  },
  {
   "cell_type": "markdown",
   "metadata": {
    "slideshow": {
     "slide_type": "subslide"
    }
   },
   "source": [
    "**Image captioning example**\n",
    "- Source: Image\n",
    "- Target: Caption: \"A giraffe standing in a forest with **trees** in the background.\"\n",
    "- Attending over *pixels* **not** sequence\n",
    "\n",
    "<center><strong>Visual attention</strong></center>\n",
    "<table>\n",
    "    <tr>\n",
    "        <td><img src=\"images/shat_-002-035.png\"></td>\n",
    "        <td><img src=\"images/shat_-002-036.jpg\"></td>\n",
    "    </tr>\n",
    "    <tr>\n",
    "        <td colspan=2><center>A giraffe standing in a forest with <strong>trees</strong> in the background.</center></td>\n",
    "    </tr>\n",
    "</table>\n",
    "Attribution: https://arxiv.org/pdf/1502.03044.pdf"
   ]
  },
  {
   "cell_type": "markdown",
   "metadata": {
    "slideshow": {
     "slide_type": "subslide"
    }
   },
   "source": [
    "**Date normalization example**\n",
    "- Source: Dates in free-form: \"Saturday 09 May 2018\"\n",
    "- Target: Dates in normalized form: \"2018-05-09\"\n",
    "\n",
    "[link](https://github.com/datalogue/keras-attention#example-visualizations)"
   ]
  },
  {
   "cell_type": "markdown",
   "metadata": {
    "slideshow": {
     "slide_type": "slide"
    }
   },
   "source": [
    "# Attend to what's important\n",
    "\n",
    "The solution to over-loading $\\h_\\tp$ with Source context is conceptually straight forward.\n",
    "\n",
    "In the Decoder expression $D(\\h_\\tp; \\mathbf{s})$, let\n",
    "$$\n",
    "\\mathbf{s} = \\c_\\tp\n",
    "$$\n",
    "where $\\c_\\tp$ is a variable\n",
    "- That supplies the appropriate context for output $\\hat{\\y}_\\tp$\n",
    "- Conditional on $\\h_\\tp$"
   ]
  },
  {
   "cell_type": "markdown",
   "metadata": {
    "slideshow": {
     "slide_type": "subslide"
    }
   },
   "source": [
    "Because $\\bar{\\h}_{(\\bar{\\tt})}$ \n",
    "- Is a fixed length encoding of the input prefix $\\x_{(1)}, \\ldots, \\x_{(\\bar{\\tt})} $\n",
    "- It can be assigned to $\\c_\\tp$ as the context for the prefix of $\\x$ of length $\\bar{\\tt}$\n",
    "\n",
    "$$ \\c_\\tp \\in \\{ \\bar{\\h}_{(1)}, \\dots, \\bar{\\h}_{(\\bar{T})} \\} $$\n"
   ]
  },
  {
   "cell_type": "markdown",
   "metadata": {
    "slideshow": {
     "slide_type": "subslide"
    }
   },
   "source": [
    "We say\n",
    "- The Decoder \"attends to\" (pays attention) $\\bar{\\h}_{(\\bar{\\tt})}$\n",
    "- When generating output $\\hat{\\y}_\\tp$\n",
    "\n",
    "That is: it focuses its attention on a specific part of the input $\\x$"
   ]
  },
  {
   "cell_type": "markdown",
   "metadata": {
    "slideshow": {
     "slide_type": "subslide"
    }
   },
   "source": [
    "<table>\n",
    "    <tr>\n",
    "        <th><center>Decoder: Attention</center></th>\n",
    "    </tr>\n",
    "    <tr>\n",
    "        <td><img src=\"images/Decoder_attention.png\"></td>\n",
    "    </tr>\n",
    "</table>"
   ]
  },
  {
   "cell_type": "markdown",
   "metadata": {
    "slideshow": {
     "slide_type": "subslide"
    }
   },
   "source": [
    "The dotted line from $\\h_\\tp$ on the left of the Choose box\n",
    "- Indicates that the Choice is conditional on Decoder state $\\h_\\tp$"
   ]
  },
  {
   "cell_type": "markdown",
   "metadata": {
    "slideshow": {
     "slide_type": "subslide"
    }
   },
   "source": [
    "Here is a diagram summarizing the Attention mechanism"
   ]
  },
  {
   "cell_type": "markdown",
   "metadata": {
    "slideshow": {
     "slide_type": "subslide"
    }
   },
   "source": [
    "<table>\n",
    "    <tr>\n",
    "        <th><center>Sequence to Sequence: attention</center></th>\n",
    "    </tr>\n",
    "    <tr>\n",
    "        <td><img src=\"images/RNN_seq2seq_attention.png\" width=1000></td>\n",
    "    </tr>\n",
    "</table>"
   ]
  },
  {
   "cell_type": "markdown",
   "metadata": {
    "slideshow": {
     "slide_type": "subslide"
    }
   },
   "source": [
    "How is the choice of $\\c_\\tp$ from the set $\\{ \\bar{\\h}_{(1)}, \\dots, \\bar{\\h}_{(\\bar{T})} \\}$ accomplished ?\n",
    "\n",
    "The \"Choose\" box\n",
    "- Is a Neural Network\n",
    "- With it's own weights\n",
    "- That learn to make the best choice for the Target task !"
   ]
  },
  {
   "cell_type": "markdown",
   "metadata": {
    "slideshow": {
     "slide_type": "subslide"
    }
   },
   "source": [
    "In other words\n",
    "- It is trained as part of the larger task\n",
    "\n",
    "This is a common technique in Deep Learning that may, at first, appear magical\n",
    "- Hypothesize the existence of a mechanism to solve your problem\n",
    "- Train a Neural Network to conjure up the mechanism !"
   ]
  },
  {
   "cell_type": "markdown",
   "metadata": {
    "slideshow": {
     "slide_type": "slide"
    }
   },
   "source": [
    "## Multi-head attention: two heads are better than one\n",
    "\n",
    "Remember: \n",
    "- the output sequences are *vectors*\n",
    "- we can stack layers so that the output sequence of layer $\\ll$ becomes the input sequence to layer $\\ll +1$\n",
    "\n",
    "\n",
    "<table>\n",
    "    <tr>\n",
    "        <th><center>RNN Stacked layers</center></th>\n",
    "    </tr>\n",
    "    <tr>\n",
    "        <td><img src=\"images/RNN_layers_stacked.jpg\" width=80%></td>\n",
    "    </tr>\n",
    "</table>"
   ]
  },
  {
   "cell_type": "markdown",
   "metadata": {
    "slideshow": {
     "slide_type": "slide"
    }
   },
   "source": [
    "- When generating two different elements (synthetic features) $j, j'$ of the layer $\\ll$ output vectors\n",
    "- We may want to attend to different things\n",
    "\n",
    "So we often have *multiple* attention \"heads\", one devoted to each output feature.\n",
    "\n",
    "This is called *multi-head attention*"
   ]
  },
  {
   "cell_type": "markdown",
   "metadata": {
    "slideshow": {
     "slide_type": "subslide"
    }
   },
   "source": [
    "A \"head\" is similar to the channel dimension of a CNN\n",
    "- Each head (resp., channel) implements the same computation\n",
    "- Using per-head (resp., per channel) weights\n",
    "- Each computing a separate feature\n",
    "\n",
    "The representation (latent state) of layer $\\ll$ of the transformer\n",
    "- Is the concatenation of the representations produced by each head\n",
    "- So $n_\\text{head} > 1$ results in a larger latent state $n_\\text{head}$ larger than that of a single head"
   ]
  },
  {
   "cell_type": "markdown",
   "metadata": {
    "slideshow": {
     "slide_type": "slide"
    }
   },
   "source": [
    "# Just for fun: Attention in action \n",
    "\n",
    "Here are some examples of Sequence to Sequence problems using Attention."
   ]
  },
  {
   "cell_type": "markdown",
   "metadata": {
    "slideshow": {
     "slide_type": "subslide"
    }
   },
   "source": [
    "**Visual Attention example**\n",
    "- Source: Image\n",
    "- Target: Caption: \"A giraffe and two zebras standing in a field.\"\n",
    "- Attending over *pixels* **not** sequence\n",
    "\n",
    "<img src=\"https://raw.githubusercontent.com/yunjey/show_attend_and_tell/master/jpg/train.jpg\" width=1000>\n",
    "\n",
    "\n",
    "Attribution: https://arxiv.org/abs/1502.03044"
   ]
  },
  {
   "cell_type": "markdown",
   "metadata": {
    "slideshow": {
     "slide_type": "subslide"
    }
   },
   "source": [
    "**Language Translation example**\n",
    "- Source: Spanish\n",
    "- Target: English\n",
    "- Colab notebook !\n",
    "[Translation example](https://colab.research.google.com/github/tensorflow/docs/blob/master/site/en/tutorials/text/nmt_with_attention.ipynb#scrollTo=CiwtNgENbx2g)"
   ]
  },
  {
   "cell_type": "markdown",
   "metadata": {
    "slideshow": {
     "slide_type": "slide"
    }
   },
   "source": [
    "# Self-attention\n",
    "\n",
    "We have illustrated Attention in the context of the Decoder attending to an Encoder.\n",
    "\n",
    "But Attention may be used to relate one element of the *input* sequence to all other elements of the sequence.\n",
    "\n",
    "This is called *self-attention*"
   ]
  },
  {
   "cell_type": "markdown",
   "metadata": {
    "slideshow": {
     "slide_type": "subslide"
    }
   },
   "source": [
    "To illustrate, suppose we want to generate an embedding of words that is context sensitive.\n",
    "\n",
    "Consider\n",
    "- \"The animal didn't cross the street because **it** was too *tired*\"\n",
    "- \"The animal didn't cross the street because **it** was too *wide*\"\n",
    "\n",
    "The meaning of the word \"it\" in each sentence depends on the context."
   ]
  },
  {
   "cell_type": "markdown",
   "metadata": {
    "slideshow": {
     "slide_type": "subslide"
    }
   },
   "source": [
    "By using a model for word embeddings that uses self-attention  we can differentiate between the two.\n",
    "\n",
    "The thickness of the blue line indicates the attention weight that is given in processing the word \"it\".\n",
    "\n",
    "<img src=https://1.bp.blogspot.com/-AVGK0ApREtk/WaiAuzddKVI/AAAAAAAAB_A/WPV5ropBU-cxrcMpqJBFHg73K9NX4vywwCLcBGAs/s1600/image2.png>"
   ]
  },
  {
   "cell_type": "markdown",
   "metadata": {
    "slideshow": {
     "slide_type": "subslide"
    }
   },
   "source": [
    "Much of the recent advances in NLP may be attributed to these improved, context sensitive embeddings."
   ]
  },
  {
   "cell_type": "markdown",
   "metadata": {
    "slideshow": {
     "slide_type": "subslide"
    }
   },
   "source": [
    "## Masked self-attention\n",
    "\n",
    "Self attention is applied to the *entire* input sequence to determine on which elements to focus.\n",
    "\n",
    "It is almost as if the sequence $\\x$ is treated as an *unordered* set.\n",
    "\n",
    "Sometimes order is important."
   ]
  },
  {
   "cell_type": "markdown",
   "metadata": {
    "slideshow": {
     "slide_type": "subslide"
    }
   },
   "source": [
    "For example, consider a generative model where\n",
    "$$\\x_{(\\tt+1)} = \\y_\\tp$$\n",
    "- That is: input element $(\\tt +1)$ is the $t^{th}$ output\n",
    "- Can't attend to something that hasn't been generated yet !\n",
    "- Causal ordering is important\n",
    "\n",
    "Other times, the fact that $\\x_\\tp$ precedes $\\x_{(\\tt+1)}$ is important."
   ]
  },
  {
   "cell_type": "markdown",
   "metadata": {
    "slideshow": {
     "slide_type": "subslide"
    }
   },
   "source": [
    "The solution to both problems is to pair $\\x_\\tp$ with a *positional encoding* (of $\\tt$)\n",
    "\n",
    "To implement causal ordering for output $\\tt$\n",
    "- mask out all $\\x_{(\\tt')}$ where $\\tt' > \\tt$\n",
    "\n",
    "This is called *masked self-attention*"
   ]
  },
  {
   "cell_type": "markdown",
   "metadata": {
    "slideshow": {
     "slide_type": "subslide"
    }
   },
   "source": [
    "The positional encoding can also be used in problem domains where relative order is important.\n",
    "- The encoding is *non-trivial*"
   ]
  },
  {
   "cell_type": "markdown",
   "metadata": {
    "slideshow": {
     "slide_type": "subslide"
    }
   },
   "source": [
    "## Transformers\n",
    "\n",
    "There is a new model (the Transformer) that processes sequences much faster than RNN's.\n",
    "\n",
    "It is an Encoder/Decoder architecture that uses multiple forms of Attention\n",
    "- Self Attention in the Encoder\n",
    "    - to tell the Encoder the relevant parts of the input sequence $\\x$ to attend to\n",
    "- Decoder/Encoder attention\n",
    "    - to tell the Decoder which Encoder state $\\bar{\\h}_{(\\tt')}$ to attend to when outputting $\\y_\\tp$\n",
    "- Masked Self-Attention in the Decoder\n",
    "    - to prevent the Decoder from looking ahead into inputs that have not yet been generated\n",
    "\n"
   ]
  },
  {
   "cell_type": "markdown",
   "metadata": {
    "slideshow": {
     "slide_type": "slide"
    }
   },
   "source": [
    "# Conclusion\n",
    "\n",
    "We recognized that the Decoder function responsible for generating Decoder output $\\hat{\\y}_\\tp$\n",
    "$$\n",
    "\\hat{\\y}_\\tp = D( \\h_\\tp; \\mathbf{s})\n",
    "$$\n",
    "\n",
    "was quite rigid when it ignored argument $\\mathbf{s}$.\n",
    "\n",
    "This rigidity forced Decoder latent state $\\h_\\tp$ to assume the additional responsibility of including Encoder context.\n",
    "\n",
    "Attention was presented as a way to obtain Encoder context through argument $\\mathbf{s}$."
   ]
  },
  {
   "cell_type": "code",
   "execution_count": 2,
   "metadata": {
    "slideshow": {
     "slide_type": "slide"
    }
   },
   "outputs": [
    {
     "name": "stdout",
     "output_type": "stream",
     "text": [
      "Done\n"
     ]
    }
   ],
   "source": [
    "print(\"Done\")"
   ]
  }
 ],
 "metadata": {
  "celltoolbar": "Slideshow",
  "kernelspec": {
   "display_name": "Python 3",
   "language": "python",
   "name": "python3"
  },
  "language_info": {
   "codemirror_mode": {
    "name": "ipython",
    "version": 3
   },
   "file_extension": ".py",
   "mimetype": "text/x-python",
   "name": "python",
   "nbconvert_exporter": "python",
   "pygments_lexer": "ipython3",
   "version": "3.7.4"
  },
  "toc": {
   "base_numbering": 1,
   "nav_menu": {},
   "number_sections": true,
   "sideBar": true,
   "skip_h1_title": false,
   "title_cell": "Table of Contents",
   "title_sidebar": "Contents",
   "toc_cell": false,
   "toc_position": {
    "height": "calc(100% - 180px)",
    "left": "10px",
    "top": "150px",
    "width": "369.594px"
   },
   "toc_section_display": true,
   "toc_window_display": true
  }
 },
 "nbformat": 4,
 "nbformat_minor": 2
}
