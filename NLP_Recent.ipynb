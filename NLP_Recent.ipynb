{
 "cells": [
  {
   "cell_type": "code",
   "execution_count": 1,
   "metadata": {
    "slideshow": {
     "slide_type": "notes"
    }
   },
   "outputs": [
    {
     "data": {
      "text/latex": [
       "$$\n",
       "\\newcommand{\\x}{\\mathbf{x}}\n",
       "\\newcommand{\\tx}{\\tilde{\\x}}\n",
       "\\newcommand{\\y}{\\mathbf{y}}\n",
       "\\newcommand{\\b}{\\mathbf{b}}\n",
       "\\newcommand{\\c}{\\mathbf{c}}\n",
       "\\newcommand{\\e}{\\mathbf{e}}\n",
       "\\newcommand{\\z}{\\mathbf{z}}\n",
       "\\newcommand{\\h}{\\mathbf{h}}\n",
       "\\newcommand{\\u}{\\mathbf{u}}\n",
       "\\newcommand{\\v}{\\mathbf{v}}\n",
       "\\newcommand{\\w}{\\mathbf{w}}\n",
       "\\newcommand{\\W}{\\mathbf{W}}\n",
       "\\newcommand{\\X}{\\mathbf{X}}\n",
       "\\newcommand{\\KL}{\\mathbf{KL}}\n",
       "\\newcommand{\\E}{{\\mathbb{E}}}\n",
       "\\newcommand{\\ip}{\\mathbf{{(i)}}}\n",
       "%\n",
       "% Test set\n",
       "\\newcommand{\\xt}{\\underline{\\x}}\n",
       "\\newcommand{\\yt}{\\underline{\\y}}\n",
       "\\newcommand{\\Xt}{\\underline{\\X}}\n",
       "\\newcommand{\\perfm}{\\mathcal{P}}\n",
       "%\n",
       "% \\ll indexes a layer; we can change the actual letter\n",
       "\\newcommand{\\ll}{l}\n",
       "\\newcommand{\\llp}{{(\\ll)}}\n",
       "%\n",
       "\\newcommand{Thetam}{\\Theta_{-0}}\n",
       "\n",
       "% CNN\n",
       "\\newcommand{\\kernel}{\\mathbf{k}} \n",
       "\\newcommand{\\dim}{d}\n",
       "\\newcommand{\\idxspatial}{{\\text{idx}}}\n",
       "\\newcommand{\\summaxact}{\\text{max}}\n",
       "%\n",
       "%\n",
       "\n",
       "% RNN\n",
       "% \\tt indexes a time step\n",
       "\\newcommand{\\tt}{t}\n",
       "\\newcommand{\\tp}{{(\\tt)}}\n",
       "%\n",
       "%\n",
       "\n",
       "% LSTM\n",
       "\\newcommand{\\g}{\\mathbf{g}}\n",
       "\\newcommand{\\remember}{\\mathbf{remember}}\n",
       "\\newcommand{\\save}{\\mathbf{save}}\n",
       "\\newcommand{\\focus}{\\mathbf{focus}}\n",
       "%\n",
       "%\n",
       "% NLP\n",
       "\\newcommand{\\Vocab}{\\mathbf{V}}\n",
       "\\newcommand{\\v}{\\mathbf{v}}\n",
       "\\newcommand{\\offset}{o}\n",
       "\\newcommand{\\o}{o}\n",
       "\\newcommand{\\E}{\\mathbf{E}}\n",
       "%\n",
       "%\n",
       "\\newcommand{\\loss}{\\mathcal{L}}\n",
       "\\newcommand{\\cost}{\\mathcal{L}}\n",
       "%\n",
       "%                     \n",
       "\\newcommand{\\pdata}{p_\\text{data}}\n",
       "\\newcommand{\\pmodel}{p_\\text{model}}\n",
       "%\n",
       "% SVM\n",
       "\\newcommand{\\margin}{{\\mathbb{m}}}\n",
       "\\newcommand{\\lmk}{\\boldsymbol{\\ell}}\n",
       "%\n",
       "% Functions with arguments\n",
       "\\def\\xsy#1#2{#1^#2}\n",
       "\\def\\rand#1{\\tilde{#1}}\n",
       "\\def\\randx{\\rand{\\x}}\n",
       "\\def\\randy{\\rand{\\y}}\n",
       "\\def\\trans#1{\\dot{#1}}\n",
       "\\def\\transx{\\trans{\\x}}\n",
       "\\def\\transy{\\trans{\\y}}\n",
       "%\n",
       "\\def\\argmax#1{\\underset{#1} {\\operatorname{argmax}} }\n",
       "\\def\\argmin#1{\\underset{#1} {\\operatorname{argmin}} }\n",
       "\\def\\max#1{\\underset{#1} {\\operatorname{max}} }\n",
       "\\def\\min#1{\\underset{#1} {\\operatorname{min}} }\n",
       "%\n",
       "\\def\\pr#1{\\mathcal{p}(#1)}\n",
       "\\def\\prc#1#2{\\mathcal{p}(#1 \\; | \\; #2)}\n",
       "\\def\\cnt#1{\\mathcal{count}_{#1}}\n",
       "\\def\\node#1{\\mathbb{#1}}\n",
       "%\n",
       "\\newcommand{\\floor}[1]{\\left\\lfloor #1 \\right\\rfloor}\n",
       "\\newcommand{\\ceil}[1]{\\left\\lceil #1 \\right\\rceil}\n",
       "%\n",
       "\\def\\loc#1{{\\text{##} {#1}}}\n",
       "%\n",
       "$$\n"
      ],
      "text/plain": [
       "<IPython.core.display.Latex object>"
      ]
     },
     "metadata": {},
     "output_type": "display_data"
    }
   ],
   "source": [
    "%run Latex_macros.ipynb"
   ]
  },
  {
   "cell_type": "markdown",
   "metadata": {
    "slideshow": {
     "slide_type": "slide"
    }
   },
   "source": [
    "# Task agnostic models\n",
    "\n",
    "Early approaches to NLP via Deep Learning created task-specific architectures.\n",
    "\n",
    "The power of these models was enhanced by increasingly sophisticated word representations\n",
    "- Obtained via a Language Model"
   ]
  },
  {
   "cell_type": "markdown",
   "metadata": {
    "slideshow": {
     "slide_type": "subslide"
    }
   },
   "source": [
    "As Language Models have grown increasingly powerful (and large)\n",
    "- The realization is that the architecture for the Language Model is univeral !\n",
    "    - No need to augment the Language Model with a *deep* task-specific \"Head\"\n",
    "- Just use Transfer Learning on the Language Model !\n",
    "\n",
    "This approach is called *Supervised Pre-training + Fine-Tuning*\n",
    "- *Supervised Pre-Training*: the Language Model (e.g., predict the next word)\n",
    "- *Fine-Tuning*: add a task specific head and fine-tune"
   ]
  },
  {
   "cell_type": "markdown",
   "metadata": {
    "slideshow": {
     "slide_type": "subslide"
    }
   },
   "source": [
    "Contrast this to Word Embeddings, which also use Transfer Learning\n",
    "- Embeddings transfer *word-level* concepts\n",
    "- Transferring entire Language Models transfer *semantic* concepts"
   ]
  },
  {
   "cell_type": "markdown",
   "metadata": {
    "slideshow": {
     "slide_type": "subslide"
    }
   },
   "source": [
    "Because the Pre-Trained model has a very specific input format (and output)\n",
    "- You often have to encode your task-specific input to fit\n",
    "\n",
    "For example:\n",
    "- Consider a Pre-Trained model that performs text completion (predict the next)\n",
    "- Turn your task into a text completion problem\n",
    "- [See](https://arxiv.org/pdf/2005.14165.pdf) Appendix G (pages 75+) for examples"
   ]
  },
  {
   "cell_type": "markdown",
   "metadata": {
    "slideshow": {
     "slide_type": "subslide"
    }
   },
   "source": [
    "<center>Task: Unscramble the letters</center>\n",
    "\n",
    "|  |  |  |\n",
    "| :- | :- | --- |\n",
    "| Context: | Please unscramble the letters in the word and write that word | |\n",
    "|          | skicts = |\n",
    "| Target completion: | sticks |\n"
   ]
  },
  {
   "cell_type": "markdown",
   "metadata": {
    "slideshow": {
     "slide_type": "subslide"
    }
   },
   "source": [
    "<center>Task: English to French</center>\n",
    "\n",
    "|  |  |  |\n",
    "| :- | :- | --- |\n",
    "| Context: | English: Please unscramble the letters in the word and write that word | |\n",
    "|          | French: | |\n",
    "| Target completion: | Veuillez déchiffrer les lettres du mot et écrire ce mot |\n"
   ]
  },
  {
   "cell_type": "markdown",
   "metadata": {
    "slideshow": {
     "slide_type": "subslide"
    }
   },
   "source": [
    "Sometimes the task encodings are not completely obvious (see [GPT Section 3.3](https://cdn.openai.com/research-covers/language-unsupervised/language_understanding_paper.pdf))\n",
    "- Task: Are two sentences similar ?\n",
    "    - Issue\n",
    "        - There is no natural ordering of the two sentences\n",
    "        - So concatenating the two (with a delimiter) is misleading\n",
    "    - Solution\n",
    "        - Obtain two representations of the sentence pair, once for each ordering\n",
    "        - Add them together element-wise\n",
    "        - Feed sum into Classifier\n",
    "        "
   ]
  },
  {
   "cell_type": "markdown",
   "metadata": {
    "slideshow": {
     "slide_type": "subslide"
    }
   },
   "source": [
    "- Task: multiple choice questions answering: given context, question plus list of possible answers\n",
    "    - Solution:\n",
    "        - Obtain representation for each answer\n",
    "            - Concatenate (with delimiter): context, questions, answer\n",
    "        - Feed each representation into a $\\text{softmax}$to obtain probability distribution over answers\n"
   ]
  },
  {
   "cell_type": "markdown",
   "metadata": {
    "slideshow": {
     "slide_type": "subslide"
    }
   },
   "source": [
    "<table>\n",
    "    <tr>\n",
    "        <th><center>GPT: Task encoding</center></th>\n",
    "    </tr>\n",
    "    <tr>\n",
    "        <td><img src=\"images/LM_GPT_task_encoding.png\" width=80%></td>\n",
    "    </tr>\n",
    "    <tr>\n",
    "        <td><center>Picture from: https://cdn.openai.com/research-covers/language-unsupervised/language_understanding_paper.pdf</center></td>\n",
    "    </tr>   \n",
    "</table>"
   ]
  },
  {
   "cell_type": "markdown",
   "metadata": {
    "slideshow": {
     "slide_type": "subslide"
    }
   },
   "source": [
    "<table>\n",
    "    <tr>\n",
    "        <th><center>Universal model: adapting task-specific inputs</center></th>\n",
    "    </tr>\n",
    "    <tr>\n",
    "        <td><img src=\"http://jalammar.github.io/images/bert-tasks.png\"\" width=80%></td>\n",
    "    </tr>\n",
    "    <tr>\n",
    "        <td><center>Picture from: http://jalammar.github.io/images/bert-tasks.png\"</center></td>\n",
    "    </tr>   \n",
    "</table>"
   ]
  },
  {
   "cell_type": "markdown",
   "metadata": {
    "slideshow": {
     "slide_type": "subslide"
    }
   },
   "source": [
    "**From a very practical standpoint**\n",
    "- In the near future (maybe even now) you will not create a new model\n",
    "- You will use an existing Language Model\n",
    "    - Trained with lots of data\n",
    "    - At great cost\n",
    "- And fine-tune to your task"
   ]
  },
  {
   "cell_type": "markdown",
   "metadata": {
    "slideshow": {
     "slide_type": "slide"
    }
   },
   "source": [
    "# Models using Supervised Pre-training + Fine-Tuning\n",
    "\n",
    "We present a few models using this approach.\n"
   ]
  },
  {
   "cell_type": "markdown",
   "metadata": {
    "slideshow": {
     "slide_type": "subslide"
    }
   },
   "source": [
    "## GPT: Generalized Pre-Training\n",
    "\n",
    "GPT is a sequence of increasingly powerful (and big) models of similar architecture.\n",
    "- The Decoder side of a Transformer Encoder-Decoder model\n",
    "    - Masked Self-attention\n",
    "    - Left to Right, unidirectional\n",
    "    "
   ]
  },
  {
   "cell_type": "markdown",
   "metadata": {
    "slideshow": {
     "slide_type": "subslide"
    }
   },
   "source": [
    "Each generation\n",
    "- Increase the number of Transformer blocks\n",
    "- Increases the size of the training data\n",
    "\n",
    "All models use\n",
    "- Byte Pair Encoding\n",
    "- Initial encode words with word embeddings\n",
    "\n",
    "They are all trained on a Language Model objective."
   ]
  },
  {
   "cell_type": "markdown",
   "metadata": {
    "slideshow": {
     "slide_type": "subslide"
    }
   },
   "source": [
    "<table>\n",
    "    <tr>\n",
    "        <th><center>GPT: architecture</center></th>\n",
    "    </tr>\n",
    "    <tr>\n",
    "        <td><img src=\"images/GPT_orig_arch.png\" width=50%></td>\n",
    "    </tr>\n",
    "    <tr>\n",
    "        <td><center>Picture from: https://cdn.openai.com/research-covers/language-unsupervised/language_understanding_paper.pdf</center></td>\n",
    "    </tr>   \n",
    "</table>"
   ]
  },
  {
   "cell_type": "markdown",
   "metadata": {
    "slideshow": {
     "slide_type": "subslide"
    }
   },
   "source": [
    "The models can be described as\n",
    "\n",
    "$$\n",
    "\\begin{array}[lll] \\\\\n",
    "h_0 & =  U W_e + W_p \\\\\n",
    "h_i & =  \\text{transformer_block} ( h_i ) & \\text{for }  1 \\le i \\le n\\\\\n",
    "\\text{prod}(U) & =  \\text{softmax}( h_n  W_e^T ) \\\\\n",
    "\\end{array}\n",
    "$$\n",
    "where\n",
    "$$ \n",
    "\\begin{array}[lll] \\\\\n",
    "U   & \\text{context of size } k: [ u_{-k}, \\ldots, u_{-1} ] \\\\\n",
    "h_i & \\text{Output of transformer block } i\\\\ \n",
    "n   & \\text{number of transformer blocks/layers} \\\\\n",
    "W_e & \\text{token embedding matrix} \\\\\n",
    "W_p & \\text{position encoding matrix} \\\\\n",
    "\\end{array}\n",
    "$$"
   ]
  },
  {
   "cell_type": "markdown",
   "metadata": {
    "slideshow": {
     "slide_type": "subslide"
    }
   },
   "source": [
    "Let's understand this\n",
    "- $h_0$, the output of the input layer\n",
    "    - Uses word embeddings $W_e$ on the input $U$\n",
    "    - Adds *positional* encoding $W_p$  to the tokens\n",
    "- There are layers $h_i$ of Transformer blocks $1 \\le i \\le n$\n",
    "- The output $\\text{prod}(U)$\n",
    "    - Takes the final layer output $h_n$\n",
    "    - Reverses the embedding $W_e^T$  to get back to original tokens\n",
    "    - Uses a $\\text{softmax}$ to get a probability distribution over the tokens $U$ \n",
    "        - Distribution over the predicted next token"
   ]
  },
  {
   "cell_type": "markdown",
   "metadata": {
    "slideshow": {
     "slide_type": "subslide"
    }
   },
   "source": [
    "The training objective is to maximize log likelihood on $\\mathcal{U}$\n",
    "\n",
    "$$\n",
    "\\begin{array}[lll] \\\\\n",
    "\\mathcal{L}_1 ( \\mathcal{U} ) = \\sum_i { \\log{P( u_i | u_{i-k}, \\ldots, u_{i-1}} ; \\Theta )} \n",
    "\\end{array}\n",
    "$$"
   ]
  },
  {
   "cell_type": "markdown",
   "metadata": {
    "slideshow": {
     "slide_type": "subslide"
    }
   },
   "source": [
    "[paper](https://cdn.openai.com/research-covers/language-unsupervised/language_understanding_paper.pdf)\n",
    "\n",
    "[Summary](https://openai.com/blog/language-unsupervised/)\n",
    "- 12 Transformer blocks (37 layers)\n",
    "    - $n_\\text{heads} = 12, d_\\text{head} = 64$\n",
    "        - $d_\\text{model} = n_\\text{heads} * d_\\text{head} = 768$\n",
    "        - $d_\\text{model}$ is size of bottle-neck layer\n",
    "- 117 million weights\n",
    "- Trained on\n",
    "    - 5GB of text (BooksCorpus dataset consisting of 7,000 books)\n",
    "    - Sequence of 512 tokens\n",
    "    - Training time\n",
    "        - 30 days on 8 GPUs\n",
    "        - 26 petaflop-days\n",
    "        \n",
    "   "
   ]
  },
  {
   "cell_type": "markdown",
   "metadata": {
    "slideshow": {
     "slide_type": "subslide"
    }
   },
   "source": [
    "The original Unsupervised Training to create the Language Model.\n",
    "\n",
    "This is followed by Fine Tuning on a smaller task-specific training set $\\mathcal{C}$\n",
    "\n",
    "This can be described as:\n",
    "- Add linear output layer $W_y$ to the model used for Language Modeling:\n",
    "- $h_l^m$ is output of transformer block $l$ on input of length $m$\n",
    "- Using $\\Theta$ from unsupervised pre-training\n",
    "- Fine Tuning Objective:\n",
    "    - maximize log likelihood on $\\mathcal{C}$\n",
    "$$\n",
    "\\begin{array}[lll] \\\\\n",
    "\\mathcal{L}_2 ( \\mathcal{C} ) = \\sum_{(x,y)} { P( y | x_1, \\ldots, x_m } )  = \\text{softmax}(h_l^m W_y )\n",
    "\\end{array}\n",
    "$$"
   ]
  },
  {
   "cell_type": "markdown",
   "metadata": {
    "slideshow": {
     "slide_type": "subslide"
    }
   },
   "source": [
    "The authors also experimented with a Fine Tuning Objective that included the Langauge Model\n",
    "\n",
    "$$\n",
    "\\begin{array}[lll] \\\\\n",
    "\\mathcal{L}_3 ( \\mathcal{C} )  = \\mathcal{L}_2 ( \\mathcal{C} ) + \\lambda \\mathcal{L}_1 ( \\mathcal{C} )\n",
    "\\end{array}\n",
    "$$"
   ]
  },
  {
   "cell_type": "markdown",
   "metadata": {
    "slideshow": {
     "slide_type": "subslide"
    }
   },
   "source": [
    "### Results of Supervised Pre-Training + Fine-Tuning\n",
    "\n",
    "- Tested on 12 tasks\n",
    "- Improved state-of-the-art results on 9 out of the 12"
   ]
  },
  {
   "cell_type": "markdown",
   "metadata": {
    "slideshow": {
     "slide_type": "slide"
    }
   },
   "source": [
    "## BERT\n",
    " [paper](https://arxiv.org/pdf/1810.04805.pdf)\n",
    " \n",
    "BERT (Bidirectional Encoder Representations from Transformers) is also a *fine-tuning* (universal model) approach, like GPT\n",
    "- does not use *masked attention* to force causal ordering\n",
    "- uses a Masked Language Model pre-training objective \n",
    " \n",
    "The Transformer in OpenAI's GPT uses *Masked* Self-Attention\n",
    "- the Language Models/training objectives are conditioned on *prefix* and *suffix*, not full context\n",
    "- So is fundamentally a left-to-right Language Model\n",
    "\n"
   ]
  },
  {
   "cell_type": "markdown",
   "metadata": {
    "slideshow": {
     "slide_type": "subslide"
    }
   },
   "source": [
    "**Masked Language Model** task\n",
    "- Mask (obscure) 15% of the input tokens, chosen at random\n",
    "- The method for masking takes one of three forms\n",
    "    - 80% of the time, hide it: replace with $\\text{[MASK]}$ token\n",
    "    - 10% of the time: replace it with a random word\n",
    "    - 10% of the time: don't obscure it\n",
    "    \n",
    "The training objective is to predict the masked word"
   ]
  },
  {
   "cell_type": "markdown",
   "metadata": {
    "slideshow": {
     "slide_type": "subslide"
    }
   },
   "source": [
    "The authors explain\n",
    "- Since encoder does not know which words have been masked\n",
    "- Or which of the masked words were random replacements\n",
    "- It must maintain a context for **all** tokens\n",
    "\n",
    "They also state that, since random replacement only occurs 1.5% of the time (10% * 15%), this does\n",
    "not seem to destroy language understanding"
   ]
  },
  {
   "cell_type": "markdown",
   "metadata": {
    "slideshow": {
     "slide_type": "subslide"
    }
   },
   "source": [
    "### BERT in action\n",
    "\n",
    "[Interactive model for MLM](https://huggingface.co/bert-base-uncased?text=Washington+is+the+%5BMASK%5D+of+the+US)"
   ]
  }
 ],
 "metadata": {
  "celltoolbar": "Slideshow",
  "kernelspec": {
   "display_name": "Python 3",
   "language": "python",
   "name": "python3"
  },
  "language_info": {
   "codemirror_mode": {
    "name": "ipython",
    "version": 3
   },
   "file_extension": ".py",
   "mimetype": "text/x-python",
   "name": "python",
   "nbconvert_exporter": "python",
   "pygments_lexer": "ipython3",
   "version": "3.7.4"
  },
  "toc": {
   "base_numbering": 1,
   "nav_menu": {},
   "number_sections": true,
   "sideBar": true,
   "skip_h1_title": false,
   "title_cell": "Table of Contents",
   "title_sidebar": "Contents",
   "toc_cell": false,
   "toc_position": {},
   "toc_section_display": true,
   "toc_window_display": true
  }
 },
 "nbformat": 4,
 "nbformat_minor": 2
}
