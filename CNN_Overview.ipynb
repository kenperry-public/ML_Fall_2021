{
 "cells": [
  {
   "cell_type": "code",
   "execution_count": 1,
   "metadata": {
    "slideshow": {
     "slide_type": "notes"
    }
   },
   "outputs": [
    {
     "data": {
      "text/latex": [
       "$$\n",
       "\\newcommand{\\x}{\\mathbf{x}}\n",
       "\\newcommand{\\tx}{\\tilde{\\x}}\n",
       "\\newcommand{\\y}{\\mathbf{y}}\n",
       "\\newcommand{\\b}{\\mathbf{b}}\n",
       "\\newcommand{\\c}{\\mathbf{c}}\n",
       "\\newcommand{\\e}{\\mathbf{e}}\n",
       "\\newcommand{\\z}{\\mathbf{z}}\n",
       "\\newcommand{\\h}{\\mathbf{h}}\n",
       "\\newcommand{\\u}{\\mathbf{u}}\n",
       "\\newcommand{\\v}{\\mathbf{v}}\n",
       "\\newcommand{\\w}{\\mathbf{w}}\n",
       "\\newcommand{\\W}{\\mathbf{W}}\n",
       "\\newcommand{\\X}{\\mathbf{X}}\n",
       "\\newcommand{\\KL}{\\mathbf{KL}}\n",
       "\\newcommand{\\E}{{\\mathbb{E}}}\n",
       "\\newcommand{\\ip}{\\mathbf{{(i)}}}\n",
       "%\n",
       "% Test set\n",
       "\\newcommand{\\xt}{\\underline{\\x}}\n",
       "\\newcommand{\\yt}{\\underline{\\y}}\n",
       "\\newcommand{\\Xt}{\\underline{\\X}}\n",
       "\\newcommand{\\perfm}{\\mathcal{P}}\n",
       "%\n",
       "% \\ll indexes a layer; we can change the actual letter\n",
       "\\newcommand{\\ll}{l}\n",
       "\\newcommand{\\llp}{{(\\ll)}}\n",
       "%\n",
       "\\newcommand{Thetam}{\\Theta_{-0}}\n",
       "\n",
       "% CNN\n",
       "\\newcommand{\\kernel}{\\mathbf{k}} \n",
       "\\newcommand{\\dim}{d}\n",
       "\\newcommand{\\idxspatial}{{\\text{idx}}}\n",
       "\\newcommand{\\summaxact}{\\text{max}}\n",
       "%\n",
       "%\n",
       "\n",
       "% RNN\n",
       "% \\tt indexes a time step\n",
       "\\newcommand{\\tt}{t}\n",
       "\\newcommand{\\tp}{{(\\tt)}}\n",
       "%\n",
       "%\n",
       "\n",
       "% LSTM\n",
       "\\newcommand{\\g}{\\mathbf{g}}\n",
       "\\newcommand{\\remember}{\\mathbf{remember}}\n",
       "\\newcommand{\\save}{\\mathbf{save}}\n",
       "\\newcommand{\\focus}{\\mathbf{focus}}\n",
       "%\n",
       "%\n",
       "% NLP\n",
       "\\newcommand{\\Vocab}{\\mathbf{V}}\n",
       "\\newcommand{\\v}{\\mathbf{v}}\n",
       "\\newcommand{\\offset}{o}\n",
       "\\newcommand{\\o}{o}\n",
       "\\newcommand{\\E}{\\mathbf{E}}\n",
       "%\n",
       "%\n",
       "\\newcommand{\\loss}{\\mathcal{L}}\n",
       "\\newcommand{\\cost}{\\mathcal{L}}\n",
       "%\n",
       "%                     \n",
       "\\newcommand{\\pdata}{p_\\text{data}}\n",
       "\\newcommand{\\pmodel}{p_\\text{model}}\n",
       "%\n",
       "% SVM\n",
       "\\newcommand{\\margin}{{\\mathbb{m}}}\n",
       "\\newcommand{\\lmk}{\\boldsymbol{\\ell}}\n",
       "%\n",
       "% Functions with arguments\n",
       "\\def\\xsy#1#2{#1^#2}\n",
       "\\def\\rand#1{\\tilde{#1}}\n",
       "\\def\\randx{\\rand{\\x}}\n",
       "\\def\\randy{\\rand{\\y}}\n",
       "\\def\\trans#1{\\dot{#1}}\n",
       "\\def\\transx{\\trans{\\x}}\n",
       "\\def\\transy{\\trans{\\y}}\n",
       "%\n",
       "\\def\\argmax#1{\\underset{#1} {\\operatorname{argmax}} }\n",
       "\\def\\argmin#1{\\underset{#1} {\\operatorname{argmin}} }\n",
       "\\def\\max#1{\\underset{#1} {\\operatorname{max}} }\n",
       "\\def\\min#1{\\underset{#1} {\\operatorname{min}} }\n",
       "%\n",
       "\\def\\pr#1{\\mathcal{p}(#1)}\n",
       "\\def\\prc#1#2{\\mathcal{p}(#1 \\; | \\; #2)}\n",
       "\\def\\cnt#1{\\mathcal{count}_{#1}}\n",
       "\\def\\node#1{\\mathbb{#1}}\n",
       "%\n",
       "\\newcommand{\\floor}[1]{\\left\\lfloor #1 \\right\\rfloor}\n",
       "\\newcommand{\\ceil}[1]{\\left\\lceil #1 \\right\\rceil}\n",
       "%\n",
       "\\def\\loc#1{{\\text{##} {#1}}}\n",
       "%\n",
       "$$\n"
      ],
      "text/plain": [
       "<IPython.core.display.Latex object>"
      ]
     },
     "metadata": {},
     "output_type": "display_data"
    }
   ],
   "source": [
    "%run Latex_macros.ipynb"
   ]
  },
  {
   "cell_type": "code",
   "execution_count": 2,
   "metadata": {
    "slideshow": {
     "slide_type": "notes"
    }
   },
   "outputs": [],
   "source": [
    "%run beautify_plots.py"
   ]
  },
  {
   "cell_type": "code",
   "execution_count": 3,
   "metadata": {
    "slideshow": {
     "slide_type": "notes"
    }
   },
   "outputs": [],
   "source": [
    "# My standard magic !  You will see this in almost all my notebooks.\n",
    "\n",
    "from IPython.core.interactiveshell import InteractiveShell\n",
    "InteractiveShell.ast_node_interactivity = \"all\"\n",
    "\n",
    "# Reload all modules imported with %aimport\n",
    "%load_ext autoreload\n",
    "%autoreload 1\n",
    "\n",
    "%matplotlib inline"
   ]
  },
  {
   "cell_type": "code",
   "execution_count": 4,
   "metadata": {
    "slideshow": {
     "slide_type": "notes"
    }
   },
   "outputs": [],
   "source": [
    "import pandas as pd\n",
    "import numpy as plt\n",
    "\n",
    "import matplotlib.pyplot as plt\n",
    "\n",
    "import os \n"
   ]
  },
  {
   "cell_type": "markdown",
   "metadata": {
    "slideshow": {
     "slide_type": "slide"
    }
   },
   "source": [
    "# Convolutional Neural Networks\n",
    "\n",
    "Our introduction was of a very limited Convolutional Layer\n",
    "- Recognizing a single feature\n",
    "- One dimensional\n",
    "\n",
    "We will relax each restriction in turn."
   ]
  },
  {
   "cell_type": "markdown",
   "metadata": {
    "slideshow": {
     "slide_type": "subslide"
    }
   },
   "source": [
    "# Multiple features\n",
    "\n",
    "Recall that a Fully Connected layer may have multiple units, so as to compute *multiple* features.\n",
    "\n",
    "\n",
    "A Fully Connected/Dense Layer producing multiple features at layer $\\ll$ computes\n",
    "$$\n",
    "\\y_{\\llp,j} = a_\\llp( \\y_{(\\ll-1)} \\cdot \\W_{\\llp,j} )\n",
    "$$\n",
    "using separate weights to recognize each feature"
   ]
  },
  {
   "cell_type": "markdown",
   "metadata": {
    "slideshow": {
     "slide_type": "subslide"
    }
   },
   "source": [
    "<div>\n",
    "    <br>\n",
    "    <center><strong>Fully connected, two features</strong></center>\n",
    "    <br>\n",
    "<img src=images/FC_2feature.png>\n",
    "    <br>\n",
    "    </div>"
   ]
  },
  {
   "cell_type": "markdown",
   "metadata": {
    "slideshow": {
     "slide_type": "subslide"
    }
   },
   "source": [
    "Similary, a Convolutional layer may compute *multiple* features:\n",
    "- Using separate kernels to recognize each output feature map\n",
    "- Indicated via separate colors"
   ]
  },
  {
   "cell_type": "markdown",
   "metadata": {
    "slideshow": {
     "slide_type": "subslide"
    }
   },
   "source": [
    "<div>\n",
    "    <br>\n",
    "    <center><strong>CNN layer, multiple features</strong></center>\n",
    "    <br>\n",
    "<img src=images/Conv1d_2feature_diag.png>\n",
    "    <br>\n",
    "    </div>"
   ]
  },
  {
   "cell_type": "markdown",
   "metadata": {
    "slideshow": {
     "slide_type": "subslide"
    }
   },
   "source": [
    "**Remember**: each output feature is a **vector** !\n",
    "\n",
    "A *feature map* is\n",
    "- the same feature\n",
    "- evaluated at *each spatial location* of the input\n",
    "\n",
    "So the output of Convolutional Layer $l$ is $n_\\llp$ feature maps."
   ]
  },
  {
   "cell_type": "markdown",
   "metadata": {
    "slideshow": {
     "slide_type": "subslide"
    }
   },
   "source": [
    "- Different feature maps $\\y_{\\llp,j}$ use *different* kernels\n",
    "    - e.g., $\\kernel_{\\llp,1}, \\kernel_{\\llp,2}, \\ldots$\n",
    "- But are applied over the *same* input locations\n",
    "- Recognizing *different* features at the same location\n",
    "- e.g., $\\y_{\\llp,1}, \\y_{\\llp,2}, \\ldots$"
   ]
  },
  {
   "cell_type": "markdown",
   "metadata": {
    "slideshow": {
     "slide_type": "subslide"
    }
   },
   "source": [
    "As a preview of concepts to be introduced:\n",
    "\n",
    "Consider an example where \n",
    "- the input layer $(l-1)$ is a two-dimensional grid of pixels\n",
    "- layer $l$ is a Convolutional Layer identifying $3$ features"
   ]
  },
  {
   "cell_type": "markdown",
   "metadata": {
    "slideshow": {
     "slide_type": "subslide"
    }
   },
   "source": [
    "<table>\n",
    "    <tr>\n",
    "        <th><center>Convolution: 1 input feature to 3 output features</center></th>\n",
    "    </tr>\n",
    "    <tr>\n",
    "        <td><img src=\"images/Conv2d_multifeature_shape.png\" width=80%></td>\n",
    "    </tr>\n",
    "</table>"
   ]
  },
  {
   "cell_type": "markdown",
   "metadata": {
    "slideshow": {
     "slide_type": "subslide"
    }
   },
   "source": [
    "Layer $(l-1)$ is three-dimensional tensor: $8 \\times 8 \\times 1$\n",
    "- Spatial dimension $8 \\times 8$\n",
    "- 1 feature map (channel dimension $= 1$)"
   ]
  },
  {
   "cell_type": "markdown",
   "metadata": {
    "slideshow": {
     "slide_type": "subslide"
    }
   },
   "source": [
    "The idea behind a convolution is that *each* kernel\n",
    "- is slid over the spatial dimension of the layer $l$ input\n",
    "- to create *one* feature map of the layer $l$ output\n",
    "    - the spatial dimension of the output is the same as the input\n",
    "    - indicators for the locations in the input that match the kernel pattern\n",
    "    \n",
    "We do this for each kernel, resulting in the output having one feature map per kernel."
   ]
  },
  {
   "cell_type": "markdown",
   "metadata": {
    "slideshow": {
     "slide_type": "subslide"
    }
   },
   "source": [
    "Layer $l$ implements a convolution\n",
    "- Kernel size $k=2$ (shape $2 \\times 2$)\n",
    "- 3 Kernels, each matching a simple pattern\n",
    "    - \"eye\"\n",
    "    - \"left smile\"\n",
    "    - \"right smile\""
   ]
  },
  {
   "cell_type": "markdown",
   "metadata": {
    "slideshow": {
     "slide_type": "subslide"
    }
   },
   "source": [
    "Layer $l$ output is three-dimensional: $8 \\times 8 \\times 3$\n",
    "- Spatial dimension $8 \\times 8$\n",
    "- 3 feature maps (channel dimension $=3$)\n",
    "    - One for each kernel\n",
    "    - Each feature map has a green square at the spatial location in layer $(l-1)$ where the kernel matches"
   ]
  },
  {
   "cell_type": "markdown",
   "metadata": {
    "slideshow": {
     "slide_type": "subslide"
    }
   },
   "source": [
    "We can show the process of sliding two kernels over an input layer $(l-1)$ that contains a single feature\n",
    "- \"One dimensional\" input\n",
    "- More accurately: Two dimensional with a singleton dimension corresponding to the feature/channel dimension"
   ]
  },
  {
   "cell_type": "markdown",
   "metadata": {
    "slideshow": {
     "slide_type": "subslide"
    }
   },
   "source": [
    "<div>\n",
    "    <br>\n",
    "    <center><strong>Conv 1D, single input, multiple output features</strong></center>\n",
    "    <br>\n",
    "<img src=images/W9_L2_S10_Conv1d_2feature.png width=\"80%\">\n",
    "    <!-- edX: Original: <img src=\"images/Conv1d_2feature.png\"> replace by EdX created image --> \n",
    "    </div>"
   ]
  },
  {
   "cell_type": "markdown",
   "metadata": {
    "slideshow": {
     "slide_type": "slide"
    }
   },
   "source": [
    "# Notation\n",
    "\n",
    "## Input dimensions: Spatial, channel\n",
    "\n",
    "Our examples thus far have input layers that are one dimensional (having a single feature).\n",
    "\n",
    "This will not always be the case:\n",
    "- When Convolutional Layer $\\ll$ creates *multiple* features, as above\n",
    "- Layer $\\ll$ output is 2 dimensional"
   ]
  },
  {
   "cell_type": "markdown",
   "metadata": {
    "slideshow": {
     "slide_type": "subslide"
    }
   },
   "source": [
    "We will soon deal with even higher dimensional inputs (e.g, 3 dimensional).\n",
    "\n",
    "First, some common terminology.\n",
    "\n",
    "Suppose the input $\\y_{(\\ll-1)}$ is $(N+1)$ dimensional of shape \n",
    "$$\n",
    "|| \\y_{(\\ll-1)} || = (\\dim_{(\\ll-1),1} \\times \\dim_{(\\ll-1),2} \\times \\ldots \\dim_{(\\ll-1),N} \\,\\, \\times n_{(\\ll-1)} )\n",
    "$$\n",
    "\n",
    "(Thus far: $N = 1$ and $n_{(\\ll-1)} = 1$ but that will soon change)"
   ]
  },
  {
   "cell_type": "markdown",
   "metadata": {
    "slideshow": {
     "slide_type": "subslide"
    }
   },
   "source": [
    "The first $N$ dimensions $(\\dim_{(\\ll-1),1} \\times \\dim_{(\\ll-1),2} \\times \\ldots \\dim_{(\\ll-1),N} )$\n",
    "- Are called the *spatial* dimensions\n",
    "\n",
    "The last dimension (of size $ n_{(\\ll-1)}$)\n",
    "- Indexes the  features i.e., varies over the number of features\n",
    "- Called the *feature* or *channel* dimension"
   ]
  },
  {
   "cell_type": "markdown",
   "metadata": {
    "slideshow": {
     "slide_type": "subslide"
    }
   },
   "source": [
    "**Notation**\n",
    "\n",
    "- $N$ denotes the *number* of spatial dimensions\n",
    "- $n_\\llp$ denotes the *number of features* in layer $\\ll$\n",
    "- Thus far: $N = n_\\llp = 1 $"
   ]
  },
  {
   "cell_type": "markdown",
   "metadata": {
    "slideshow": {
     "slide_type": "subslide"
    }
   },
   "source": [
    "Rather than treating the single feature input as a special case\n",
    "- The shape of $\\y_{(\\ll-1)}$ would be better written with an extra dimension of length 1:\n",
    "$$\n",
    "|| \\y_{(\\ll-1)} || = (\\dim_{(\\ll-1),1} \\times \\dim_{(\\ll-1),2} \\times \\ldots \\dim_{(\\ll-1),N} \\times \\mathbf{1} )\n",
    "$$\n",
    "- More clearly indicating that layer $\\ll-1$ has just one feature"
   ]
  },
  {
   "cell_type": "markdown",
   "metadata": {
    "slideshow": {
     "slide_type": "subslide"
    }
   },
   "source": [
    "With this terminology we can say that a Convolution\n",
    "- Uses a different kernel $\\kernel_{\\llp,j}$ for each output feature/channel $1 \\le j \\le n_\\llp$\n",
    "- Applies this kernel to *each* element in the *spatial* dimensions\n",
    "- Feature map for feature number $1 \\le j \\le n_\\llp$\n",
    "    - Is of same shape as the spatial dimension\n",
    "    - Recognizing a single feature at each location within the spatial dimension\n"
   ]
  },
  {
   "cell_type": "markdown",
   "metadata": {
    "slideshow": {
     "slide_type": "subslide"
    }
   },
   "source": [
    "## Channel Last/First\n",
    "\n",
    "As we have seem: we are dealing with objects of $(N+1)$ dimensions\n",
    "- Have identified the first $N$ dimensions as \"spatial\"\n",
    "- The last ($(N+1)^{th}$) as the feature/channel dimension\n",
    "\n",
    "This is known as *channel last* because the feature/channel dimension is the last."
   ]
  },
  {
   "cell_type": "markdown",
   "metadata": {
    "slideshow": {
     "slide_type": "subslide"
    }
   },
   "source": [
    "Some toolkits\n",
    "- Identify the *first* dimension as the feature/channel dimension\n",
    "- The remaining $N$ dimensions as the spatial dimensions\n",
    "\n",
    "This is called *channel first* because the feature/channel dimension is first."
   ]
  },
  {
   "cell_type": "markdown",
   "metadata": {
    "slideshow": {
     "slide_type": "subslide"
    }
   },
   "source": [
    "You may arrange the data in Keras according to *either* convention, but it defaults to channel last so we will use that as well.\n",
    "\n",
    "That's why we write the output of layer $\\ll$ at feature $j$ as\n",
    "$$\n",
    "\\y_{\\llp, \\ldots, j}\n",
    "$$\n",
    "where the dots ($\\ldots$) indicate the (variable number of) spatial dimensions"
   ]
  },
  {
   "cell_type": "markdown",
   "metadata": {
    "slideshow": {
     "slide_type": "subslide"
    }
   },
   "source": [
    "# Conv1d when input layer has multiple features: $n_{(\\ll-1)} > 1$\n",
    "\n",
    "Our examples thus far have input layer $(\\ll-1)$ with a single feature\n",
    "\n",
    "How does a convolution work when the input layer has *more than one* feature ?\n",
    "- As would be the case of layer $\\ll$ which is the *result* of applying a Convolutional Layer to layer $\\ll-1$\n",
    "    - Face example: Combine the two half smiles into a single smile"
   ]
  },
  {
   "cell_type": "markdown",
   "metadata": {
    "slideshow": {
     "slide_type": "subslide"
    }
   },
   "source": [
    "The answer is that we again slide a kernel over each location in the spatial dimension\n",
    "- **but** each spatial location is now a *vector* of all $n_{(\\ll-1)}$ input features\n",
    "- Hence the kernel has an extra dimension of length $n_{(\\ll-1)}$\n",
    "    - That is, of shape $(f_\\llp \\times n_{(\\ll-1)})$"
   ]
  },
  {
   "cell_type": "markdown",
   "metadata": {
    "slideshow": {
     "slide_type": "subslide"
    }
   },
   "source": [
    "<div>\n",
    "    <br>\n",
    "    <center><strong>Conv 1D: 2 input features: kernel 1</strong></center>\n",
    "    <br>\n",
    "<img src=images/W9_L2_S23_Conv1d_2feature_kernel.png width=\"35%\">\n",
    "    <!-- edX: Original: <img src=\"images/Conv1d_2feature_kernel.png\"> replace by EdX created image --> \n",
    "    <br>\n",
    "    </div>"
   ]
  },
  {
   "cell_type": "markdown",
   "metadata": {
    "slideshow": {
     "slide_type": "subslide"
    }
   },
   "source": [
    "**Note**: Weights notation\n",
    "- $\\mathbf{w}_{\\llp,k,j,f}$\n",
    "    - layer $\\ll$\n",
    "    - output feature $k$\n",
    "    - spatial location $j$\n",
    "    - input feature $f$"
   ]
  },
  {
   "cell_type": "markdown",
   "metadata": {
    "slideshow": {
     "slide_type": "subslide"
    }
   },
   "source": [
    "**Note**\n",
    "\n",
    "- Dot product is only defined over one dimensional vectors\n",
    "- When we use \"dot product\" on two higher dimensional objects of the same shape:\n",
    "    - Element-wise product\n",
    "    - Reduced to a scalar by summing the products\n",
    "- Consider it to be the dot product of the flattened versions of the two objects"
   ]
  },
  {
   "cell_type": "markdown",
   "metadata": {
    "slideshow": {
     "slide_type": "subslide"
    }
   },
   "source": [
    "Let's illustrate how this works.\n",
    "- Output feature 1\n",
    "- Spatial location 1"
   ]
  },
  {
   "cell_type": "markdown",
   "metadata": {
    "slideshow": {
     "slide_type": "subslide"
    }
   },
   "source": [
    "<div>\n",
    "    <br>\n",
    "    <center><strong>Conv 2D: 2 features to 3 features: kernel 1</strong></center>\n",
    "    <br>\n",
    "<img src=images/W9_L2_S27_Conv1d_2feature_to_3feature_1.png width=\"80%\">\n",
    "    <!-- edX: Original: <img src=\"images/Conv1d_2feature_to_3feature_1.png\"> replace by EdX created image --> \n",
    "    <br>\n",
    "    </div>"
   ]
  },
  {
   "cell_type": "markdown",
   "metadata": {
    "slideshow": {
     "slide_type": "subslide"
    }
   },
   "source": [
    "- Output feature 1\n",
    "- Spatial location 2"
   ]
  },
  {
   "cell_type": "markdown",
   "metadata": {
    "slideshow": {
     "slide_type": "subslide"
    }
   },
   "source": [
    "<div>\n",
    "    <br>\n",
    "    <center><strong>Conv 2D: 2 features to 3 features: kernel 1</strong></center>\n",
    "    <br>\n",
    "<img src=images/W9_L2_S29_Conv1d_2feature_to_3feature_2.png width=\"80%\">\n",
    "    <!-- edX: Original: <img src=\"images/Conv1d_2feature_to_3feature_2.png\"> replace by EdX created image --> \n",
    "    <br>\n",
    "    </div>"
   ]
  },
  {
   "cell_type": "markdown",
   "metadata": {
    "slideshow": {
     "slide_type": "subslide"
    }
   },
   "source": [
    "- Output feature 2\n",
    "- Spatial location 1"
   ]
  },
  {
   "cell_type": "markdown",
   "metadata": {
    "slideshow": {
     "slide_type": "subslide"
    }
   },
   "source": [
    "<div>\n",
    "    <br>\n",
    "    <center><strong>Conv 2D: 2 features to 3 features: kernel 2</strong></center>\n",
    "    <br>\n",
    "<img src=images/W9_L2_S31_Conv1d_2feature_to_3feature_3.png width=\"80%\">\n",
    "    <!-- edX: Original: <img src=\"images/Conv1d_2feature_to_3feature_3.png\"> replace by EdX created image --> \n",
    "    <br>\n",
    "    </div>"
   ]
  },
  {
   "cell_type": "markdown",
   "metadata": {
    "slideshow": {
     "slide_type": "subslide"
    }
   },
   "source": [
    "- Output feature 2\n",
    "- Spatial location 2"
   ]
  },
  {
   "cell_type": "markdown",
   "metadata": {
    "slideshow": {
     "slide_type": "subslide"
    }
   },
   "source": [
    "<div>\n",
    "    <br>\n",
    "    <center><strong>Conv 2D: 2 features to 3 features: kernel 2</strong></center>\n",
    "    <br>\n",
    "<img src=images/W9_L2_S33_Conv1d_2feature_to_3feature_4.png width=\"80%\">\n",
    "    <!-- edX: Original: <img src=\"images/Conv1d_2feature_to_3feature_4.png\"> replace by EdX created image --> \n",
    "    <br>\n",
    "    </div>"
   ]
  },
  {
   "cell_type": "markdown",
   "metadata": {
    "slideshow": {
     "slide_type": "subslide"
    }
   },
   "source": [
    "With an input layer having $N$ spatial dimensions, a Convolutional Layer $\\ll$ producing $n_\\llp$ features\n",
    "- Preserves the \"spatial\" dimensions of the input\n",
    "- Replaces the channel/feature dimensions\n",
    "\n",
    "That is\\\n",
    "$$\n",
    "\\begin{array}\\\\\n",
    "|| \\y_{(\\ll-1)} || & = & (n_{(\\ll-1),1} \\times n_{(\\ll-1),2} \\times \\ldots n_{(\\ll-1),N }, & \\mathbf{n_{(\\ll-1)}} ) \\\\\n",
    "|| \\y_\\llp || &  = & (n_{(\\ll-1),1} \\times n_{(\\ll-1),2} \\times \\ldots n_{(\\ll-1),N},  &\\mathbf{n_\\llp} )\n",
    "\\end{array}\n",
    "$$\n",
    "\n",
    "\n"
   ]
  },
  {
   "cell_type": "markdown",
   "metadata": {
    "slideshow": {
     "slide_type": "slide"
    }
   },
   "source": [
    "# Conv2d: Two dimensional convolution ($N = 2$)\n",
    "\n",
    "Thus far, the spatial dimension has been of length $N = 1$.\n",
    "\n",
    "Generalizing  to $N = 2$ is straightforward.\n"
   ]
  },
  {
   "cell_type": "markdown",
   "metadata": {
    "slideshow": {
     "slide_type": "subslide"
    }
   },
   "source": [
    "For example, here is a two dimensional convolution with a single input and output feature ($n_{(\\ll-1)} = n_\\llp =  1$)\n",
    "- Kernel \n",
    "    - Two spatial dimensions of size $f_\\llp$ each\n",
    "    - A single input feature dimension of size $n_{(\\ll-1)} = 1$  \n",
    "    - Dimension $(f_\\llp \\times f_\\llp \\times n_{(\\ll-1)})$\n",
    "\n",
    "- Is \"slid\" over 2 dimensional segments of the input\n",
    "- The \"dot product\" of the kernel and a two dimensional region of $\\y_{(\\ll-1)}$ is performed\n",
    "- There are $n_\\llp =1$ kernels and output features"
   ]
  },
  {
   "cell_type": "markdown",
   "metadata": {
    "slideshow": {
     "slide_type": "subslide"
    }
   },
   "source": [
    "<div>\n",
    "    <br>\n",
    "    <center><strong>Conv 2D: single input feature: kernel 1</strong></center>\n",
    "    <br>\n",
    "<img src=images/W9_L2_S37_Conv2d_singlefeature_input_kernel.png width=\"25%\">\n",
    "    <!-- edX: Original: <img src=\"images/Conv2d_singlefeature_input_kernel.png\"> replace by EdX created image --> \n",
    "    <br>\n",
    "    </div>"
   ]
  },
  {
   "cell_type": "markdown",
   "metadata": {
    "slideshow": {
     "slide_type": "subslide"
    }
   },
   "source": [
    "$\\kernel_{\\llp, j, j'}$\n",
    "- layer $\\ll$\n",
    "- output feature $j$\n",
    "- input feature $j'$"
   ]
  },
  {
   "cell_type": "markdown",
   "metadata": {
    "slideshow": {
     "slide_type": "subslide"
    }
   },
   "source": [
    "<div>\n",
    "    <br>\n",
    "    <center><strong>Conv 2D, single input, single output feature: padding at border</strong></center>\n",
    "    <br>\n",
    "<img src=images/W9_L2_S39_Conv2d_2.png width=\"80%\">\n",
    "    <!-- edX: Original: <img src=\"images/Conv2d_2.png\"> replace by EdX created image --> \n",
    "    <br>\n",
    "    </div>"
   ]
  },
  {
   "cell_type": "markdown",
   "metadata": {
    "slideshow": {
     "slide_type": "subslide"
    }
   },
   "source": [
    "<div>\n",
    "    <br>\n",
    "    <center><strong>Conv 2D, single input, single output feature: padding at borderpadding at border</strong></center>\n",
    "    <br>\n",
    "<img src=images/W9_L2_S40_Conv2d_3.png width=\"80%\">\n",
    "    <!-- edX: Original: <img src=\"images/Conv2d_3.png\"> replace by EdX created image -->\n",
    "    <br>\n",
    "    </div>\n"
   ]
  },
  {
   "cell_type": "markdown",
   "metadata": {
    "slideshow": {
     "slide_type": "subslide"
    }
   },
   "source": [
    "The above example was for a single feature.\n",
    "\n",
    "Of course, we can (and it's common) to recognize multiple features ($n_\\llp > 1$)"
   ]
  },
  {
   "cell_type": "markdown",
   "metadata": {
    "slideshow": {
     "slide_type": "subslide"
    }
   },
   "source": [
    "<div>\n",
    "    <br>\n",
    "    <center><strong>Conv 2D, single input, multiple output feature: padding at border</strong></center>\n",
    "    <br>\n",
    "<img src=images/W9_L2_S42_Conv2d_2feature.png width=\"80%\">\n",
    "    <!-- edX: Original: <img src=\"images/Conv2d_2feature.png\"> replace by EdX created image --> \n",
    "    <br>\n",
    "    </div>"
   ]
  },
  {
   "cell_type": "markdown",
   "metadata": {
    "slideshow": {
     "slide_type": "subslide"
    }
   },
   "source": [
    "Dealing with multiple input features works similarly as for $N=1$:\n",
    "- The dot product\n",
    "- Is over a spatial region that now has a \"depth\" $n_{(\\ll-1)}$ equal to the number of input features\n",
    "- Which means the kernel has a depth $n_{(\\ll-1)}$"
   ]
  },
  {
   "cell_type": "markdown",
   "metadata": {
    "slideshow": {
     "slide_type": "subslide"
    }
   },
   "source": [
    "<div>\n",
    "    <br>\n",
    "    <center><strong>Conv 2D: multiple input features: kernel 1</strong></center>\n",
    "    <br>\n",
    "<img src=images/W9_L2_S46_Conv2d_multifeature_input_kernel.png width=\"40%\">\n",
    "    <!-- edX: Original: <img src=\"images/Conv2d_multifeature_input_kernel.png\"> replace by EdX created image --> \n",
    "    <br>\n",
    "    </div>"
   ]
  },
  {
   "cell_type": "markdown",
   "metadata": {
    "slideshow": {
     "slide_type": "subslide"
    }
   },
   "source": [
    "$\\kernel_{\\llp, j, j'}$\n",
    "- layer $\\ll$\n",
    "- output feature $j$\n",
    "- input feature $j'$"
   ]
  },
  {
   "cell_type": "markdown",
   "metadata": {
    "slideshow": {
     "slide_type": "subslide"
    }
   },
   "source": [
    "<div>\n",
    "    <br>\n",
    "    <center><strong>Conv 2D, multiple input, single output feature: padding at border</strong></center>\n",
    "    <br>\n",
    "<img src=images/W9_L2_S49_Conv3d_1.png width=\"80%\">\n",
    "    <!-- edX: Original: <img src=\"images/Conv3d_1.png\"> replace by EdX created image -->\n",
    "    <br>\n",
    "    </div>"
   ]
  },
  {
   "cell_type": "markdown",
   "metadata": {
    "slideshow": {
     "slide_type": "subslide"
    }
   },
   "source": [
    "When we compute *multiple* feature maps, we get"
   ]
  },
  {
   "cell_type": "markdown",
   "metadata": {
    "slideshow": {
     "slide_type": "subslide"
    }
   },
   "source": [
    "<div>\n",
    "    <br>\n",
    "    <center><strong>Conv 2D, multiple input, multiple output features</strong></center>\n",
    "    <br>\n",
    "<img src=images/W9_L2_S53_Conv3d_2.png width=\"80%\">\n",
    "    <!-- edX: Original: <img src=\"images/Conv3d_2.png\"> replace by EdX created image -->\n",
    "    <br>\n",
    "    </div>"
   ]
  },
  {
   "cell_type": "markdown",
   "metadata": {
    "slideshow": {
     "slide_type": "slide"
    }
   },
   "source": [
    "# Training a CNN\n",
    "\n",
    "Hopefully you understand how kernels are \"feature recognizers\".\n",
    "\n",
    "But you may be wondering: how do we determine the weights in each kernel ?\n",
    "\n",
    "Answer: a Convolutional Layer is \"just another\" layer in a multi-layer network\n",
    "- The kernels are just weights (like the weights in Fully Connected layers)\n",
    "- We solve for all the weights $\\W$ in the multi-layer network in the same way\n"
   ]
  },
  {
   "cell_type": "markdown",
   "metadata": {},
   "source": [
    "The answer is: exactly as we did in Classical Machine Learning\n",
    "- Define a loss function that is parameterized by $\\W$: \n",
    "$$\\loss = L(\\hat{\\y},\\y; \\W)$$\n",
    "\n",
    "- The kernel weights are just part of $\\W$\n",
    "- Our goal is to find $\\W^*$ the \"best\" set of weights\n",
    "$$\n",
    "\\W^* = \\argmin{W} L(\\hat{\\y},\\y; \\W)\n",
    "$$\n",
    "- Using Gradient Descent !"
   ]
  },
  {
   "cell_type": "markdown",
   "metadata": {
    "slideshow": {
     "slide_type": "subslide"
    }
   },
   "source": [
    "In other words: their is nothing special about finding the \"best\" kernels."
   ]
  },
  {
   "cell_type": "code",
   "execution_count": 5,
   "metadata": {
    "slideshow": {
     "slide_type": "slide"
    }
   },
   "outputs": [
    {
     "name": "stdout",
     "output_type": "stream",
     "text": [
      "Done\n"
     ]
    }
   ],
   "source": [
    "print(\"Done\")"
   ]
  }
 ],
 "metadata": {
  "celltoolbar": "Slideshow",
  "kernelspec": {
   "display_name": "Python 3",
   "language": "python",
   "name": "python3"
  },
  "language_info": {
   "codemirror_mode": {
    "name": "ipython",
    "version": 3
   },
   "file_extension": ".py",
   "mimetype": "text/x-python",
   "name": "python",
   "nbconvert_exporter": "python",
   "pygments_lexer": "ipython3",
   "version": "3.7.4"
  },
  "toc": {
   "base_numbering": 1,
   "nav_menu": {},
   "number_sections": true,
   "sideBar": true,
   "skip_h1_title": false,
   "title_cell": "Table of Contents",
   "title_sidebar": "Contents",
   "toc_cell": false,
   "toc_position": {
    "height": "calc(100% - 180px)",
    "left": "10px",
    "top": "150px",
    "width": "370.594px"
   },
   "toc_section_display": true,
   "toc_window_display": false
  }
 },
 "nbformat": 4,
 "nbformat_minor": 2
}
