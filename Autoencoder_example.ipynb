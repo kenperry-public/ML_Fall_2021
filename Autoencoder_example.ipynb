{
  "nbformat": 4,
  "nbformat_minor": 0,
  "metadata": {
    "colab": {
      "name": "Autoencoder_example.ipynb",
      "provenance": [],
      "collapsed_sections": [
        "THz5aREuMpUx"
      ]
    },
    "kernelspec": {
      "name": "python3",
      "display_name": "Python 3"
    },
    "accelerator": "GPU"
  },
  "cells": [
    {
      "cell_type": "code",
      "metadata": {
        "id": "z6BFC5HlgxbU",
        "colab": {
          "base_uri": "https://localhost:8080/"
        },
        "outputId": "c4f2aabe-7844-4934-993b-d412886b5668"
      },
      "source": [
        "from google.colab import drive\n",
        "drive.mount('/content/gdrive')\n"
      ],
      "execution_count": 53,
      "outputs": [
        {
          "output_type": "stream",
          "name": "stdout",
          "text": [
            "Drive already mounted at /content/gdrive; to attempt to forcibly remount, call drive.mount(\"/content/gdrive\", force_remount=True).\n"
          ]
        }
      ]
    },
    {
      "cell_type": "code",
      "metadata": {
        "id": "vXTQjhy3g4Jo",
        "colab": {
          "base_uri": "https://localhost:8080/"
        },
        "outputId": "9a4ca89d-833b-469b-d332-ef400c9a4e83"
      },
      "source": [
        "%cd \"/content/gdrive/My Drive/Colab Notebooks/NYU\""
      ],
      "execution_count": 54,
      "outputs": [
        {
          "output_type": "stream",
          "name": "stdout",
          "text": [
            "/content/gdrive/My Drive/Colab Notebooks/NYU\n"
          ]
        }
      ]
    },
    {
      "cell_type": "code",
      "metadata": {
        "id": "NU2EIRMlhGqf"
      },
      "source": [
        "import os\n",
        "modelsPath = \"Models/\"\n",
        "os.makedirs( modelsPath, exist_ok=True)\n",
        "\n",
        "logs_dir=\"logs/fit/\"\n",
        "os.makedirs( modelsPath, exist_ok=True)\n"
      ],
      "execution_count": 55,
      "outputs": []
    },
    {
      "cell_type": "markdown",
      "metadata": {
        "id": "DN0s4O80Yp-r"
      },
      "source": [
        "## Standard imports"
      ]
    },
    {
      "cell_type": "code",
      "metadata": {
        "id": "oJYHyu1JecCq"
      },
      "source": [
        "import sys\n",
        "import time\n",
        "\n",
        "import os\n",
        "import sys\n",
        "import h5py\n",
        "import cv2\n",
        "\n",
        "import numpy as np\n",
        "import matplotlib.pyplot as plt\n",
        "from matplotlib.offsetbox import OffsetImage, AnnotationBbox\n",
        "from matplotlib.backends.backend_agg import FigureCanvasAgg as FigureCanvas\n",
        "from scipy.stats import norm\n",
        "from sklearn import manifold\n",
        "\n"
      ],
      "execution_count": 56,
      "outputs": []
    },
    {
      "cell_type": "markdown",
      "metadata": {
        "id": "aupdOoa-YdJk"
      },
      "source": [
        ""
      ]
    },
    {
      "cell_type": "markdown",
      "metadata": {
        "id": "HHrGDeF9dGaN"
      },
      "source": [
        "## Tensorflow/Keras imports\n"
      ]
    },
    {
      "cell_type": "code",
      "metadata": {
        "id": "NP0pwhy_YbOX"
      },
      "source": [
        "import tensorflow as tf\n",
        "\n",
        "#import tensorflow.keras as keras\n",
        "from tensorflow.keras import layers\n",
        "from tensorflow.keras import Sequential\n",
        "\n",
        "from tensorflow.keras.layers import Input, Dense, Flatten, Reshape\n",
        "from tensorflow.keras.models import Model\n",
        "\n",
        "from tensorflow.keras.utils import plot_model\n",
        "import IPython\n",
        "\n",
        "from tensorflow.keras.optimizers import RMSprop\n",
        "\n",
        "import numpy as np\n",
        "\n",
        "from random import randint\n",
        "\n",
        "# Handy parameters\n",
        "batchSize = 256\n"
      ],
      "execution_count": 57,
      "outputs": []
    },
    {
      "cell_type": "code",
      "metadata": {
        "id": "57FTQaT2TfXg"
      },
      "source": [
        "from tensorflow.keras.datasets import mnist, fashion_mnist #, cifar10d"
      ],
      "execution_count": 58,
      "outputs": []
    },
    {
      "cell_type": "code",
      "metadata": {
        "id": "Qz8vFPfndNZu"
      },
      "source": [
        "latentDim = { \"mnist\": 32,\n",
        "              \"fashion_mnist\": 64,\n",
        "              # \"cifar10\": 128\n",
        "            }\n"
      ],
      "execution_count": 59,
      "outputs": []
    },
    {
      "cell_type": "markdown",
      "metadata": {
        "id": "LbBsy7K8Y7r7"
      },
      "source": [
        "## Libary to import/display datasets"
      ]
    },
    {
      "cell_type": "code",
      "metadata": {
        "id": "jvo74Z-5dU8b"
      },
      "source": [
        "def loadData(name=\"mnist\"):\n",
        "  if name == \"mnist\":\n",
        "    (x_train, y_train), (x_test, y_test) = mnist.load_data()\n",
        "  elif name == \"cifar10\":\n",
        "    (x_train, y_train), (x_test, y_test) = cifar10.load_data()\n",
        "  elif name == \"fashion_mnist\":\n",
        "    (x_train, y_train), (x_test, y_test) = fashion_mnist.load_data()\n",
        "  else:\n",
        "    print(\"Dataset \\\"{n:s}\\\" not known.\".format(n=name))\n",
        "    return None\n",
        "  \n",
        "  # Make sure data is 3D\n",
        "  if len(x_train.shape) < 4:\n",
        "    x_train = x_train[:, :, :, np.newaxis]\n",
        "    x_test  = x_test[:, :, :, np.newaxis]\n",
        "    \n",
        "  # Scale\n",
        "  x_train, x_test = x_train.astype(\"float32\")/255., x_test.astype(\"float32\")/255.\n",
        "  return (x_train, y_train), (x_test, y_test)\n",
        "\n",
        "def showData(imgs,y, max_num=50, y_target=None):\n",
        "  if len(y.shape) > 1:\n",
        "    y = y.reshape(-1)\n",
        "    \n",
        "  # Filter images to those whose label is target\n",
        "  if y_target is not None:\n",
        "    mask = (y == y_target)\n",
        "    imgs = imgs[ mask ]\n",
        "    y    = y[ mask ]\n",
        "    \n",
        "    # Track the indices too, so we can find the image in imgs\n",
        "    idxs = np.arange( len(mask) )\n",
        "    idxs = idxs[ mask ]\n",
        "    \n",
        "  if max_num is not None:\n",
        "    # Randomly choose\n",
        "    chosen = np.random.randint(0, len(imgs), size=max_num)\n",
        "    imgs = imgs[chosen]\n",
        "    y    = y[chosen]\n",
        "    idxs  = idxs[chosen]\n",
        "    \n",
        "  # Plot the images\n",
        "  num_cols = 5\n",
        "  num_rows = (len(imgs) // num_cols) + ( len(imgs)  % num_cols != 0 )\n",
        "  \n",
        "  fig, axs = plt.subplots( num_rows, num_cols, figsize=(12, 4 * num_rows) )\n",
        "  axs = axs.ravel()\n",
        "  \n",
        "  for i,img in enumerate(imgs):\n",
        "    ax = axs[i]\n",
        "    \n",
        "    showImage(img, ax=ax)\n",
        "    \n",
        "    ax.set_title(y[i])\n",
        "    ax.set_xlabel( idxs[i] )\n",
        "    ax.set_xticks([])\n",
        "    ax.set_yticks([])\n",
        "  \n",
        "def createModels(shape=(28,28,1), latent_dim=32):\n",
        "  # input_img = Input(shape=(imageSize, imageSize, 1))\n",
        "  input_img = Input(shape=shape)\n",
        "  x = Convolution2D(32, (3, 3), border_mode='same')(input_img)\n",
        "  x = ELU()(x)\n",
        "  x = MaxPooling2D((2, 2), border_mode='same')(x)\n",
        "\n",
        "  x = Convolution2D(64, (3, 3), border_mode='same')(x)\n",
        "  x = ELU()(x)\n",
        "  x = MaxPooling2D(pool_size=(2, 2), border_mode='same')(x)\n",
        "\n",
        "  # Latent space // bottleneck layer\n",
        "  x = Flatten()(x)\n",
        "  x = Dense(latent_dim)(x)\n",
        "  z = ELU()(x)\n",
        "\n",
        "  ##### MODEL 1: ENCODER #####\n",
        "  encoder = Model(input_img, z)\n",
        "\n",
        "  # We instantiate these layers separately so as to reuse them for the decoder\n",
        "  # Dense from latent space to image dimension\n",
        "  # Encoder has two layers of (2,2) pooling so size reduced by factor of 4\n",
        "  encoded_shape=np.array(shape[0:2])//4\n",
        "  encoded_size = np.prod(encoded_shape)\n",
        "                 \n",
        "  x_decoded_dense1 = Dense(encoded_size * 64)\n",
        "\n",
        "  # Reshape for image\n",
        "  x_decoded_reshape0 = Reshape((encoded_shape[0], encoded_shape[1], 64))\n",
        "  x_decoded_upsample0 = UpSampling2D((2, 2))\n",
        "  x_decoded_conv0  = Convolution2D(32, (3, 3), border_mode='same')\n",
        "\n",
        "  x_decoded_upsample3 = UpSampling2D((2, 2))\n",
        "  x_decoded_conv3 = Convolution2D(shape[-1], (3, 3), activation='sigmoid', border_mode='same')\n",
        "\n",
        "  # Create second part of autoencoder\n",
        "  x_decoded = x_decoded_dense1(z)\n",
        "  x_decoded = ELU()(x_decoded)\n",
        "\n",
        "  x_decoded = x_decoded_reshape0(x_decoded)\n",
        "  x_decoded = x_decoded_upsample0(x_decoded)\n",
        "  x_decoded = x_decoded_conv0(x_decoded)\n",
        "  x_decoded = ELU()(x_decoded)\n",
        "\n",
        "  # Tanh layer\n",
        "  x_decoded = x_decoded_upsample3(x_decoded)\n",
        "  decoded_img = x_decoded_conv3(x_decoded)\n",
        "\n",
        "  ##### MODEL 2: AUTO-ENCODER #####\n",
        "  autoencoder = Model(input_img, decoded_img)\n",
        "\n",
        "  # Create decoder\n",
        "  input_z = Input(shape=(latent_dim,))\n",
        "  x_decoded_decoder = x_decoded_dense1(input_z)\n",
        "  x_decoded_decoder = ELU()(x_decoded_decoder)\n",
        "\n",
        "  x_decoded_decoder = x_decoded_reshape0(x_decoded_decoder)\n",
        "  x_decoded_decoder = x_decoded_upsample0(x_decoded_decoder)\n",
        "  x_decoded_decoder = x_decoded_conv0(x_decoded_decoder)\n",
        "  x_decoded_decoder = ELU()(x_decoded_decoder)\n",
        "\n",
        "  # Tanh layer\n",
        "  x_decoded_decoder = x_decoded_upsample3(x_decoded_decoder)\n",
        "  decoded_decoder_img = x_decoded_conv3(x_decoded_decoder)\n",
        "\n",
        "  ##### MODEL 3: DECODER #####\n",
        "  decoder = Model(input_z, decoded_decoder_img)\n",
        "\n",
        "  return autoencoder, encoder, decoder\n",
        "\n",
        "def trainModel(model, X, X_test, epochs=20, callbacks=[], loss=\"mse\", metrics=[]):\n",
        "    model.compile(optimizer=RMSprop(lr=0.00025), loss=loss, metrics=metrics)\n",
        "    history = model.fit(X, X, epochs=epochs, batch_size=batchSize, validation_data=(X_test, X_test), shuffle=True, callbacks=callbacks)\n",
        "    return history\n",
        "  \n",
        "def plot_training(history, metrics=[], title=None):\n",
        "    \"\"\"\n",
        "    Plot training and validation statistics\n",
        "    - accuracy vs epoch number\n",
        "    - loss     vs epoch number\n",
        "\n",
        "    From https://www.learnopencv.com/keras-tutorial-fine-tuning-using-pre-trained-models/\n",
        "    \"\"\"  \n",
        "\n",
        "    # Loss\n",
        "    loss = history.history['loss']\n",
        "\n",
        "    epochs = range(len(loss))\n",
        "\n",
        "    plot_num = 1\n",
        "    fig = plt.figure()\n",
        "    ax = fig.add_subplot(1, 1 +len(metrics), plot_num)\n",
        "    plot_num += 1\n",
        "    \n",
        "    _= ax.plot(epochs, loss, 'b', label='Training loss')\n",
        "    _= ax.set_title(\"Training loss \" + title if title is not None else \"\")\n",
        "    _= ax.set_xlabel(\"Epoch\")\n",
        "    \n",
        "    plot_num = 1\n",
        "    for metric in metrics:\n",
        "      metric_value = history.history[metric]\n",
        "      ax = fig.add_subplot(1, 1 +len(metrics), plot_num)\n",
        "      plot_num += 1\n",
        "      \n",
        "      _= ax.plot(epochs, metric_value, 'b', label=\"Training \" + metric)\n",
        "      _= ax.set_title(\"Training \" + metric + \" \" + title if title is not None else \"\")\n",
        "      _= ax.set_xlabel(\"Epoch\")\n",
        "      \n",
        "    # fig.set_visible(False)\n",
        "    # plt.draw()\n",
        "    \n",
        "    return fig\n",
        "    \n",
        "def showImage(img, ax=plt, cmap=None):\n",
        "  # Some datasets (e.g., MNIST) have only 1 channel instead of 3\n",
        "  if img.shape[-1] == 1:\n",
        "    img = img[:,:, 0]\n",
        "    cmap = \"gray\"\n",
        "  \n",
        "  \n",
        "  if cmap is None:\n",
        "    _= ax.imshow(img)\n",
        "  else:\n",
        "    _= ax.imshow(img, cmap=cmap)\n",
        "  "
      ],
      "execution_count": 60,
      "outputs": []
    },
    {
      "cell_type": "markdown",
      "metadata": {
        "id": "B5TBYJ7YY0Sb"
      },
      "source": [
        "## Library for Vanilla Autoencoder demo"
      ]
    },
    {
      "cell_type": "code",
      "metadata": {
        "id": "6kuVDdFPc4pW"
      },
      "source": [
        "\n",
        "# this is the size of our encoded representations\n",
        "encoding_dim = 32  # 32 floats -> compression of factor 24.5, assuming the input is 784 floats\n",
        "\n",
        "# this is our input placeholder\n",
        "input_img = Input(shape=(784,))\n",
        "# \"encoded\" is the encoded representation of the input\n",
        "encoded = Dense(encoding_dim, activation='relu')(input_img)\n",
        "# \"decoded\" is the lossy reconstruction of the input\n",
        "decoded = Dense(784, activation='sigmoid')(encoded)\n",
        "\n",
        "# this model maps an input to its reconstruction\n",
        "autoencoder = Model(input_img, decoded)\n",
        "\n",
        "\n",
        "def createOneLayerAE(shape=(28,28,1), latent_dim=32, activations=[\"relu\", \"sigmoid\"]):\n",
        "  \"\"\"\n",
        "  Create a single layer Autoencoder\n",
        "  \n",
        "  Parameters\n",
        "  ----------\n",
        "  shape: Tuple.  Shape of the input image.  Last dimension is number of channels (depth)\n",
        "  latent_dim: Int.  Size of the latent representation (encoded image)\n",
        "  activations: List\n",
        "    activations[0]:  activation to apply to encoder (Dense layer) output\n",
        "    activations[-1]: activation to apply to decoder (Dense layer) output\n",
        "    \n",
        "  Returns\n",
        "  -------\n",
        "  (autoencoder, encoder, decoder) A tuple of Keras MOdel objects, one each for\n",
        "    the autoencoder and its subcomponents: the encoder and the decoder\n",
        "  \n",
        "  \"\"\"\n",
        "  \n",
        "  # Define the encoder\n",
        "  # Placeholder for input image \n",
        "  input_img = Input(shape=shape)\n",
        "  \n",
        "  # Flatten the input\n",
        "  input_img_flat = Flatten()(input_img)\n",
        "  \n",
        "  # \"encoded\" is the encoded representation of the input\n",
        "  encoded = Dense(latent_dim, activation=activations[0])(input_img_flat)\n",
        "  \n",
        "  ##### MODEL 1: ENCODER #####\n",
        "  encoder = Model(input_img, encoded)\n",
        "  \n",
        "  \n",
        "  # Define the decoder\n",
        "  # Placeholder for encoded (latent) representation of an image\n",
        "  input_encoded = Input(shape=(latent_dim,))\n",
        "  \n",
        "  # Undo the encoding by following the encoding steps in reverse order\n",
        "  shape_flat = np.prod( np.array(shape) )\n",
        "  decoded = Dense(shape_flat, activation=activations[-1], name=\"decoder_layer\")(input_encoded)\n",
        "  \n",
        "  # Reshape (flattened) output of decoder to same shape as original input\n",
        "  reshape_layer = Reshape(shape)\n",
        "  decoded = reshape_layer(decoded)\n",
        "  \n",
        "  ##### MODEL 2: DECODER #####\n",
        "  # this model maps an input to its reconstruction\n",
        "  decoder = Model(input_encoded, decoded)\n",
        "  \n",
        "  \n",
        "  ##### MODEL 3: Autoencoder #####\n",
        "  autoencoder = Model(input_img, decoder(encoder(input_img)))\n",
        "    \n",
        "  return autoencoder, encoder, decoder\n"
      ],
      "execution_count": 61,
      "outputs": []
    },
    {
      "cell_type": "markdown",
      "metadata": {
        "id": "ljeq5bIHZNRj"
      },
      "source": [
        "## Load a dataset"
      ]
    },
    {
      "cell_type": "code",
      "metadata": {
        "id": "c_t9oRURdZZT"
      },
      "source": [
        "dsName = \"mnist\"\n",
        "modelName2 = \"autoencoder2_{n:s}.h5\".format(n=dsName)\n"
      ],
      "execution_count": 62,
      "outputs": []
    },
    {
      "cell_type": "code",
      "metadata": {
        "id": "ftLy7GVzdeIj",
        "colab": {
          "base_uri": "https://localhost:8080/"
        },
        "outputId": "6f03ccdc-13c3-466a-fe40-61f61ec23737"
      },
      "source": [
        "print(\"Loading dataset...\")\n",
        "(X_train, y_train), (X_test, y_test) = loadData(name=dsName)\n",
        "\n",
        "imageSize = X_train.shape[1]\n",
        "\n",
        "X_train.shape, y_train.shape\n",
        "#X_test.shape,  y_test.shape"
      ],
      "execution_count": 63,
      "outputs": [
        {
          "output_type": "stream",
          "name": "stdout",
          "text": [
            "Loading dataset...\n"
          ]
        },
        {
          "output_type": "execute_result",
          "data": {
            "text/plain": [
              "((60000, 28, 28, 1), (60000,))"
            ]
          },
          "metadata": {},
          "execution_count": 63
        }
      ]
    },
    {
      "cell_type": "code",
      "metadata": {
        "id": "D8EXxTBqdoKa",
        "colab": {
          "base_uri": "https://localhost:8080/",
          "height": 1000
        },
        "outputId": "cbaef917-1c75-4dae-e599-113795133942"
      },
      "source": [
        "showData( X_train, y_train, y_target=7, max_num=50)"
      ],
      "execution_count": 64,
      "outputs": [
        {
          "output_type": "display_data",
          "data": {
            "image/png": "[encoded data removed]",
            "text/plain": [
              "<Figure size 1200x4000 with 50 Axes>"
            ]
          },
          "metadata": {}
        }
      ]
    },
    {
      "cell_type": "code",
      "metadata": {
        "id": "iKy2-IU-dvyx",
        "colab": {
          "base_uri": "https://localhost:8080/"
        },
        "outputId": "4ecc960d-ab28-4b90-933a-bf664da1d8c7"
      },
      "source": [
        "# Load the TensorBoard notebook extension\n",
        "%load_ext tensorboard\n",
        "\n",
        "import datetime\n",
        "\n",
        "from tensorflow.keras.callbacks import EarlyStopping, ModelCheckpoint\n",
        "log_dir= logs_dir + datetime.datetime.now().strftime(\"%Y%m%d-%H%M%S\")\n",
        "\n",
        "tensorboard_callback = tf.keras.callbacks.TensorBoard(log_dir=log_dir, histogram_freq=1)\n"
      ],
      "execution_count": 65,
      "outputs": [
        {
          "output_type": "stream",
          "name": "stdout",
          "text": [
            "The tensorboard extension is already loaded. To reload it, use:\n",
            "  %reload_ext tensorboard\n"
          ]
        }
      ]
    },
    {
      "cell_type": "code",
      "metadata": {
        "id": "44tLzmngsvqn",
        "colab": {
          "base_uri": "https://localhost:8080/"
        },
        "outputId": "d32f266b-8700-4498-98aa-75a7ca63624c"
      },
      "source": [
        "X_train.shape"
      ],
      "execution_count": 66,
      "outputs": [
        {
          "output_type": "execute_result",
          "data": {
            "text/plain": [
              "(60000, 28, 28, 1)"
            ]
          },
          "metadata": {},
          "execution_count": 66
        }
      ]
    },
    {
      "cell_type": "markdown",
      "metadata": {
        "id": "5o1ZpFJNZSiL"
      },
      "source": [
        "# Vanilla Autoencoder demo"
      ]
    },
    {
      "cell_type": "code",
      "metadata": {
        "id": "4JRPqEAUdzra",
        "colab": {
          "base_uri": "https://localhost:8080/",
          "height": 1000
        },
        "outputId": "dd46eae1-205c-4812-c96b-d97698434eda"
      },
      "source": [
        "doTrain = True\n",
        "epochs = 30\n",
        "\n",
        "modelNamePat = \"autoencoder_{name:s}_mnist\"\n",
        "\n",
        "metrics = []\n",
        "\n",
        "# We will create many models. The following give specifications for each\n",
        "tests = { \"PCA full\": { \"model args\":{ \"latent_dim\": 784, \"activations\": [None, None]}, \"other args\": { \"min_delta\": .00005} },\n",
        "          \"PCA 32\":   { \"model args\":{ \"latent_dim\":  32, \"activations\": [None, None]}, \"other args\": { \"min_delta\": .0005} },\n",
        "          \"AE 32\":    { \"model args\":{ \"latent_dim\":  32}, \"other args\": { \"min_delta\": .0005} }\n",
        "        }\n",
        "\n",
        "if doTrain:\n",
        "  # Train the models\n",
        " \n",
        "  # Results of each model will be stored in results[label]\n",
        "  results = {}\n",
        "  \n",
        "  # Train all the models\n",
        "  for label, specs in tests.items():\n",
        "    # Extract the test specifications\n",
        "    model_args, other_args = specs[\"model args\"], specs[\"other args\"]\n",
        "    latent_dim = model_args[\"latent_dim\"]\n",
        "    print(\"\\n\\nTraining \", label, \" on \", dsName, \" with \", model_args)\n",
        "    \n",
        "    # Per model names, files, etc.\n",
        "    modelName = modelNamePat.format(name=\"_\".join( (\"ae\", label, str(latent_dim)) )  )\n",
        "    weightsFile = os.path.join(modelsPath, modelName)\n",
        "    graphFile = \"_\".join( (\"ae\", label, str(latent_dim)) ) + \".png\"\n",
        "    \n",
        "    # Create the autoencoder along with its encoder and decoder parts\n",
        "    autoencoder, encoder, decoder = createOneLayerAE(shape=X_train[0].shape, **model_args)\n",
        "    \n",
        "    # Create Early Stopping call back for training\n",
        "    # Optional min_delta for early stopping of training\n",
        "    if \"min_delta\" in other_args:\n",
        "      min_delta = other_args[\"min_delta\"]\n",
        "    else:\n",
        "      min_delta = .001\n",
        "      \n",
        "    es_callback = tf.keras.callbacks.EarlyStopping(monitor='val_loss', min_delta=min_delta, patience=2, verbose=0, mode='auto', baseline=None, restore_best_weights=True)\n",
        "\n",
        "    # Create callbacks                                  \n",
        "    callbacks = [ es_callback,\n",
        "                 ModelCheckpoint(filepath=os.path.join(modelName, \"ckpt\"), monitor='val_loss', save_best_only=True)\n",
        "                ]\n",
        "       \n",
        "    # Train the model\n",
        "    history = trainModel(autoencoder, X_train, X_test, epochs=epochs, loss=\"mse\", callbacks=callbacks, metrics=metrics)\n",
        "    \n",
        "    # Save this model's weights\n",
        "    autoencoder.save_weights(weightsFile, overwrite=True)\n",
        "\n",
        "    # Create plot of graph for this model's autoencoder\n",
        "    plot_model(autoencoder, to_file=graphFile, show_shapes=True)\n",
        "    \n",
        "    # Create plot of training history\n",
        "    fig = plot_training(history, metrics, title=label)\n",
        "    \n",
        "    # Save the results of this model for later use\n",
        "    results[label] = { \"fig\": fig,\n",
        "                       \"weightsFile\": weightsFile,\n",
        "                       \"graphFile\": graphFile,\n",
        "                       \"autoencoder\": autoencoder, \n",
        "                       \"encoder\": encoder, \n",
        "                       \"decoder\": decoder,\n",
        "                       \"history\": history\n",
        "                       }\n",
        "\n"
      ],
      "execution_count": 67,
      "outputs": [
        {
          "output_type": "stream",
          "name": "stdout",
          "text": [
            "\n",
            "\n",
            "Training  PCA full  on  mnist  with  {'latent_dim': 784, 'activations': [None, None]}\n"
          ]
        },
        {
          "output_type": "stream",
          "name": "stderr",
          "text": [
            "/usr/local/lib/python3.7/dist-packages/keras/optimizer_v2/rmsprop.py:130: UserWarning: The `lr` argument is deprecated, use `learning_rate` instead.\n",
            "  super(RMSprop, self).__init__(name, **kwargs)\n"
          ]
        },
        {
          "output_type": "stream",
          "name": "stdout",
          "text": [
            "Epoch 1/30\n",
            "231/235 [============================>.] - ETA: 0s - loss: 0.0260INFO:tensorflow:Assets written to: autoencoder_ae_PCA full_784_mnist/ckpt/assets\n",
            "235/235 [==============================] - 4s 13ms/step - loss: 0.0258 - val_loss: 0.0083\n",
            "Epoch 2/30\n",
            "229/235 [============================>.] - ETA: 0s - loss: 0.0058INFO:tensorflow:Assets written to: autoencoder_ae_PCA full_784_mnist/ckpt/assets\n",
            "235/235 [==============================] - 3s 12ms/step - loss: 0.0057 - val_loss: 0.0041\n",
            "Epoch 3/30\n",
            "227/235 [===========================>..] - ETA: 0s - loss: 0.0033INFO:tensorflow:Assets written to: autoencoder_ae_PCA full_784_mnist/ckpt/assets\n",
            "235/235 [==============================] - 3s 12ms/step - loss: 0.0033 - val_loss: 0.0028\n",
            "Epoch 4/30\n",
            "232/235 [============================>.] - ETA: 0s - loss: 0.0023INFO:tensorflow:Assets written to: autoencoder_ae_PCA full_784_mnist/ckpt/assets\n",
            "235/235 [==============================] - 3s 13ms/step - loss: 0.0023 - val_loss: 0.0021\n",
            "Epoch 5/30\n",
            "228/235 [============================>.] - ETA: 0s - loss: 0.0017INFO:tensorflow:Assets written to: autoencoder_ae_PCA full_784_mnist/ckpt/assets\n",
            "235/235 [==============================] - 3s 14ms/step - loss: 0.0017 - val_loss: 0.0015\n",
            "Epoch 6/30\n",
            "230/235 [============================>.] - ETA: 0s - loss: 0.0013INFO:tensorflow:Assets written to: autoencoder_ae_PCA full_784_mnist/ckpt/assets\n",
            "235/235 [==============================] - 3s 12ms/step - loss: 0.0013 - val_loss: 0.0012\n",
            "Epoch 7/30\n",
            "232/235 [============================>.] - ETA: 0s - loss: 0.0011INFO:tensorflow:Assets written to: autoencoder_ae_PCA full_784_mnist/ckpt/assets\n",
            "235/235 [==============================] - 3s 12ms/step - loss: 0.0011 - val_loss: 0.0011\n",
            "Epoch 8/30\n",
            "229/235 [============================>.] - ETA: 0s - loss: 9.4195e-04INFO:tensorflow:Assets written to: autoencoder_ae_PCA full_784_mnist/ckpt/assets\n",
            "235/235 [==============================] - 3s 12ms/step - loss: 9.4052e-04 - val_loss: 9.7984e-04\n",
            "Epoch 9/30\n",
            "231/235 [============================>.] - ETA: 0s - loss: 8.2612e-04INFO:tensorflow:Assets written to: autoencoder_ae_PCA full_784_mnist/ckpt/assets\n",
            "235/235 [==============================] - 3s 12ms/step - loss: 8.2588e-04 - val_loss: 7.8854e-04\n",
            "Epoch 10/30\n",
            "228/235 [============================>.] - ETA: 0s - loss: 7.3677e-04INFO:tensorflow:Assets written to: autoencoder_ae_PCA full_784_mnist/ckpt/assets\n",
            "235/235 [==============================] - 3s 12ms/step - loss: 7.3703e-04 - val_loss: 7.1672e-04\n",
            "Epoch 11/30\n",
            "230/235 [============================>.] - ETA: 0s - loss: 6.7002e-04INFO:tensorflow:Assets written to: autoencoder_ae_PCA full_784_mnist/ckpt/assets\n",
            "235/235 [==============================] - 3s 12ms/step - loss: 6.6796e-04 - val_loss: 5.5708e-04\n",
            "Epoch 12/30\n",
            "233/235 [============================>.] - ETA: 0s - loss: 6.1835e-04INFO:tensorflow:Assets written to: autoencoder_ae_PCA full_784_mnist/ckpt/assets\n",
            "235/235 [==============================] - 3s 12ms/step - loss: 6.1793e-04 - val_loss: 4.9648e-04\n",
            "Epoch 13/30\n",
            "235/235 [==============================] - 2s 7ms/step - loss: 5.7464e-04 - val_loss: 5.1775e-04\n",
            "Epoch 14/30\n",
            "235/235 [==============================] - 2s 7ms/step - loss: 5.4124e-04 - val_loss: 4.9732e-04\n",
            "\n",
            "\n",
            "Training  PCA 32  on  mnist  with  {'latent_dim': 32, 'activations': [None, None]}\n"
          ]
        },
        {
          "output_type": "stream",
          "name": "stderr",
          "text": [
            "/usr/local/lib/python3.7/dist-packages/keras/optimizer_v2/rmsprop.py:130: UserWarning: The `lr` argument is deprecated, use `learning_rate` instead.\n",
            "  super(RMSprop, self).__init__(name, **kwargs)\n"
          ]
        },
        {
          "output_type": "stream",
          "name": "stdout",
          "text": [
            "Epoch 1/30\n",
            "235/235 [==============================] - ETA: 0s - loss: 0.0622INFO:tensorflow:Assets written to: autoencoder_ae_PCA 32_32_mnist/ckpt/assets\n",
            "235/235 [==============================] - 3s 10ms/step - loss: 0.0622 - val_loss: 0.0421\n",
            "Epoch 2/30\n",
            "227/235 [===========================>..] - ETA: 0s - loss: 0.0351INFO:tensorflow:Assets written to: autoencoder_ae_PCA 32_32_mnist/ckpt/assets\n",
            "235/235 [==============================] - 2s 10ms/step - loss: 0.0349 - val_loss: 0.0291\n",
            "Epoch 3/30\n",
            "226/235 [===========================>..] - ETA: 0s - loss: 0.0264INFO:tensorflow:Assets written to: autoencoder_ae_PCA 32_32_mnist/ckpt/assets\n",
            "235/235 [==============================] - 2s 10ms/step - loss: 0.0264 - val_loss: 0.0235\n",
            "Epoch 4/30\n",
            "227/235 [===========================>..] - ETA: 0s - loss: 0.0223INFO:tensorflow:Assets written to: autoencoder_ae_PCA 32_32_mnist/ckpt/assets\n",
            "235/235 [==============================] - 2s 10ms/step - loss: 0.0222 - val_loss: 0.0205\n",
            "Epoch 5/30\n",
            "234/235 [============================>.] - ETA: 0s - loss: 0.0200INFO:tensorflow:Assets written to: autoencoder_ae_PCA 32_32_mnist/ckpt/assets\n",
            "235/235 [==============================] - 2s 10ms/step - loss: 0.0200 - val_loss: 0.0188\n",
            "Epoch 6/30\n",
            "223/235 [===========================>..] - ETA: 0s - loss: 0.0187INFO:tensorflow:Assets written to: autoencoder_ae_PCA 32_32_mnist/ckpt/assets\n",
            "235/235 [==============================] - 2s 10ms/step - loss: 0.0187 - val_loss: 0.0179\n",
            "Epoch 7/30\n",
            "226/235 [===========================>..] - ETA: 0s - loss: 0.0181INFO:tensorflow:Assets written to: autoencoder_ae_PCA 32_32_mnist/ckpt/assets\n",
            "235/235 [==============================] - 2s 10ms/step - loss: 0.0181 - val_loss: 0.0175\n",
            "Epoch 8/30\n",
            "235/235 [==============================] - ETA: 0s - loss: 0.0178INFO:tensorflow:Assets written to: autoencoder_ae_PCA 32_32_mnist/ckpt/assets\n",
            "235/235 [==============================] - 2s 10ms/step - loss: 0.0178 - val_loss: 0.0173\n",
            "Epoch 9/30\n",
            "229/235 [============================>.] - ETA: 0s - loss: 0.0176INFO:tensorflow:Assets written to: autoencoder_ae_PCA 32_32_mnist/ckpt/assets\n",
            "235/235 [==============================] - 3s 12ms/step - loss: 0.0177 - val_loss: 0.0172\n",
            "Epoch 10/30\n",
            "228/235 [============================>.] - ETA: 0s - loss: 0.0176INFO:tensorflow:Assets written to: autoencoder_ae_PCA 32_32_mnist/ckpt/assets\n",
            "235/235 [==============================] - 2s 10ms/step - loss: 0.0176 - val_loss: 0.0171\n",
            "\n",
            "\n",
            "Training  AE 32  on  mnist  with  {'latent_dim': 32}\n"
          ]
        },
        {
          "output_type": "stream",
          "name": "stderr",
          "text": [
            "/usr/local/lib/python3.7/dist-packages/keras/optimizer_v2/rmsprop.py:130: UserWarning: The `lr` argument is deprecated, use `learning_rate` instead.\n",
            "  super(RMSprop, self).__init__(name, **kwargs)\n"
          ]
        },
        {
          "output_type": "stream",
          "name": "stdout",
          "text": [
            "Epoch 1/30\n",
            "234/235 [============================>.] - ETA: 0s - loss: 0.1009INFO:tensorflow:Assets written to: autoencoder_ae_AE 32_32_mnist/ckpt/assets\n",
            "235/235 [==============================] - 3s 11ms/step - loss: 0.1008 - val_loss: 0.0626\n",
            "Epoch 2/30\n",
            "233/235 [============================>.] - ETA: 0s - loss: 0.0530INFO:tensorflow:Assets written to: autoencoder_ae_AE 32_32_mnist/ckpt/assets\n",
            "235/235 [==============================] - 2s 10ms/step - loss: 0.0530 - val_loss: 0.0447\n",
            "Epoch 3/30\n",
            "224/235 [===========================>..] - ETA: 0s - loss: 0.0402INFO:tensorflow:Assets written to: autoencoder_ae_AE 32_32_mnist/ckpt/assets\n",
            "235/235 [==============================] - 3s 11ms/step - loss: 0.0400 - val_loss: 0.0353\n",
            "Epoch 4/30\n",
            "226/235 [===========================>..] - ETA: 0s - loss: 0.0328INFO:tensorflow:Assets written to: autoencoder_ae_AE 32_32_mnist/ckpt/assets\n",
            "235/235 [==============================] - 2s 10ms/step - loss: 0.0327 - val_loss: 0.0297\n",
            "Epoch 5/30\n",
            "230/235 [============================>.] - ETA: 0s - loss: 0.0282INFO:tensorflow:Assets written to: autoencoder_ae_AE 32_32_mnist/ckpt/assets\n",
            "235/235 [==============================] - 2s 11ms/step - loss: 0.0282 - val_loss: 0.0260\n",
            "Epoch 6/30\n",
            "235/235 [==============================] - ETA: 0s - loss: 0.0250INFO:tensorflow:Assets written to: autoencoder_ae_AE 32_32_mnist/ckpt/assets\n",
            "235/235 [==============================] - 2s 10ms/step - loss: 0.0250 - val_loss: 0.0234\n",
            "Epoch 7/30\n",
            "224/235 [===========================>..] - ETA: 0s - loss: 0.0227INFO:tensorflow:Assets written to: autoencoder_ae_AE 32_32_mnist/ckpt/assets\n",
            "235/235 [==============================] - 3s 11ms/step - loss: 0.0227 - val_loss: 0.0214\n",
            "Epoch 8/30\n",
            "226/235 [===========================>..] - ETA: 0s - loss: 0.0208INFO:tensorflow:Assets written to: autoencoder_ae_AE 32_32_mnist/ckpt/assets\n",
            "235/235 [==============================] - 2s 11ms/step - loss: 0.0207 - val_loss: 0.0196\n",
            "Epoch 9/30\n",
            "234/235 [============================>.] - ETA: 0s - loss: 0.0192INFO:tensorflow:Assets written to: autoencoder_ae_AE 32_32_mnist/ckpt/assets\n",
            "235/235 [==============================] - 2s 10ms/step - loss: 0.0192 - val_loss: 0.0182\n",
            "Epoch 10/30\n",
            "226/235 [===========================>..] - ETA: 0s - loss: 0.0180INFO:tensorflow:Assets written to: autoencoder_ae_AE 32_32_mnist/ckpt/assets\n",
            "235/235 [==============================] - 2s 10ms/step - loss: 0.0179 - val_loss: 0.0171\n",
            "Epoch 11/30\n",
            "234/235 [============================>.] - ETA: 0s - loss: 0.0170INFO:tensorflow:Assets written to: autoencoder_ae_AE 32_32_mnist/ckpt/assets\n",
            "235/235 [==============================] - 2s 10ms/step - loss: 0.0170 - val_loss: 0.0162\n",
            "Epoch 12/30\n",
            "227/235 [===========================>..] - ETA: 0s - loss: 0.0162INFO:tensorflow:Assets written to: autoencoder_ae_AE 32_32_mnist/ckpt/assets\n",
            "235/235 [==============================] - 2s 10ms/step - loss: 0.0162 - val_loss: 0.0155\n",
            "Epoch 13/30\n",
            "229/235 [============================>.] - ETA: 0s - loss: 0.0155INFO:tensorflow:Assets written to: autoencoder_ae_AE 32_32_mnist/ckpt/assets\n",
            "235/235 [==============================] - 2s 10ms/step - loss: 0.0155 - val_loss: 0.0149\n",
            "Epoch 14/30\n",
            "227/235 [===========================>..] - ETA: 0s - loss: 0.0149INFO:tensorflow:Assets written to: autoencoder_ae_AE 32_32_mnist/ckpt/assets\n",
            "235/235 [==============================] - 2s 10ms/step - loss: 0.0149 - val_loss: 0.0143\n",
            "Epoch 15/30\n",
            "226/235 [===========================>..] - ETA: 0s - loss: 0.0144INFO:tensorflow:Assets written to: autoencoder_ae_AE 32_32_mnist/ckpt/assets\n",
            "235/235 [==============================] - 2s 10ms/step - loss: 0.0144 - val_loss: 0.0138\n",
            "Epoch 16/30\n",
            "227/235 [===========================>..] - ETA: 0s - loss: 0.0139INFO:tensorflow:Assets written to: autoencoder_ae_AE 32_32_mnist/ckpt/assets\n",
            "235/235 [==============================] - 3s 11ms/step - loss: 0.0139 - val_loss: 0.0134\n",
            "Epoch 17/30\n",
            "231/235 [============================>.] - ETA: 0s - loss: 0.0135INFO:tensorflow:Assets written to: autoencoder_ae_AE 32_32_mnist/ckpt/assets\n",
            "235/235 [==============================] - 2s 10ms/step - loss: 0.0135 - val_loss: 0.0130\n",
            "Epoch 18/30\n",
            "229/235 [============================>.] - ETA: 0s - loss: 0.0131INFO:tensorflow:Assets written to: autoencoder_ae_AE 32_32_mnist/ckpt/assets\n",
            "235/235 [==============================] - 2s 10ms/step - loss: 0.0131 - val_loss: 0.0126\n",
            "Epoch 19/30\n",
            "232/235 [============================>.] - ETA: 0s - loss: 0.0128INFO:tensorflow:Assets written to: autoencoder_ae_AE 32_32_mnist/ckpt/assets\n",
            "235/235 [==============================] - 2s 10ms/step - loss: 0.0128 - val_loss: 0.0124\n",
            "Epoch 20/30\n",
            "225/235 [===========================>..] - ETA: 0s - loss: 0.0125INFO:tensorflow:Assets written to: autoencoder_ae_AE 32_32_mnist/ckpt/assets\n",
            "235/235 [==============================] - 2s 10ms/step - loss: 0.0125 - val_loss: 0.0121\n",
            "Epoch 21/30\n",
            "225/235 [===========================>..] - ETA: 0s - loss: 0.0123INFO:tensorflow:Assets written to: autoencoder_ae_AE 32_32_mnist/ckpt/assets\n",
            "235/235 [==============================] - 2s 10ms/step - loss: 0.0123 - val_loss: 0.0118\n",
            "Epoch 22/30\n",
            "235/235 [==============================] - ETA: 0s - loss: 0.0120INFO:tensorflow:Assets written to: autoencoder_ae_AE 32_32_mnist/ckpt/assets\n",
            "235/235 [==============================] - 2s 11ms/step - loss: 0.0120 - val_loss: 0.0116\n",
            "Epoch 23/30\n",
            "234/235 [============================>.] - ETA: 0s - loss: 0.0118INFO:tensorflow:Assets written to: autoencoder_ae_AE 32_32_mnist/ckpt/assets\n",
            "235/235 [==============================] - 2s 10ms/step - loss: 0.0118 - val_loss: 0.0114\n"
          ]
        },
        {
          "output_type": "display_data",
          "data": {
            "image/png": "[encoded data removed]",
            "text/plain": [
              "<Figure size 640x480 with 1 Axes>"
            ]
          },
          "metadata": {}
        },
        {
          "output_type": "display_data",
          "data": {
            "image/png": "[encoded data removed]",
            "text/plain": [
              "<Figure size 640x480 with 1 Axes>"
            ]
          },
          "metadata": {}
        },
        {
          "output_type": "display_data",
          "data": {
            "image/png": "[encoded data removed]",
            "text/plain": [
              "<Figure size 640x480 with 1 Axes>"
            ]
          },
          "metadata": {}
        }
      ]
    },
    {
      "cell_type": "code",
      "metadata": {
        "id": "Jd7efW-9174f",
        "outputId": "a0c0adc0-86c4-4eb7-e1ff-33785871c059",
        "colab": {
          "base_uri": "https://localhost:8080/"
        }
      },
      "source": [
        "%debug"
      ],
      "execution_count": null,
      "outputs": [
        {
          "output_type": "stream",
          "name": "stdout",
          "text": [
            "> \u001b[0;32m/usr/local/lib/python3.7/dist-packages/tensorflow/python/framework/ops.py\u001b[0m(1117)\u001b[0;36m_numpy\u001b[0;34m()\u001b[0m\n",
            "\u001b[0;32m   1115 \u001b[0;31m      \u001b[0;32mreturn\u001b[0m \u001b[0mself\u001b[0m\u001b[0;34m.\u001b[0m\u001b[0m_numpy_internal\u001b[0m\u001b[0;34m(\u001b[0m\u001b[0;34m)\u001b[0m\u001b[0;34m\u001b[0m\u001b[0;34m\u001b[0m\u001b[0m\n",
            "\u001b[0m\u001b[0;32m   1116 \u001b[0;31m    \u001b[0;32mexcept\u001b[0m \u001b[0mcore\u001b[0m\u001b[0;34m.\u001b[0m\u001b[0m_NotOkStatusException\u001b[0m \u001b[0;32mas\u001b[0m \u001b[0me\u001b[0m\u001b[0;34m:\u001b[0m  \u001b[0;31m# pylint: disable=protected-access\u001b[0m\u001b[0;34m\u001b[0m\u001b[0;34m\u001b[0m\u001b[0m\n",
            "\u001b[0m\u001b[0;32m-> 1117 \u001b[0;31m      \u001b[0;32mraise\u001b[0m \u001b[0mcore\u001b[0m\u001b[0;34m.\u001b[0m\u001b[0m_status_to_exception\u001b[0m\u001b[0;34m(\u001b[0m\u001b[0me\u001b[0m\u001b[0;34m)\u001b[0m \u001b[0;32mfrom\u001b[0m \u001b[0;32mNone\u001b[0m  \u001b[0;31m# pylint: disable=protected-access\u001b[0m\u001b[0;34m\u001b[0m\u001b[0;34m\u001b[0m\u001b[0m\n",
            "\u001b[0m\u001b[0;32m   1118 \u001b[0;31m\u001b[0;34m\u001b[0m\u001b[0m\n",
            "\u001b[0m\u001b[0;32m   1119 \u001b[0;31m  \u001b[0;34m@\u001b[0m\u001b[0mproperty\u001b[0m\u001b[0;34m\u001b[0m\u001b[0;34m\u001b[0m\u001b[0m\n",
            "\u001b[0m\n",
            "--KeyboardInterrupt--\n"
          ]
        }
      ]
    },
    {
      "cell_type": "markdown",
      "metadata": {
        "id": "2fQrui0TQrqo"
      },
      "source": [
        "## Examine full dimension PCA"
      ]
    },
    {
      "cell_type": "code",
      "metadata": {
        "id": "FGAZ4nsjQcBA"
      },
      "source": [
        "results_pca = results[\"PCA full\"]\n",
        "fig_pca, graph_pca, ae_pca = [ results_pca[l] for l in (\"fig\", \"graphFile\", \"autoencoder\")]\n",
        "\n",
        "\n",
        "IPython.display.Image(graph_pca)\n"
      ],
      "execution_count": null,
      "outputs": []
    },
    {
      "cell_type": "code",
      "metadata": {
        "id": "-YmbwYeDRAXR"
      },
      "source": [
        "ae_pca.summary()"
      ],
      "execution_count": null,
      "outputs": []
    },
    {
      "cell_type": "code",
      "metadata": {
        "id": "sLpT2xWpRGEl"
      },
      "source": [
        "fig_pca"
      ],
      "execution_count": null,
      "outputs": []
    },
    {
      "cell_type": "markdown",
      "metadata": {
        "id": "A-alWKcERMW5"
      },
      "source": [
        "## Examine Autoencoder with bottleneck of 32 units"
      ]
    },
    {
      "cell_type": "code",
      "metadata": {
        "id": "ggci9dF0Pz42"
      },
      "source": [
        "results_ae32 = results[\"AE 32\"]\n",
        "fig_ae32, graph_ae32, ae_ae32, decoder_ae32, encoder_ae32 = [ results_ae32[l] for l in (\"fig\", \"graphFile\", \"autoencoder\", \"decoder\", \"encoder\")]"
      ],
      "execution_count": null,
      "outputs": []
    },
    {
      "cell_type": "code",
      "metadata": {
        "id": "oL8IT5RwRbtT"
      },
      "source": [
        "IPython.display.Image(graph_ae32)"
      ],
      "execution_count": null,
      "outputs": []
    },
    {
      "cell_type": "code",
      "metadata": {
        "id": "PraJVeO9RgcW"
      },
      "source": [
        "ae_ae32.summary()"
      ],
      "execution_count": null,
      "outputs": []
    },
    {
      "cell_type": "code",
      "metadata": {
        "id": "rSI3we5vR3BB"
      },
      "source": [
        "fig_ae32"
      ],
      "execution_count": null,
      "outputs": []
    },
    {
      "cell_type": "markdown",
      "metadata": {
        "id": "8PIFrj_AZbXr"
      },
      "source": [
        "## Let's encode, then decode some examples to see the loss"
      ]
    },
    {
      "cell_type": "code",
      "metadata": {
        "id": "LU32JnuRKpg0"
      },
      "source": [
        "# encode and decode some digits\n",
        "# note that we take them from the *test* set\n",
        "encoded_imgs = encoder_ae32.predict(X_test)\n",
        "decoded_imgs = decoder_ae32.predict(encoded_imgs)\n"
      ],
      "execution_count": null,
      "outputs": []
    },
    {
      "cell_type": "code",
      "metadata": {
        "id": "dlfXZeDw0mLg"
      },
      "source": [
        "decoded_imgs.shape"
      ],
      "execution_count": null,
      "outputs": []
    },
    {
      "cell_type": "markdown",
      "metadata": {
        "id": "9foOfWSfSMsI"
      },
      "source": [
        "### Plot description\n",
        "- First row: test image\n",
        "- Second row: reconstructed test image"
      ]
    },
    {
      "cell_type": "code",
      "metadata": {
        "id": "2y6xN7WGKtmR"
      },
      "source": [
        "# use Matplotlib (don't ask)\n",
        "import matplotlib.pyplot as plt\n",
        "\n",
        "n = 10  # how many digits we will display\n",
        "plt.figure(figsize=(20, 4))\n",
        "for i in range(n):\n",
        "    # display original\n",
        "    ax = plt.subplot(2, n, i + 1)\n",
        "    plt.imshow(X_test[i,:,:,0])\n",
        "    plt.gray()\n",
        "    ax.get_xaxis().set_visible(False)\n",
        "    ax.get_yaxis().set_visible(False)\n",
        "\n",
        "    # display reconstruction\n",
        "    ax = plt.subplot(2, n, i + 1 + n)\n",
        "    plt.imshow(decoded_imgs[i,:,:,0])\n",
        "    plt.gray()\n",
        "    ax.get_xaxis().set_visible(False)\n",
        "    ax.get_yaxis().set_visible(False)\n",
        "plt.show()"
      ],
      "execution_count": null,
      "outputs": []
    },
    {
      "cell_type": "markdown",
      "metadata": {
        "id": "vgO426IOomPC"
      },
      "source": [
        "# Denoising Autencoder demo\n",
        "\n",
        "From: Keras examples https://github.com/keras-team/keras/blob/master/examples/mnist_denoising_autoencoder.py\n",
        "\n",
        "- This will build a multi-layer Autoencoder with a latent representation of length 16\n",
        "- It will first add noise to the input *but the target* will be the uncorrupted input\n",
        "- The layers\n",
        "  - a Conv2D layer with 32 features (activation maps)\n",
        "  - a Conv2D layer with 64 features\n",
        "  - a Dense layer with 16 units"
      ]
    },
    {
      "cell_type": "code",
      "metadata": {
        "id": "t1MW0ZjforJe"
      },
      "source": [
        "'''Trains a denoising autoencoder on MNIST dataset.\n",
        "\n",
        "Denoising is one of the classic applications of autoencoders.\n",
        "The denoising process removes unwanted noise that corrupted the\n",
        "true signal.\n",
        "\n",
        "Noise + Data ---> Denoising Autoencoder ---> Data\n",
        "\n",
        "Given a training dataset of corrupted data as input and\n",
        "true signal as output, a denoising autoencoder can recover the\n",
        "hidden structure to generate clean data.\n",
        "\n",
        "This example has modular design. The encoder, decoder and autoencoder\n",
        "are 3 models that share weights. For example, after training the\n",
        "autoencoder, the encoder can be used to  generate latent vectors\n",
        "of input data for low-dim visualization like PCA or TSNE.\n",
        "'''\n",
        "\n",
        "from __future__ import absolute_import\n",
        "from __future__ import division\n",
        "from __future__ import print_function\n",
        "\n",
        "# import keras\n",
        "from tensorflow.keras.layers import Activation, Dense, Input\n",
        "from tensorflow.keras.layers import Conv2D, Flatten\n",
        "from tensorflow.keras.layers import Reshape, Conv2DTranspose\n",
        "from tensorflow.keras.models import Model\n",
        "from tensorflow.keras import backend as K\n",
        "from tensorflow.keras.datasets import mnist\n",
        "\n",
        "import numpy as np\n",
        "import matplotlib.pyplot as plt\n",
        "from PIL import Image\n",
        "\n"
      ],
      "execution_count": null,
      "outputs": []
    },
    {
      "cell_type": "code",
      "metadata": {
        "id": "I6alJZbJo6tn"
      },
      "source": [
        "np.random.seed(1337)\n",
        "\n",
        "# MNIST dataset\n",
        "(x_train, _), (x_test, _) = mnist.load_data()\n",
        "\n",
        "image_size = x_train.shape[1]\n",
        "x_train = np.reshape(x_train, [-1, image_size, image_size, 1])\n",
        "x_test = np.reshape(x_test, [-1, image_size, image_size, 1])\n",
        "x_train = x_train.astype('float32') / 255\n",
        "x_test = x_test.astype('float32') / 255\n",
        "\n",
        "# Generate corrupted MNIST images by adding noise with normal dist\n",
        "# centered at 0.5 and std=0.5\n",
        "noise = np.random.normal(loc=0.5, scale=0.5, size=x_train.shape)\n",
        "x_train_noisy = x_train + noise\n",
        "noise = np.random.normal(loc=0.5, scale=0.5, size=x_test.shape)\n",
        "x_test_noisy = x_test + noise\n",
        "\n",
        "x_train_noisy = np.clip(x_train_noisy, 0., 1.)\n",
        "x_test_noisy = np.clip(x_test_noisy, 0., 1.)\n",
        "\n",
        "# Network parameters\n",
        "input_shape = (image_size, image_size, 1)\n",
        "batch_size = 128\n",
        "kernel_size = 3\n",
        "latent_dim = 16\n",
        "# Encoder/Decoder number of CNN layers and filters per layer\n",
        "layer_filters = [32, 64]\n",
        "\n"
      ],
      "execution_count": null,
      "outputs": []
    },
    {
      "cell_type": "code",
      "metadata": {
        "id": "ccXfjpCDo9-y"
      },
      "source": [
        "# Build the Autoencoder Model\n",
        "# First build the Encoder Model\n",
        "inputs = Input(shape=input_shape, name='encoder_input')\n",
        "x = inputs\n",
        "# Stack of Conv2D blocks\n",
        "# Notes:\n",
        "# 1) Use Batch Normalization before ReLU on deep networks\n",
        "# 2) Use MaxPooling2D as alternative to strides>1\n",
        "# - faster but not as good as strides>1\n",
        "for filters in layer_filters:\n",
        "    x = Conv2D(filters=filters,\n",
        "               kernel_size=kernel_size,\n",
        "               strides=2,\n",
        "               activation='relu',\n",
        "               padding='same')(x)\n",
        "\n",
        "# Shape info needed to build Decoder Model\n",
        "shape = tf.keras.backend.int_shape(x)\n",
        "\n",
        "# Generate the latent vector\n",
        "x = Flatten()(x)\n",
        "latent = Dense(latent_dim, name='latent_vector')(x)\n",
        "\n",
        "# Instantiate Encoder Model\n",
        "encoder = Model(inputs, latent, name='encoder')\n",
        "\n",
        "\n",
        "# Build the Decoder Model\n",
        "latent_inputs = Input(shape=(latent_dim,), name='decoder_input')\n",
        "x = Dense(shape[1] * shape[2] * shape[3])(latent_inputs)\n",
        "x = Reshape((shape[1], shape[2], shape[3]))(x)\n",
        "\n",
        "# Stack of Transposed Conv2D blocks\n",
        "# Notes:\n",
        "# 1) Use Batch Normalization before ReLU on deep networks\n",
        "# 2) Use UpSampling2D as alternative to strides>1\n",
        "# - faster but not as good as strides>1\n",
        "for filters in layer_filters[::-1]:\n",
        "    x = Conv2DTranspose(filters=filters,\n",
        "                        kernel_size=kernel_size,\n",
        "                        strides=2,\n",
        "                        activation='relu',\n",
        "                        padding='same')(x)\n",
        "\n",
        "x = Conv2DTranspose(filters=1,\n",
        "                    kernel_size=kernel_size,\n",
        "                    padding='same')(x)\n",
        "\n",
        "outputs = Activation('sigmoid', name='decoder_output')(x)\n",
        "\n",
        "# Instantiate Decoder Model\n",
        "decoder = Model(latent_inputs, outputs, name='decoder')\n",
        "\n",
        "\n",
        "# Autoencoder = Encoder + Decoder\n",
        "# Instantiate Autoencoder Model\n",
        "autoencoder = Model(inputs, decoder(encoder(inputs)), name='autoencoder')\n",
        "\n",
        "\n"
      ],
      "execution_count": null,
      "outputs": []
    },
    {
      "cell_type": "markdown",
      "metadata": {
        "id": "GbzJGJXkT2nA"
      },
      "source": [
        "## The encoder"
      ]
    },
    {
      "cell_type": "code",
      "metadata": {
        "id": "fa58C1jPT8Pr"
      },
      "source": [
        "encoder.summary()"
      ],
      "execution_count": null,
      "outputs": []
    },
    {
      "cell_type": "markdown",
      "metadata": {
        "id": "gPY7fDUXT-3q"
      },
      "source": [
        "## The decoder"
      ]
    },
    {
      "cell_type": "code",
      "metadata": {
        "id": "To4UNqKmUCew"
      },
      "source": [
        "decoder.summary()"
      ],
      "execution_count": null,
      "outputs": []
    },
    {
      "cell_type": "code",
      "metadata": {
        "id": "x1AaLbtVp7UX"
      },
      "source": [
        "min_delta=.001\n",
        "modelName = modelNamePat.format(name=\"_\".join( (\"ae\", \"noisy\", str(latent_dim)) )  )\n",
        "es_callback = tf.keras.callbacks.EarlyStopping(monitor='val_loss', min_delta=min_delta, patience=2, verbose=0, mode='auto', baseline=None, restore_best_weights=True)\n",
        "\n",
        "# Create callbacks                                  \n",
        "callbacks = [ es_callback,\n",
        "              #ModelCheckpoint(filepath=modelName + \".ckpt\", monitor='val_loss', save_best_only=True)\n",
        "            ]\n",
        "\n",
        "autoencoder.compile(loss='mse', optimizer='adam')\n",
        "\n",
        "# Train the autoencoder\n",
        "autoencoder.fit(x_train_noisy,\n",
        "                x_train,\n",
        "                validation_data=(x_test_noisy, x_test),\n",
        "                epochs=30,\n",
        "                batch_size=batch_size,\n",
        "                callbacks=callbacks\n",
        "               )\n",
        "\n"
      ],
      "execution_count": null,
      "outputs": []
    },
    {
      "cell_type": "code",
      "metadata": {
        "id": "PjwskqIntSkm"
      },
      "source": [
        "# Change the \"style\" from Colab default to plt default\n",
        "plt.style.use('default')"
      ],
      "execution_count": null,
      "outputs": []
    },
    {
      "cell_type": "code",
      "metadata": {
        "id": "3GxTxkI8pAvU"
      },
      "source": [
        "# Predict the Autoencoder output from corrupted test images\n",
        "x_decoded = autoencoder.predict(x_test_noisy)\n",
        "\n",
        "# Display the 1st 8 corrupted and denoised images\n",
        "rows, cols = 10, 30\n",
        "num = rows * cols\n",
        "imgs = np.concatenate([x_test[:num], x_test_noisy[:num], x_decoded[:num]])\n",
        "imgs = imgs.reshape((rows * 3, cols, image_size, image_size))\n",
        "imgs = np.vstack(np.split(imgs, rows, axis=1))\n",
        "imgs = imgs.reshape((rows * 3, -1, image_size, image_size))\n",
        "imgs = np.vstack([np.hstack(i) for i in imgs])\n",
        "imgs = (imgs * 255).astype(np.uint8)\n",
        "plt.figure(figsize=(16, 10))\n",
        "plt.axis('off')\n",
        "plt.title('Original images: top rows, '\n",
        "          'Corrupted Input: middle rows, '\n",
        "          'Denoised Input:  third rows')\n",
        "plt.imshow(imgs, interpolation='none', cmap='gray')\n",
        "Image.fromarray(imgs).save('corrupted_and_denoised.png')\n",
        "plt.show()\n"
      ],
      "execution_count": null,
      "outputs": []
    },
    {
      "cell_type": "markdown",
      "metadata": {
        "id": "THz5aREuMpUx"
      },
      "source": [
        "# VAE demo"
      ]
    },
    {
      "cell_type": "markdown",
      "metadata": {
        "id": "7vKcRNrtMRh0"
      },
      "source": [
        "Derived from https://github.com/keras-team/keras/blob/master/examples/variational_autoencoder.py"
      ]
    },
    {
      "cell_type": "code",
      "metadata": {
        "id": "zuTXAYS-MTd6"
      },
      "source": [
        "'''Example of VAE on MNIST dataset using MLP\n",
        "\n",
        "The VAE has a modular design. The encoder, decoder and VAE\n",
        "are 3 models that share weights. After training the VAE model,\n",
        "the encoder can be used to generate latent vectors.\n",
        "The decoder can be used to generate MNIST digits by sampling the\n",
        "latent vector from a Gaussian distribution with mean = 0 and std = 1.\n",
        "\n",
        "# Reference\n",
        "\n",
        "[1] Kingma, Diederik P., and Max Welling.\n",
        "\"Auto-Encoding Variational Bayes.\"\n",
        "https://arxiv.org/abs/1312.6114\n",
        "'''\n",
        "\n",
        "from __future__ import absolute_import\n",
        "from __future__ import division\n",
        "from __future__ import print_function\n",
        "\n",
        "import tensorflow as tf\n",
        "\n",
        "from tensorflow.keras.layers import Lambda, Input, Dense\n",
        "from tensorflow.keras.models import Model\n",
        "from tensorflow.keras.datasets import mnist\n",
        "from tensorflow.keras.losses import mse, binary_crossentropy\n",
        "from tensorflow.keras.utils import plot_model\n",
        "# from keras import backend as K\n",
        "\n",
        "import numpy as np\n",
        "import matplotlib.pyplot as plt\n",
        "import argparse\n",
        "import os\n",
        "\n",
        "\n"
      ],
      "execution_count": null,
      "outputs": []
    },
    {
      "cell_type": "code",
      "metadata": {
        "id": "48luG7DCM4lg"
      },
      "source": [
        "# reparameterization trick\n",
        "# instead of sampling from Q(z|X), sample epsilon = N(0,I)\n",
        "# z = z_mean + sqrt(var) * epsilon\n",
        "def sampling(args):\n",
        "    \"\"\"Reparameterization trick by sampling from an isotropic unit Gaussian.\n",
        "\n",
        "    # Arguments\n",
        "        args (tensor): mean and log of variance of Q(z|X)\n",
        "\n",
        "    # Returns\n",
        "        z (tensor): sampled latent vector\n",
        "    \"\"\"\n",
        "\n",
        "    z_mean, z_log_var = args\n",
        "    batch = tf.keras.backend.shape(z_mean)[0]\n",
        "    dim = tf.keras.backend.int_shape(z_mean)[1]\n",
        "    # by default, random_normal has mean = 0 and std = 1.0\n",
        "    epsilon = tf.keras.backend.random_normal(shape=(batch, dim))\n",
        "    return z_mean + tf.keras.backend.exp(0.5 * z_log_var) * epsilon\n",
        "\n",
        "\n",
        "def plot_results(models,\n",
        "                 data,\n",
        "                 batch_size=128,\n",
        "                 model_name=\"vae_mnist\"):\n",
        "    \"\"\"Plots labels and MNIST digits as a function of the 2D latent vector\n",
        "\n",
        "    # Arguments\n",
        "        models (tuple): encoder and decoder models\n",
        "        data (tuple): test data and label\n",
        "        batch_size (int): prediction batch size\n",
        "        model_name (string): which model is using this function\n",
        "    \"\"\"\n",
        "\n",
        "    encoder, decoder = models\n",
        "    x_test, y_test = data\n",
        "    os.makedirs(model_name, exist_ok=True)\n",
        "\n",
        "    filename = os.path.join(model_name, \"vae_mean.png\")\n",
        "    # display a 2D plot of the digit classes in the latent space\n",
        "    z_mean, _, _ = encoder.predict(x_test,\n",
        "                                   batch_size=batch_size)\n",
        "    plt.figure(figsize=(12, 10))\n",
        "    plt.scatter(z_mean[:, 0], z_mean[:, 1], c=y_test)\n",
        "    plt.colorbar()\n",
        "    plt.xlabel(\"z[0]\")\n",
        "    plt.ylabel(\"z[1]\")\n",
        "    plt.savefig(filename)\n",
        "    plt.show()\n",
        "\n",
        "    filename = os.path.join(model_name, \"digits_over_latent.png\")\n",
        "    # display a 30x30 2D manifold of digits\n",
        "    n = 30\n",
        "    digit_size = 28\n",
        "    figure = np.zeros((digit_size * n, digit_size * n))\n",
        "    # linearly spaced coordinates corresponding to the 2D plot\n",
        "    # of digit classes in the latent space\n",
        "    grid_x = np.linspace(-4, 4, n)\n",
        "    grid_y = np.linspace(-4, 4, n)[::-1]\n",
        "\n",
        "    for i, yi in enumerate(grid_y):\n",
        "        for j, xi in enumerate(grid_x):\n",
        "            z_sample = np.array([[xi, yi]])\n",
        "            x_decoded = decoder.predict(z_sample)\n",
        "            digit = x_decoded[0].reshape(digit_size, digit_size)\n",
        "            figure[i * digit_size: (i + 1) * digit_size,\n",
        "                   j * digit_size: (j + 1) * digit_size] = digit\n",
        "\n",
        "    plt.figure(figsize=(16, 10))\n",
        "    start_range = digit_size // 2\n",
        "    end_range = (n - 1) * digit_size + start_range + 1\n",
        "    pixel_range = np.arange(start_range, end_range, digit_size)\n",
        "    sample_range_x = np.round(grid_x, 1)\n",
        "    sample_range_y = np.round(grid_y, 1)\n",
        "    plt.xticks(pixel_range, sample_range_x)\n",
        "    plt.yticks(pixel_range, sample_range_y)\n",
        "    plt.xlabel(\"z[0]\")\n",
        "    plt.ylabel(\"z[1]\")\n",
        "    plt.imshow(figure, cmap='Greys_r')\n",
        "    plt.savefig(filename)\n",
        "    plt.show()\n",
        "\n",
        "\n"
      ],
      "execution_count": null,
      "outputs": []
    },
    {
      "cell_type": "code",
      "metadata": {
        "id": "rHbQqwmIM7k9"
      },
      "source": [
        "# MNIST dataset\n",
        "(x_train, y_train), (x_test, y_test) = mnist.load_data()\n",
        "\n",
        "image_size = x_train.shape[1]\n",
        "original_dim = image_size * image_size\n",
        "x_train = np.reshape(x_train, [-1, original_dim])\n",
        "x_test = np.reshape(x_test, [-1, original_dim])\n",
        "x_train = x_train.astype('float32') / 255\n",
        "x_test = x_test.astype('float32') / 255\n",
        "\n",
        "# network parameters\n",
        "input_shape = (original_dim, )\n",
        "intermediate_dim = 512\n",
        "batch_size = 128\n",
        "latent_dim = 2\n",
        "epochs = 50\n",
        "\n"
      ],
      "execution_count": null,
      "outputs": []
    },
    {
      "cell_type": "code",
      "metadata": {
        "id": "927-6WKBcBGn"
      },
      "source": [
        "# VAE model = encoder + decoder\n",
        "# build encoder model\n",
        "inputs = Input(shape=input_shape, name='encoder_input')\n",
        "x = Dense(intermediate_dim, activation='relu')(inputs)\n",
        "z_mean = Dense(latent_dim, name='z_mean')(x)\n",
        "z_log_var = Dense(latent_dim, name='z_log_var')(x)\n",
        "\n",
        "# use reparameterization trick to push the sampling out as input\n",
        "# note that \"output_shape\" isn't necessary with the TensorFlow backend\n",
        "z = Lambda(sampling, output_shape=(latent_dim,), name='z')([z_mean, z_log_var])\n",
        "\n",
        "# instantiate encoder model\n",
        "encoder = Model(inputs, [z_mean, z_log_var, z], name='encoder')\n",
        "encoder.summary()\n",
        "plot_model(encoder, to_file='vae_mlp_encoder.png', show_shapes=True)\n",
        "\n",
        "# build decoder model\n",
        "latent_inputs = Input(shape=(latent_dim,), name='z_sampling')\n",
        "x = Dense(intermediate_dim, activation='relu')(latent_inputs)\n",
        "outputs = Dense(original_dim, activation='sigmoid')(x)\n",
        "\n",
        "# instantiate decoder model\n",
        "decoder = Model(latent_inputs, outputs, name='decoder')\n",
        "decoder.summary()\n",
        "plot_model(decoder, to_file='vae_mlp_decoder.png', show_shapes=True)\n",
        "\n",
        "# instantiate VAE model\n",
        "outputs = decoder(encoder(inputs)[2])\n",
        "vae = Model(inputs, outputs, name='vae_mlp')\n",
        "\n"
      ],
      "execution_count": null,
      "outputs": []
    },
    {
      "cell_type": "code",
      "metadata": {
        "id": "ux9oAF-8M9Ly"
      },
      "source": [
        "\n",
        "if (False):\n",
        "  parser = argparse.ArgumentParser()\n",
        "  help_ = \"Load h5 model trained weights\"\n",
        "  parser.add_argument(\"-w\", \"--weights\", help=help_)\n",
        "  help_ = \"Use mse loss instead of binary cross entropy (default)\"\n",
        "  parser.add_argument(\"-m\",\n",
        "                      \"--mse\",\n",
        "                      help=help_, action='store_true')\n",
        "  args = parser.parse_args()\n",
        "else:\n",
        "  args = {}\n",
        "  args[\"mse\"]= True\n",
        "  args[\"weights\"] = None\n",
        "  \n",
        "models = (encoder, decoder)\n",
        "data = (x_test, y_test)\n",
        "\n",
        "# VAE loss = mse_loss or xent_loss + kl_loss\n",
        "if args[\"mse\"]:\n",
        "    reconstruction_loss = mse(inputs, outputs)\n",
        "else:\n",
        "    reconstruction_loss = binary_crossentropy(inputs,\n",
        "                                              outputs)\n",
        "\n",
        "reconstruction_loss *= original_dim\n",
        "kl_loss = 1 + z_log_var - tf.keras.backend.square(z_mean) - tf.keras.backend.exp(z_log_var)\n",
        "kl_loss = tf.keras.backend.sum(kl_loss, axis=-1)\n",
        "kl_loss *= -0.5\n",
        "vae_loss = tf.keras.backend.mean(reconstruction_loss + kl_loss)\n",
        "\n",
        "vae.add_loss(vae_loss)\n"
      ],
      "execution_count": null,
      "outputs": []
    },
    {
      "cell_type": "code",
      "metadata": {
        "id": "4idWDn3QcSIu"
      },
      "source": [
        "vae.compile(optimizer='adam')\n",
        "# vae.summary()\n",
        "\n",
        "plot_model(vae,\n",
        "           to_file='vae_mlp.png',\n",
        "           show_shapes=True)\n",
        "\n",
        "min_delta=.001\n",
        "modelName = modelNamePat.format(name=\"_\".join( (\"ae\", \"noisy\", str(latent_dim)) )  )\n",
        "es_callback = tf.keras.callbacks.EarlyStopping(monitor='val_loss', min_delta=min_delta, patience=2, verbose=0, mode='auto', baseline=None, restore_best_weights=True)\n",
        "\n",
        "# Create callbacks                                  \n",
        "callbacks = [ es_callback,\n",
        "              #ModelCheckpoint(filepath=modelName + \".ckpt\", monitor='val_loss', save_best_only=True)\n",
        "            ]\n",
        "\n",
        "if args[\"weights\"]is not None:\n",
        "    vae.load_weights(args[\"weights\"])\n",
        "else:\n",
        "  # train the autoencoder\n",
        "  vae.fit(x_train,\n",
        "          epochs=epochs,\n",
        "          batch_size=batch_size,\n",
        "          validation_data=(x_test, None),\n",
        "          callbacks=callbacks\n",
        "         )\n",
        "  # vae.save_weights('_vae_mlp_mnist.h5')\n",
        "\n"
      ],
      "execution_count": null,
      "outputs": []
    },
    {
      "cell_type": "code",
      "metadata": {
        "id": "CkEVHbnhfW79"
      },
      "source": [
        "vae.save_weights('_vae_mlp_mnist.h5')"
      ],
      "execution_count": null,
      "outputs": []
    },
    {
      "cell_type": "code",
      "metadata": {
        "id": "_fOoy1AYXRfV"
      },
      "source": [
        "for l in vae.layers:\n",
        "  print(l.name)"
      ],
      "execution_count": null,
      "outputs": []
    },
    {
      "cell_type": "markdown",
      "metadata": {
        "id": "fu0O0WASsHnK"
      },
      "source": [
        "## Vary each dimension of the latent vector, within a range\n",
        "- On the botton plot\n",
        "  - horizontal component increases slant from left (low) to high (right) ?\n",
        "    - also seems to do other things"
      ]
    },
    {
      "cell_type": "code",
      "metadata": {
        "id": "RxQkmgUttAhg"
      },
      "source": [
        "# Change the \"style\" from Colab default to plt default\n",
        "plt.style.use('default')"
      ],
      "execution_count": null,
      "outputs": []
    },
    {
      "cell_type": "code",
      "metadata": {
        "id": "a8iPifHcVX3R"
      },
      "source": [
        "plot_results(models,\n",
        "             data,\n",
        "             batch_size=batch_size,\n",
        "             model_name=\"vae_mlp\")\n"
      ],
      "execution_count": null,
      "outputs": []
    }
  ]
}