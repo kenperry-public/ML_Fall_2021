{
 "cells": [
  {
   "cell_type": "code",
   "execution_count": 1,
   "metadata": {
    "slideshow": {
     "slide_type": "notes"
    }
   },
   "outputs": [
    {
     "data": {
      "text/latex": [
       "$$\n",
       "\\newcommand{\\x}{\\mathbf{x}}\n",
       "\\newcommand{\\tx}{\\tilde{\\x}}\n",
       "\\newcommand{\\y}{\\mathbf{y}}\n",
       "\\newcommand{\\b}{\\mathbf{b}}\n",
       "\\newcommand{\\c}{\\mathbf{c}}\n",
       "\\newcommand{\\e}{\\mathbf{e}}\n",
       "\\newcommand{\\z}{\\mathbf{z}}\n",
       "\\newcommand{\\h}{\\mathbf{h}}\n",
       "\\newcommand{\\u}{\\mathbf{u}}\n",
       "\\newcommand{\\v}{\\mathbf{v}}\n",
       "\\newcommand{\\w}{\\mathbf{w}}\n",
       "\\newcommand{\\W}{\\mathbf{W}}\n",
       "\\newcommand{\\X}{\\mathbf{X}}\n",
       "\\newcommand{\\KL}{\\mathbf{KL}}\n",
       "\\newcommand{\\E}{{\\mathbb{E}}}\n",
       "\\newcommand{\\ip}{\\mathbf{{(i)}}}\n",
       "%\n",
       "% Test set\n",
       "\\newcommand{\\xt}{\\underline{\\x}}\n",
       "\\newcommand{\\yt}{\\underline{\\y}}\n",
       "\\newcommand{\\Xt}{\\underline{\\X}}\n",
       "\\newcommand{\\perfm}{\\mathcal{P}}\n",
       "%\n",
       "% \\ll indexes a layer; we can change the actual letter\n",
       "\\newcommand{\\ll}{l}\n",
       "\\newcommand{\\llp}{{(\\ll)}}\n",
       "%\n",
       "\\newcommand{Thetam}{\\Theta_{-0}}\n",
       "\n",
       "% CNN\n",
       "\\newcommand{\\kernel}{\\mathbf{k}} \n",
       "\\newcommand{\\dim}{d}\n",
       "%\n",
       "%\n",
       "\n",
       "% RNN\n",
       "% \\tt indexes a time step\n",
       "\\newcommand{\\tt}{t}\n",
       "\\newcommand{\\tp}{{(\\tt)}}\n",
       "%\n",
       "%\n",
       "\n",
       "% LSTM\n",
       "\\newcommand{\\g}{\\mathbf{g}}\n",
       "\\newcommand{\\remember}{\\mathbf{remember}}\n",
       "\\newcommand{\\save}{\\mathbf{save}}\n",
       "\\newcommand{\\focus}{\\mathbf{focus}}\n",
       "%\n",
       "%\n",
       "\n",
       "\\newcommand{\\loss}{\\mathcal{L}}\n",
       "\\newcommand{\\cost}{\\mathcal{L}}\n",
       "%\n",
       "%                     \n",
       "\\newcommand{\\pdata}{p_\\text{data}}\n",
       "\\newcommand{\\pmodel}{p_\\text{model}}\n",
       "%\n",
       "% SVM\n",
       "\\newcommand{\\margin}{{\\mathbb{m}}}\n",
       "\\newcommand{\\lmk}{\\boldsymbol{\\ell}}\n",
       "%\n",
       "% Functions with arguments\n",
       "\\def\\xsy#1#2{#1^#2}\n",
       "\\def\\rand#1{\\tilde{#1}}\n",
       "\\def\\randx{\\rand{\\x}}\n",
       "\\def\\randy{\\rand{\\y}}\n",
       "\\def\\trans#1{\\dot{#1}}\n",
       "\\def\\transx{\\trans{\\x}}\n",
       "\\def\\transy{\\trans{\\y}}\n",
       "%\n",
       "\\def\\argmax#1{\\underset{#1} {\\operatorname{argmax}} }\n",
       "\\def\\argmin#1{\\underset{#1} {\\operatorname{argmin}} }\n",
       "\\def\\max#1{\\underset{#1} {\\operatorname{max}} }\n",
       "\\def\\min#1{\\underset{#1} {\\operatorname{min}} }\n",
       "%\n",
       "\\def\\pr#1{\\mathcal{p}(#1)}\n",
       "\\def\\prc#1#2{\\mathcal{p}(#1 \\; | \\; #2)}\n",
       "\\def\\cnt#1{\\mathcal{count}_{#1}}\n",
       "\\def\\node#1{\\mathbb{#1}}\n",
       "%\n",
       "\\newcommand{\\floor}[1]{\\left\\lfloor #1 \\right\\rfloor}\n",
       "\\newcommand{\\ceil}[1]{\\left\\lceil #1 \\right\\rceil}\n",
       "%\n",
       "\\def\\loc#1{{\\text{##} {#1}}}\n",
       "%\n",
       "$$\n"
      ],
      "text/plain": [
       "<IPython.core.display.Latex object>"
      ]
     },
     "metadata": {},
     "output_type": "display_data"
    }
   ],
   "source": [
    "%run Latex_macros.ipynb"
   ]
  },
  {
   "cell_type": "markdown",
   "metadata": {
    "slideshow": {
     "slide_type": "notes"
    }
   },
   "source": [
    "$$\n",
    "\\newcommand{\\contextcsm}{\\mathcal{c}}\n",
    "\\newcommand{\\querycsm}{\\mathcal{q}}\n",
    "$$"
   ]
  },
  {
   "cell_type": "markdown",
   "metadata": {
    "slideshow": {
     "slide_type": "slide"
    }
   },
   "source": [
    "# Implementing Attention: motivation\n",
    "Attention is a mechanism\n",
    "- Used in sequence to sequence problems\n",
    "- Which maps a Source sequence to a Target sequence\n",
    "- Often (but not necessarily) utilizing an Encoder-Decoder architecture"
   ]
  },
  {
   "cell_type": "markdown",
   "metadata": {
    "slideshow": {
     "slide_type": "subslide"
    }
   },
   "source": [
    "- To cause the Decoder at time step $\\tt$\n",
    "- To \"attend to\" (focus it's attention)\n",
    "- On a particular prefix of the Source input sequence $\\x$"
   ]
  },
  {
   "cell_type": "markdown",
   "metadata": {
    "slideshow": {
     "slide_type": "subslide"
    }
   },
   "source": [
    "That is\n",
    "- Each output of the Target sequence\n",
    "- Is dependent on a \"context\"\n",
    "- Which is defined by the Source sequence\n"
   ]
  },
  {
   "cell_type": "markdown",
   "metadata": {
    "slideshow": {
     "slide_type": "subslide"
    }
   },
   "source": [
    "<table>\n",
    "    <tr>\n",
    "        <th><center>Decoder: Attention</center></th>\n",
    "    </tr>\n",
    "    <tr>\n",
    "        <td><img src=\"images/Decoder_attention.png\"></td>\n",
    "    </tr>\n",
    "</table>"
   ]
  },
  {
   "cell_type": "markdown",
   "metadata": {
    "slideshow": {
     "slide_type": "subslide"
    }
   },
   "source": [
    "We will show the basic mechanism for Attention.\n",
    "\n",
    "[Attention is all you need](https://arxiv.org/pdf/1706.03762.pdf) is the key paper on this topic\n",
    "\n",
    "Note that current practice\n",
    "- Most often uses a variant of this mechanism called *Self Attention*\n",
    "- In a popular and powerful architecture called the *Transformer*\n",
    "- We will provide a simplified explanation using a two part Encoder-Decoder model\n",
    "- Without specifically referring to the architecture of either part"
   ]
  },
  {
   "cell_type": "markdown",
   "metadata": {
    "slideshow": {
     "slide_type": "subslide"
    }
   },
   "source": [
    "# Implementing attention: mechanics\n",
    "\n",
    "\n",
    "To state the problem of Attention more abstractly\n",
    "- The source sequence is $\\x_{(1)}, \\ldots, \\x_{(\\bar{T})} $.\n",
    "- The Encoder associates a \"context\" $\\bar{\\contextcsm}_{(\\bar{\\tt})}$ with the prefix of $\\x$ ending at $\\bar{\\tt}$, for $1 \\le \\bar{\\tt} \\le T$\n",
    "   \n",
    "- The Decoder associates a context $\\contextcsm_\\tp$ with the output generation\n"
   ]
  },
  {
   "cell_type": "markdown",
   "metadata": {
    "slideshow": {
     "slide_type": "subslide"
    }
   },
   "source": [
    "The problem of Attention\n",
    "- Is finding the Source context $\\bar{\\contextcsm}_{(\\bar{\\tt})}$\n",
    "- That most closely matches the desired Target context $\\contextcsm_\\tp$"
   ]
  },
  {
   "cell_type": "markdown",
   "metadata": {
    "slideshow": {
     "slide_type": "subslide"
    }
   },
   "source": [
    "Getting a little philosophical:\n",
    "\n",
    "- A \"thought\" is an amorphous collection of neurons in the brain: \"A sunny day at the beach\"\n",
    "- A \"sentence\" is a sequence of words that describes the thought\n",
    "- The \"sentence\" may be different in two distinct languages, but they represent the same thought\n",
    "- The context is the Neural Networks representation of the thought\n",
    "\n",
    "So we translate from Source sequence to Target sequence\n",
    "- By matching the contexts of the Source (Encoder) and Target (Decoder)\n",
    "    "
   ]
  },
  {
   "cell_type": "markdown",
   "metadata": {
    "slideshow": {
     "slide_type": "subslide"
    }
   },
   "source": [
    "The Source context $\\bar{\\contextcsm}_{(\\bar{\\tt})}$\n",
    "- Can be generated by a smaller Neural Network that is part of the Encoder\n",
    "\n",
    "Similarly the Target context $\\contextcsm_\\tp$\n",
    "- Can be generated by a smaller Neural Network that is part of the Decoder"
   ]
  },
  {
   "cell_type": "markdown",
   "metadata": {
    "slideshow": {
     "slide_type": "subslide"
    }
   },
   "source": [
    "To summarize\n",
    "- The Encoder creates a context for each prefix of the Source input\n",
    "- The Decoder creates a context for each prefix of the Target output\n",
    "- At step $\\tt$, the Decoder \"attends to\" the Source context $\\bar{\\contextcsm}_{(\\bar{\\tt})}$that most closely matches the Target context $\\contextcsm_\\tp$\n",
    "    - Using this context to generate $\\hat{\\y}_\\tp$"
   ]
  },
  {
   "cell_type": "markdown",
   "metadata": {
    "slideshow": {
     "slide_type": "subslide"
    }
   },
   "source": [
    "The mechanism we use to match Target and Source contexts is called *Context Sensitive Memory*\n",
    "which we introduced in a previous [module](Neural_Programming.ipynb#Soft-Lookup)"
   ]
  },
  {
   "cell_type": "markdown",
   "metadata": {
    "slideshow": {
     "slide_type": "subslide"
    }
   },
   "source": [
    "# Using Context Sensitive Memory to implement Attention\n",
    "\n",
    "\n",
    "Remember that our ultimate goal\n",
    "- Is to generate a context\n",
    "- That can be passed as the second argument $\\mathbf{s}$\n",
    "- Of the Decoder function responsible for generating Decoder output $\\hat{\\y}_\\tp$\n",
    "$$\n",
    "\\hat{\\y}_\\tp = D( \\h_\\tp; \\mathbf{s})\n",
    "$$"
   ]
  },
  {
   "cell_type": "markdown",
   "metadata": {
    "slideshow": {
     "slide_type": "subslide"
    }
   },
   "source": [
    "Context Sensitive Memory is exactly what we need to obtain a value for $\\mathbf{s}$.\n",
    "\n",
    "At time step $\\tt$, the Decoder: \n",
    "- Generates a query $\\querycsm_\\tp$ containing the Target context\n",
    "- Matches the query against Context Sensitive Memory $M$\n",
    "- To obtain a Source context\n",
    "- That is equated to $\\mathbf{s}$\n",
    "\n"
   ]
  },
  {
   "cell_type": "markdown",
   "metadata": {
    "slideshow": {
     "slide_type": "slide"
    }
   },
   "source": [
    "We will simplify the presentation\n",
    "by identifying contexts with latent states (short-term memory)\n",
    "$$\n",
    "\\begin{array}[lll]\\\\\n",
    "\\bar{\\contextcsm}_{(\\bar{\\tt})} & = & \\bar{\\h}_{(\\bar{\\tt})} \\\\\n",
    "\\contextcsm_\\tp & = & \\h_\\tp\n",
    "\\end{array}\n",
    "$$\n",
    "\n",
    "So matching Source and Target contexts becomes equivalent to matching Encoder and Decoder latent states.\n",
    "\n"
   ]
  },
  {
   "cell_type": "markdown",
   "metadata": {
    "slideshow": {
     "slide_type": "slide"
    }
   },
   "source": [
    "Define Context Sensitive Memory $M$ to be the pairs\n",
    "$$\n",
    "\\{ \\,(\\bar{\\h}_{(\\bar{\\tt})}, \\bar{\\h}_{(\\bar{\\tt})} )\\;| \\;1 \\le \\bar{\\tt} \\le \\bar{T} \\,\\}\n",
    "$$\n",
    "\n",
    "In other words:\n",
    "- We make the key equal to the value\n",
    "- And both are equal to the Source the context $\\bar{\\contextcsm}_{(\\bar{\\tt})}$"
   ]
  },
  {
   "cell_type": "markdown",
   "metadata": {
    "slideshow": {
     "slide_type": "subslide"
    }
   },
   "source": [
    "The Decoder then performs a Soft Lookup against Context Sensitive Memory $M$\n",
    "- Using query $\\querycsm_\\tp = \\h_\\tp$\n",
    "- Returning a \"blend\" of Encoder latent states\n",
    "- As required by the \"Choose\" box"
   ]
  },
  {
   "cell_type": "markdown",
   "metadata": {
    "slideshow": {
     "slide_type": "subslide"
    }
   },
   "source": [
    "## Extensions\n",
    "\n",
    "It is not strictly necessary to equate contexts with latent states\n",
    "- One can implement a small Neural Network to find the \"best\" representation for contexts\n",
    "\n",
    "Nor is it necessary for the keys and values of the Context Sensitive Memory to be identical.\n",
    "   \n",
    "The only requirement is that the Encoder and Decoder \"speak the same language\" and produce values \n",
    "of the appropriate type.\n",
    "\n"
   ]
  },
  {
   "cell_type": "markdown",
   "metadata": {
    "slideshow": {
     "slide_type": "slide"
    }
   },
   "source": [
    "# Conclusion\n",
    "\n",
    "We introduced Context Sensitive Memory as the vehicle with which to implement the Attention mechanism.\n",
    "\n",
    "Context Sensitive Memory is similar to a Python dict/hash, but allowing \"soft\" matching.\n",
    "\n",
    "It is easily built using the basic building blocks of Neural Networks, like Fully Connected layers.\n",
    "\n",
    "This is another concrete example of Neural Programming."
   ]
  },
  {
   "cell_type": "code",
   "execution_count": 2,
   "metadata": {
    "slideshow": {
     "slide_type": "slide"
    }
   },
   "outputs": [
    {
     "name": "stdout",
     "output_type": "stream",
     "text": [
      "Done\n"
     ]
    }
   ],
   "source": [
    "print(\"Done\")"
   ]
  }
 ],
 "metadata": {
  "celltoolbar": "Slideshow",
  "kernelspec": {
   "display_name": "Python 3",
   "language": "python",
   "name": "python3"
  },
  "language_info": {
   "codemirror_mode": {
    "name": "ipython",
    "version": 3
   },
   "file_extension": ".py",
   "mimetype": "text/x-python",
   "name": "python",
   "nbconvert_exporter": "python",
   "pygments_lexer": "ipython3",
   "version": "3.7.4"
  },
  "toc": {
   "base_numbering": 1,
   "nav_menu": {},
   "number_sections": true,
   "sideBar": true,
   "skip_h1_title": false,
   "title_cell": "Table of Contents",
   "title_sidebar": "Contents",
   "toc_cell": false,
   "toc_position": {
    "height": "calc(100% - 180px)",
    "left": "10px",
    "top": "150px",
    "width": "370.594px"
   },
   "toc_section_display": true,
   "toc_window_display": false
  }
 },
 "nbformat": 4,
 "nbformat_minor": 2
}
