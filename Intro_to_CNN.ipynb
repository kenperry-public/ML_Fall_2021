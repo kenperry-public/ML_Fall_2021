{
 "cells": [
  {
   "cell_type": "code",
   "execution_count": 1,
   "metadata": {
    "slideshow": {
     "slide_type": "notes"
    }
   },
   "outputs": [
    {
     "data": {
      "text/latex": [
       "$$\n",
       "\\newcommand{\\x}{\\mathbf{x}}\n",
       "\\newcommand{\\tx}{\\tilde{\\x}}\n",
       "\\newcommand{\\y}{\\mathbf{y}}\n",
       "\\newcommand{\\b}{\\mathbf{b}}\n",
       "\\newcommand{\\c}{\\mathbf{c}}\n",
       "\\newcommand{\\e}{\\mathbf{e}}\n",
       "\\newcommand{\\z}{\\mathbf{z}}\n",
       "\\newcommand{\\h}{\\mathbf{h}}\n",
       "\\newcommand{\\u}{\\mathbf{u}}\n",
       "\\newcommand{\\v}{\\mathbf{v}}\n",
       "\\newcommand{\\w}{\\mathbf{w}}\n",
       "\\newcommand{\\W}{\\mathbf{W}}\n",
       "\\newcommand{\\X}{\\mathbf{X}}\n",
       "\\newcommand{\\KL}{\\mathbf{KL}}\n",
       "\\newcommand{\\E}{{\\mathbb{E}}}\n",
       "\\newcommand{\\ip}{\\mathbf{{(i)}}}\n",
       "%\n",
       "% Test set\n",
       "\\newcommand{\\xt}{\\underline{\\x}}\n",
       "\\newcommand{\\yt}{\\underline{\\y}}\n",
       "\\newcommand{\\Xt}{\\underline{\\X}}\n",
       "\\newcommand{\\perfm}{\\mathcal{P}}\n",
       "%\n",
       "% \\ll indexes a layer; we can change the actual letter\n",
       "\\newcommand{\\ll}{l}\n",
       "\\newcommand{\\llp}{{(\\ll)}}\n",
       "%\n",
       "\\newcommand{Thetam}{\\Theta_{-0}}\n",
       "\n",
       "% CNN\n",
       "\\newcommand{\\kernel}{\\mathbf{k}} \n",
       "\\newcommand{\\dim}{d}\n",
       "\\newcommand{\\idxspatial}{{\\text{idx}}}\n",
       "\\newcommand{\\summaxact}{\\text{max}}\n",
       "%\n",
       "%\n",
       "\n",
       "% RNN\n",
       "% \\tt indexes a time step\n",
       "\\newcommand{\\tt}{t}\n",
       "\\newcommand{\\tp}{{(\\tt)}}\n",
       "%\n",
       "%\n",
       "\n",
       "% LSTM\n",
       "\\newcommand{\\g}{\\mathbf{g}}\n",
       "\\newcommand{\\remember}{\\mathbf{remember}}\n",
       "\\newcommand{\\save}{\\mathbf{save}}\n",
       "\\newcommand{\\focus}{\\mathbf{focus}}\n",
       "%\n",
       "%\n",
       "% NLP\n",
       "\\newcommand{\\Vocab}{\\mathbf{V}}\n",
       "\\newcommand{\\v}{\\mathbf{v}}\n",
       "\\newcommand{\\offset}{o}\n",
       "\\newcommand{\\o}{o}\n",
       "\\newcommand{\\E}{\\mathbf{E}}\n",
       "%\n",
       "%\n",
       "\\newcommand{\\loss}{\\mathcal{L}}\n",
       "\\newcommand{\\cost}{\\mathcal{L}}\n",
       "%\n",
       "%                     \n",
       "\\newcommand{\\pdata}{p_\\text{data}}\n",
       "\\newcommand{\\pmodel}{p_\\text{model}}\n",
       "%\n",
       "% SVM\n",
       "\\newcommand{\\margin}{{\\mathbb{m}}}\n",
       "\\newcommand{\\lmk}{\\boldsymbol{\\ell}}\n",
       "%\n",
       "% Functions with arguments\n",
       "\\def\\xsy#1#2{#1^#2}\n",
       "\\def\\rand#1{\\tilde{#1}}\n",
       "\\def\\randx{\\rand{\\x}}\n",
       "\\def\\randy{\\rand{\\y}}\n",
       "\\def\\trans#1{\\dot{#1}}\n",
       "\\def\\transx{\\trans{\\x}}\n",
       "\\def\\transy{\\trans{\\y}}\n",
       "%\n",
       "\\def\\argmax#1{\\underset{#1} {\\operatorname{argmax}} }\n",
       "\\def\\argmin#1{\\underset{#1} {\\operatorname{argmin}} }\n",
       "\\def\\max#1{\\underset{#1} {\\operatorname{max}} }\n",
       "\\def\\min#1{\\underset{#1} {\\operatorname{min}} }\n",
       "%\n",
       "\\def\\pr#1{\\mathcal{p}(#1)}\n",
       "\\def\\prc#1#2{\\mathcal{p}(#1 \\; | \\; #2)}\n",
       "\\def\\cnt#1{\\mathcal{count}_{#1}}\n",
       "\\def\\node#1{\\mathbb{#1}}\n",
       "%\n",
       "\\newcommand{\\floor}[1]{\\left\\lfloor #1 \\right\\rfloor}\n",
       "\\newcommand{\\ceil}[1]{\\left\\lceil #1 \\right\\rceil}\n",
       "%\n",
       "\\def\\loc#1{{\\text{##} {#1}}}\n",
       "%\n",
       "$$\n"
      ],
      "text/plain": [
       "<IPython.core.display.Latex object>"
      ]
     },
     "metadata": {},
     "output_type": "display_data"
    }
   ],
   "source": [
    "%run Latex_macros.ipynb"
   ]
  },
  {
   "cell_type": "code",
   "execution_count": 2,
   "metadata": {
    "slideshow": {
     "slide_type": "notes"
    }
   },
   "outputs": [],
   "source": [
    "# My standard magic !  You will see this in almost all my notebooks.\n",
    "\n",
    "from IPython.core.interactiveshell import InteractiveShell\n",
    "InteractiveShell.ast_node_interactivity = \"all\"\n",
    "\n",
    "# Reload all modules imported with %aimport\n",
    "%load_ext autoreload\n",
    "%autoreload 1\n",
    "\n",
    "%matplotlib inline"
   ]
  },
  {
   "cell_type": "code",
   "execution_count": 3,
   "metadata": {
    "slideshow": {
     "slide_type": "notes"
    }
   },
   "outputs": [],
   "source": [
    "import pandas as pd\n",
    "import numpy as plt\n",
    "\n",
    "import matplotlib.pyplot as plt\n",
    "\n",
    "import os \n",
    "\n",
    "import cnn_helper\n",
    "%aimport cnn_helper\n",
    "cnnh = cnn_helper.CNN_Helper()"
   ]
  },
  {
   "cell_type": "markdown",
   "metadata": {
    "slideshow": {
     "slide_type": "subslide"
    }
   },
   "source": [
    "# Convolutional Neural Networks\n",
    "\n",
    "\n",
    "A Fully Connected/Dense Layer with a single unit producing a single feature at layer $\\ll$ computes\n",
    "$$\n",
    "\\y_{\\llp,1} = a_\\llp( \\y_{(\\ll-1)} \\cdot \\W_{\\llp,1} )\n",
    "$$"
   ]
  },
  {
   "cell_type": "markdown",
   "metadata": {
    "slideshow": {
     "slide_type": "subslide"
    }
   },
   "source": [
    "<div>\n",
    "    <br>\n",
    "    <center><h3>Fully connected, single feature</h3></center>\n",
    "    <br>\n",
    "<img src=images/FC_1feature.png width=\"60%\">\n",
    "    <br>\n",
    "    </div>"
   ]
  },
  {
   "cell_type": "markdown",
   "metadata": {
    "slideshow": {
     "slide_type": "subslide"
    }
   },
   "source": [
    "That is: \n",
    "- It recognizes one new synthetic feature\n",
    "- In the entirety (\"fully\" connected) of $\\y_{(\\ll-1)}$\n",
    "- Using pattern $\\W_{\\llp,1}$ (same size as $\\y_{(\\ll-1)}$)\n",
    "- To reduce $\\y_{(\\ll-1)}$ to a single feature."
   ]
  },
  {
   "cell_type": "markdown",
   "metadata": {
    "slideshow": {
     "slide_type": "subslide"
    }
   },
   "source": [
    "The pattern being matched spans the entirety of the input\n",
    "- Might it be useful to recognize a smaller feature that spanned only *part* of the input ?\n",
    "- What if this smaller feature could occur *anywhere* in the input rather than at a fixed location ?\n",
    "\n",
    "For example\n",
    "- A \"spike\" in a time series\n",
    "- The eye in a face\n",
    "\n",
    "A pattern whose length was that of the entire input could recognize the smaller feature only in a *specific* place"
   ]
  },
  {
   "cell_type": "markdown",
   "metadata": {
    "slideshow": {
     "slide_type": "subslide"
    }
   },
   "source": [
    "This motivates some of the key ideas behind a Convolutional Layer.\n",
    "- Recognize smaller features within the whole\n",
    "- Using small patterns\n",
    "- That are \"slid\" over the entire input\n",
    "- Localizing the specific part of the input containing the smaller feature"
   ]
  },
  {
   "cell_type": "markdown",
   "metadata": {
    "slideshow": {
     "slide_type": "subslide"
    }
   },
   "source": [
    "Here is the connectivity diagram of a Convolutional Layer producing a **single** feature  at layer $\\ll$\n",
    "- Using a pattern of length $3$\n",
    "- Eventually we will show how to produce *multiple* features\n",
    "- Hence the subscript \"1\" in $\\y_{\\llp,1}$ to denote the first output feature\n",
    "- The output $\\y_{\\llp,1}$ is called a *feature map* as it attempts to match a feature at each input location"
   ]
  },
  {
   "cell_type": "markdown",
   "metadata": {
    "slideshow": {
     "slide_type": "subslide"
    }
   },
   "source": [
    "<div>\n",
    "    <br>\n",
    "    <center><h3>Convolutional layer, single feature</h3></center>\n",
    "    <br>\n",
    "<img src=images/Conv1d_1feature_diag.png width=\"30%\">\n",
    "    <br>\n",
    "    </div>"
   ]
  },
  {
   "cell_type": "markdown",
   "metadata": {
    "slideshow": {
     "slide_type": "subslide"
    }
   },
   "source": [
    "The important differences of a Convolutional Layer from a Fully Connected Layer:\n",
    "\n",
    "- Produces a new *single* feature *for each location* in $\\y_{(\\ll-1)}$\n",
    "\n",
    "- $\\y_{\\llp,1}$ is thus a *vector* (first feature map) of the same length as $\\y_{(\\ll-1)}$\n",
    "- $\\y_\\llp$ is a vector of $n_\\llp$ feature maps, one feature map per output feature\n",
    "- The output feature at location $j$ is **not** fully connected to $\\y_{(\\ll-1)}$\n",
    "    - Only a subsequence of $\\y_{(\\ll-1)}$\n",
    "   "
   ]
  },
  {
   "cell_type": "markdown",
   "metadata": {
    "slideshow": {
     "slide_type": "subslide"
    }
   },
   "source": [
    "The lack of full connectivity is significant.\n",
    "\n",
    "In a Fully Connected network the relationship between\n",
    "-  Feature $j$ and features $(j-1), (j+1)$\n",
    "- Is no more significant than the relationship between feature $j$ and feature $k \\gg j$\n",
    "\n",
    "That is: spatial locality does not matter.\n",
    "    "
   ]
  },
  {
   "cell_type": "markdown",
   "metadata": {
    "slideshow": {
     "slide_type": "subslide"
    }
   },
   "source": [
    "To see the lack of relationship:\n",
    "\n",
    "Let $\\text{perm}$ be a random ordering of the integers in the range $[1 \\ldots n]$.\n",
    "\n",
    "Then\n",
    "- $\\x[ \\text{perm} ]$ is a permutation of input $\\x$\n",
    "- $\\Theta[ \\text{perm} ]$ is the corresponding permutation of parameters $\\Theta$.\n",
    "\n",
    "$$\n",
    "\\Theta^T \\cdot \\x =  \\Theta[ \\text{perm} ]^T \\cdot \\x[ \\text{perm} ] ]\n",
    "$$"
   ]
  },
  {
   "cell_type": "markdown",
   "metadata": {
    "slideshow": {
     "slide_type": "subslide"
    }
   },
   "source": [
    "But for certain types of inputs (e.g. images) it is easy to imagine that spatial locality is important.\n",
    "\n",
    "By using a small pattern (and restricting connectivity), we emphasize the importance of neighboring features over far way features."
   ]
  },
  {
   "cell_type": "markdown",
   "metadata": {
    "slideshow": {
     "slide_type": "subslide"
    }
   },
   "source": [
    "Mathematically, the One Dimensional Convolutional Layer (Conv1d) we have shown computes $\\y_\\llp$\n",
    "\n",
    "$$\n",
    "\\y_{\\llp,1} = \n",
    "\\begin{pmatrix}\n",
    "a_\\llp \\left( \\; N(\\y_{(\\ll-1)}, \\W_{\\llp,1}, 1) \\cdot \\W_{\\llp,1} \\; \\right) \\\\\n",
    "a_\\llp \\left( \\; N(\\y_{(\\ll-1)}, \\W_{\\llp,1}, 2) \\cdot \\W_{\\llp,1} \\; \\right) \\\\\n",
    "\\vdots \\\\\n",
    "a_\\llp \\left( \\; N(\\y_{(\\ll-1)}, \\W_{\\llp,1}, n_{(\\ll-1)} \\cdot \\W_{\\llp,1} \\; \\right) \\\\\n",
    "\\end{pmatrix}\n",
    "$$"
   ]
  },
  {
   "cell_type": "markdown",
   "metadata": {
    "slideshow": {
     "slide_type": "subslide"
    }
   },
   "source": [
    "where\n",
    "$N( \\; \\y_{(\\ll-1)}, \\W_{\\llp,1}, j \\; )$\n",
    "- selects a subsequence of $\\y_{(\\ll-1)}$ centered at $\\y_{(\\ll-1),j}$\n",
    "\n",
    "Note that\n",
    "- The *same* weight matrix $\\W_{\\llp,1}$ is used for the first feature at *all*locations $j$\n",
    "- The size of $\\W_{\\llp,1}$ is the same as the size of the subsequence $N( \\; \\y_{(\\ll-1)}, \\W_{\\llp,1}, j )$\n",
    "    - Since dot product is element-wise multiplication"
   ]
  },
  {
   "cell_type": "markdown",
   "metadata": {
    "slideshow": {
     "slide_type": "subslide"
    }
   },
   "source": [
    "So $\\W_{\\llp,1}$\n",
    "- Is a smaller pattern\n",
    "- That is applied to *each* location $j$ in $\\y_{(\\ll-1)}$\n",
    "- $\\y_{\\llp,1,j}$ recognizes the match/non-match of the smaller first feature at $\\y_{(\\ll-1),j}$"
   ]
  },
  {
   "cell_type": "markdown",
   "metadata": {
    "slideshow": {
     "slide_type": "subslide"
    }
   },
   "source": [
    "$\\W_{\\llp,1}$ is called a convolutional *filter* or *kernel*\n",
    "- We will often denote it $\\kernel_{\\llp, 1}$\n",
    "- But it is just a part of the weights $\\W$ of the multi-layer NN.\n",
    "- We use $f_\\llp$ to denote the size of the smaller pattern called the *filter size*\n",
    "  "
   ]
  },
  {
   "cell_type": "markdown",
   "metadata": {
    "slideshow": {
     "slide_type": "subslide"
    }
   },
   "source": [
    "**Note**\n",
    "\n",
    "The default activation $a_\\llp$ in Keras is \"linear\"\n",
    "- That is: it returns the dot product input unchanged\n",
    "- Always know what is the default activation for a layer; better yet: always specify !"
   ]
  },
  {
   "cell_type": "markdown",
   "metadata": {
    "slideshow": {
     "slide_type": "subslide"
    }
   },
   "source": [
    "A *Convolution* is often depicted as\n",
    "- A filter/kernel\n",
    "- That is slid over each location in the input\n",
    "- Producing a corresponding output for that location\n",
    "\n",
    "Here's a picture with a kernel of size $f_\\llp = 3$\n"
   ]
  },
  {
   "cell_type": "markdown",
   "metadata": {
    "slideshow": {
     "slide_type": "subslide"
    }
   },
   "source": [
    "<div><br>\n",
    "    <center><h3>Conv 1D, single feature: sliding the filter</h3></center>\n",
    "    <br>\n",
    "<img src=images/W9_L1_S19_Conv1d_sliding.png width=\"80%\">\n",
    "    <!-- edX: Original: <img src=\"images/Conv1d_sliding.png\"> replace by EdX created image --> \n",
    "</div>"
   ]
  },
  {
   "cell_type": "markdown",
   "metadata": {
    "slideshow": {
     "slide_type": "subslide"
    }
   },
   "source": [
    "After sliding the Kernel over the whole $\\y_{(\\ll-1)}$ we get:"
   ]
  },
  {
   "cell_type": "markdown",
   "metadata": {
    "slideshow": {
     "slide_type": "subslide"
    }
   },
   "source": [
    "<div>\n",
    "    <br>\n",
    "    <center><h3>Conv 1D, single feature</h3></center>\n",
    "    <br>\n",
    "<img src=images/W9_L1_S22_Conv1d.png width=\"80%\">\n",
    "    <!-- edX: Original: <img src=\"images/Conv1d.png\"> replace by EdX created image --> \n",
    "    </div>"
   ]
  },
  {
   "cell_type": "markdown",
   "metadata": {
    "slideshow": {
     "slide_type": "subslide"
    }
   },
   "source": [
    "Element $j$ of output $\\y_{\\llp.1}$ (i.e., $\\y_{\\llp,1,j}$)\n",
    "- Is colored (e.g., $j=1$ is colored Red)\n",
    "- Is computed by applying the *same* $\\W_{\\llp,1}$ to \n",
    "    - The $f_\\llp$ elements of $\\y_{(\\ll-1)}$, centered at $\\y_{(\\ll-1),j}$\n",
    "    - Which have the same color as the output"
   ]
  },
  {
   "cell_type": "markdown",
   "metadata": {
    "slideshow": {
     "slide_type": "subslide"
    }
   },
   "source": [
    "Note however that,  at the \"ends\" of $\\y_{(\\ll-1)}$\n",
    "the kernel\n",
    "may extend beyond the input vector.\n",
    "\n",
    "In that case $\\y_{(\\ll-1)}$ may be extended with *padding* (elements with $0$ value typically)"
   ]
  },
  {
   "cell_type": "markdown",
   "metadata": {
    "slideshow": {
     "slide_type": "slide"
    }
   },
   "source": [
    "# Conv2d in action\n",
    "\n",
    "Pre-Deep Learning: manually specified filters have a rich history for image recognition.\n",
    "\n",
    "Here is a list of manually constructed kernels (templates) that have proven useful\n",
    "- [list of filter matrices](https://en.wikipedia.org/wiki/Kernel_(image_processing))\n",
    "\n",
    "Let's see some in action to get a better intuition."
   ]
  },
  {
   "cell_type": "code",
   "execution_count": 4,
   "metadata": {
    "slideshow": {
     "slide_type": "subslide"
    }
   },
   "outputs": [
    {
     "data": {
      "image/png": "[encoded data removed]",
      "text/plain": [
       "<Figure size 864x864 with 15 Axes>"
      ]
     },
     "metadata": {
      "needs_background": "light"
     },
     "output_type": "display_data"
    }
   ],
   "source": [
    "_= cnnh.plot_convs()"
   ]
  },
  {
   "cell_type": "markdown",
   "metadata": {
    "slideshow": {
     "slide_type": "subslide"
    }
   },
   "source": [
    "- A bright element in the output indicates a high, positive dot product\n",
    "- A dark element in the output indicates a low (or highly negative) dot product\n",
    "\n",
    "In our example\n",
    "- $N = 2$: Two spatial dimensions\n",
    "- One input feature: $n_{(\\ll-1)} = 1$ \n",
    "- One output feature $n_\\llp = 1$\n",
    "- $f_\\llp = 3$\n",
    "    - Kernel is $(3 \\times 3 \\times 1)$."
   ]
  },
  {
   "cell_type": "markdown",
   "metadata": {
    "slideshow": {
     "slide_type": "subslide"
    }
   },
   "source": [
    "The template match will be maximized when\n",
    "- high values in the input correspond to high values in the matching location of the template\n",
    "- low values in the input correspond to low values in the matching locations of the template"
   ]
  },
  {
   "cell_type": "code",
   "execution_count": 5,
   "metadata": {
    "slideshow": {
     "slide_type": "slide"
    }
   },
   "outputs": [
    {
     "name": "stdout",
     "output_type": "stream",
     "text": [
      "Done\n"
     ]
    }
   ],
   "source": [
    "print(\"Done\")"
   ]
  }
 ],
 "metadata": {
  "celltoolbar": "Slideshow",
  "kernelspec": {
   "display_name": "Python 3",
   "language": "python",
   "name": "python3"
  },
  "language_info": {
   "codemirror_mode": {
    "name": "ipython",
    "version": 3
   },
   "file_extension": ".py",
   "mimetype": "text/x-python",
   "name": "python",
   "nbconvert_exporter": "python",
   "pygments_lexer": "ipython3",
   "version": "3.7.4"
  },
  "toc": {
   "base_numbering": 1,
   "nav_menu": {},
   "number_sections": true,
   "sideBar": true,
   "skip_h1_title": false,
   "title_cell": "Table of Contents",
   "title_sidebar": "Contents",
   "toc_cell": false,
   "toc_position": {},
   "toc_section_display": true,
   "toc_window_display": false
  }
 },
 "nbformat": 4,
 "nbformat_minor": 2
}
